{
 "cells": [
  {
   "cell_type": "code",
   "execution_count": 124,
   "id": "0f832f38",
   "metadata": {
    "ExecuteTime": {
     "end_time": "2022-04-19T23:11:51.161588Z",
     "start_time": "2022-04-19T23:11:51.142676Z"
    }
   },
   "outputs": [],
   "source": [
    "from twython import Twython\n",
    "import pandas as pd\n",
    "from tqdm import tqdm"
   ]
  },
  {
   "cell_type": "code",
   "execution_count": 4,
   "id": "139b8ce4",
   "metadata": {
    "ExecuteTime": {
     "end_time": "2022-04-19T21:47:30.227703Z",
     "start_time": "2022-04-19T21:47:30.222246Z"
    }
   },
   "outputs": [],
   "source": [
    "python_tweets = Twython('KytN5DmtRxSTGeC4MmEDDRjF3', 'SarGEbusNDeD8ydSM290pz2FMeQMCEvnrRJ7Cur26EiWsCuiij')"
   ]
  },
  {
   "cell_type": "code",
   "execution_count": 264,
   "id": "733a6cbb",
   "metadata": {
    "ExecuteTime": {
     "end_time": "2022-04-20T08:20:05.395109Z",
     "start_time": "2022-04-20T08:20:05.387680Z"
    }
   },
   "outputs": [],
   "source": [
    "query = {'q': 'украина',\n",
    "        'result_type': 'mixed',\n",
    "        'count': 100,\n",
    "        'lang': 'ru',\n",
    "        'until': '2022-04-12'\n",
    "        }"
   ]
  },
  {
   "cell_type": "code",
   "execution_count": 266,
   "id": "1802949a",
   "metadata": {
    "ExecuteTime": {
     "end_time": "2022-04-20T08:20:22.312158Z",
     "start_time": "2022-04-20T08:20:21.774337Z"
    }
   },
   "outputs": [],
   "source": [
    "search_result = python_tweets.search(**query)['statuses']"
   ]
  },
  {
   "cell_type": "code",
   "execution_count": 267,
   "id": "5e86a731",
   "metadata": {
    "ExecuteTime": {
     "end_time": "2022-04-20T08:20:23.995408Z",
     "start_time": "2022-04-20T08:20:23.964351Z"
    }
   },
   "outputs": [],
   "source": [
    "tweets_dict = {'id':[], 'id_str':[], 'created_at':[], 'text':[], \n",
    "               'name':[], 'screen_name':[],\n",
    "               'location':[], 'followers_count':[], 'geo':[],\n",
    "               'place':[], 'retweet_count':[], 'favorite_count':[]}\n",
    "for tweet in search_result:\n",
    "    tweets_dict['id'].append(tweet['id'])\n",
    "    tweets_dict['id_str'].append(tweet['id_str'])\n",
    "    tweets_dict['created_at'].append(tweet['created_at'])\n",
    "    tweets_dict['text'].append(tweet['text'])\n",
    "    tweets_dict['name'].append(tweet['user']['name'])\n",
    "    tweets_dict['screen_name'].append(tweet['user']['screen_name'])\n",
    "    tweets_dict['location'].append(tweet['user']['location'])\n",
    "    tweets_dict['followers_count'].append(tweet['user']['followers_count'])\n",
    "    tweets_dict['geo'].append(tweet['geo'])\n",
    "    tweets_dict['place'].append(tweet['place'])\n",
    "    tweets_dict['retweet_count'].append(tweet['retweet_count'])\n",
    "    tweets_dict['favorite_count'].append(tweet['favorite_count'])\n",
    "    \n",
    "df = pd.DataFrame(tweets_dict)"
   ]
  },
  {
   "cell_type": "code",
   "execution_count": 268,
   "id": "e2f17592",
   "metadata": {
    "ExecuteTime": {
     "end_time": "2022-04-20T08:20:24.370253Z",
     "start_time": "2022-04-20T08:20:24.353843Z"
    },
    "scrolled": true
   },
   "outputs": [
    {
     "data": {
      "text/html": [
       "<div>\n",
       "<style scoped>\n",
       "    .dataframe tbody tr th:only-of-type {\n",
       "        vertical-align: middle;\n",
       "    }\n",
       "\n",
       "    .dataframe tbody tr th {\n",
       "        vertical-align: top;\n",
       "    }\n",
       "\n",
       "    .dataframe thead th {\n",
       "        text-align: right;\n",
       "    }\n",
       "</style>\n",
       "<table border=\"1\" class=\"dataframe\">\n",
       "  <thead>\n",
       "    <tr style=\"text-align: right;\">\n",
       "      <th></th>\n",
       "      <th>id</th>\n",
       "      <th>id_str</th>\n",
       "      <th>created_at</th>\n",
       "      <th>text</th>\n",
       "      <th>name</th>\n",
       "      <th>screen_name</th>\n",
       "      <th>location</th>\n",
       "      <th>followers_count</th>\n",
       "      <th>geo</th>\n",
       "      <th>place</th>\n",
       "      <th>retweet_count</th>\n",
       "      <th>favorite_count</th>\n",
       "    </tr>\n",
       "  </thead>\n",
       "  <tbody>\n",
       "  </tbody>\n",
       "</table>\n",
       "</div>"
      ],
      "text/plain": [
       "Empty DataFrame\n",
       "Columns: [id, id_str, created_at, text, name, screen_name, location, followers_count, geo, place, retweet_count, favorite_count]\n",
       "Index: []"
      ]
     },
     "execution_count": 268,
     "metadata": {},
     "output_type": "execute_result"
    }
   ],
   "source": [
    "df"
   ]
  },
  {
   "cell_type": "code",
   "execution_count": 86,
   "id": "c5a6a797",
   "metadata": {
    "ExecuteTime": {
     "end_time": "2022-04-19T22:42:39.399612Z",
     "start_time": "2022-04-19T22:42:39.386230Z"
    }
   },
   "outputs": [],
   "source": [
    "df['text'] = df['text'].str.upper()"
   ]
  },
  {
   "cell_type": "code",
   "execution_count": 87,
   "id": "dea9acd6",
   "metadata": {
    "ExecuteTime": {
     "end_time": "2022-04-19T22:42:40.078060Z",
     "start_time": "2022-04-19T22:42:40.060521Z"
    }
   },
   "outputs": [
    {
     "data": {
      "text/plain": [
       "False    96\n",
       "True      4\n",
       "Name: text, dtype: int64"
      ]
     },
     "execution_count": 87,
     "metadata": {},
     "output_type": "execute_result"
    }
   ],
   "source": [
    "df['text'].str.contains('ПУТИН').value_counts()"
   ]
  },
  {
   "cell_type": "code",
   "execution_count": 90,
   "id": "f62631ff",
   "metadata": {
    "ExecuteTime": {
     "end_time": "2022-04-19T22:42:49.860809Z",
     "start_time": "2022-04-19T22:42:49.847467Z"
    }
   },
   "outputs": [
    {
     "data": {
      "text/plain": [
       "True     81\n",
       "False    19\n",
       "Name: text, dtype: int64"
      ]
     },
     "execution_count": 90,
     "metadata": {},
     "output_type": "execute_result"
    }
   ],
   "source": [
    "df['text'].str.contains('УКРАИН').value_counts()"
   ]
  },
  {
   "cell_type": "code",
   "execution_count": 97,
   "id": "89073f6b",
   "metadata": {
    "ExecuteTime": {
     "end_time": "2022-04-19T22:44:55.364316Z",
     "start_time": "2022-04-19T22:44:55.347791Z"
    }
   },
   "outputs": [
    {
     "data": {
      "text/plain": [
       "'На Фиджи арестовали яхту, которую связывают с российским олигархом Керимовым - https://t.co/xKXJv69oaP #Киев… https://t.co/xylg6T1jEB'"
      ]
     },
     "execution_count": 97,
     "metadata": {},
     "output_type": "execute_result"
    }
   ],
   "source": [
    "df[~df['text'].str.contains('УКРАИН')]['text'][3]"
   ]
  },
  {
   "cell_type": "code",
   "execution_count": null,
   "id": "13abec65",
   "metadata": {},
   "outputs": [],
   "source": []
  },
  {
   "cell_type": "code",
   "execution_count": null,
   "id": "f5442641",
   "metadata": {},
   "outputs": [],
   "source": []
  },
  {
   "cell_type": "code",
   "execution_count": null,
   "id": "9d4b801b",
   "metadata": {},
   "outputs": [],
   "source": []
  },
  {
   "cell_type": "markdown",
   "id": "10082ddb",
   "metadata": {},
   "source": [
    "# Collect tweets based on keywords"
   ]
  },
  {
   "cell_type": "code",
   "execution_count": 278,
   "id": "6866d194",
   "metadata": {
    "ExecuteTime": {
     "end_time": "2022-04-20T10:33:28.604878Z",
     "start_time": "2022-04-20T10:33:28.594350Z"
    }
   },
   "outputs": [],
   "source": [
    "special_words = ['война', 'украина', 'россия', 'спецоперация', 'киев', 'мин обороны', 'луганск', 'донецк',\n",
    "                 'лнр', 'днр', 'донбас', 'путин', 'нато', 'мариуполь', 'харьков', 'военные', 'мин обороны', 'санкции',\n",
    "                 'зеленский']"
   ]
  },
  {
   "cell_type": "code",
   "execution_count": 279,
   "id": "10901f3e",
   "metadata": {
    "ExecuteTime": {
     "end_time": "2022-04-20T10:33:29.605682Z",
     "start_time": "2022-04-20T10:33:29.595704Z"
    }
   },
   "outputs": [],
   "source": [
    "dates = ['2022-04-13', '2022-04-14', '2022-04-15', '2022-04-16', \n",
    "         '2022-04-17', '2022-04-18', '2022-04-19', '2022-04-20']"
   ]
  },
  {
   "cell_type": "code",
   "execution_count": 286,
   "id": "52ed5b60",
   "metadata": {
    "ExecuteTime": {
     "end_time": "2022-04-20T10:57:39.350735Z",
     "start_time": "2022-04-20T10:57:39.336941Z"
    }
   },
   "outputs": [
    {
     "data": {
      "text/plain": [
       "152"
      ]
     },
     "execution_count": 286,
     "metadata": {},
     "output_type": "execute_result"
    }
   ],
   "source": [
    "len(special_words)*len(dates)"
   ]
  },
  {
   "cell_type": "code",
   "execution_count": 241,
   "id": "9f945dc1",
   "metadata": {
    "ExecuteTime": {
     "end_time": "2022-04-19T23:49:32.617616Z",
     "start_time": "2022-04-19T23:49:32.599759Z"
    }
   },
   "outputs": [],
   "source": [
    "df = pd.DataFrame(columns=['id', 'id_str', 'created_at', 'text', 'name', 'screen_name', 'location',\n",
    "       'followers_count', 'geo', 'place', 'retweet_count', 'favorite_count'])"
   ]
  },
  {
   "cell_type": "code",
   "execution_count": 291,
   "id": "4bb9957f",
   "metadata": {
    "ExecuteTime": {
     "end_time": "2022-04-20T15:11:10.946785Z",
     "start_time": "2022-04-20T15:09:07.342588Z"
    },
    "scrolled": true
   },
   "outputs": [
    {
     "name": "stderr",
     "output_type": "stream",
     "text": [
      "100%|███████████████████████████████████████████| 19/19 [02:03<00:00,  6.50s/it]\n"
     ]
    }
   ],
   "source": [
    "for word in tqdm(special_words):\n",
    "    for date in dates:\n",
    "        if len(df) == 0:\n",
    "            since_id_value = 0\n",
    "        else:\n",
    "            since_id_value = int(df['id'].max())\n",
    "\n",
    "        query = {'q': word,\n",
    "        'result_type': 'recent',\n",
    "        'count': 100,\n",
    "        'lang': 'ru',\n",
    "        'until': date,\n",
    "        #'since_id': since_id_value\n",
    "        }\n",
    "\n",
    "        search_result = python_tweets.search(**query)['statuses']\n",
    "\n",
    "        tweets_dict = {'id':[], 'id_str':[], 'created_at':[], 'text':[], \n",
    "               'name':[], 'screen_name':[],\n",
    "               'location':[], 'followers_count':[], 'geo':[],\n",
    "               'place':[], 'retweet_count':[], 'favorite_count':[]}\n",
    "\n",
    "        for tweet in search_result:\n",
    "            try:\n",
    "                place = tweet['place']['country']\n",
    "            except:\n",
    "                place = 'NoData'\n",
    "            tweets_dict['id'].append(tweet['id'])\n",
    "            tweets_dict['id_str'].append(tweet['id_str'])\n",
    "            tweets_dict['created_at'].append(tweet['created_at'])\n",
    "            tweets_dict['text'].append(tweet['text'])\n",
    "            tweets_dict['name'].append(tweet['user']['name'])\n",
    "            tweets_dict['screen_name'].append(tweet['user']['screen_name'])\n",
    "            tweets_dict['location'].append(tweet['user']['location'])\n",
    "            tweets_dict['followers_count'].append(tweet['user']['followers_count'])\n",
    "            tweets_dict['geo'].append(tweet['geo'])\n",
    "            tweets_dict['place'].append(place)\n",
    "            tweets_dict['retweet_count'].append(tweet['retweet_count'])\n",
    "            tweets_dict['favorite_count'].append(tweet['favorite_count'])\n",
    "\n",
    "        df2 = pd.DataFrame(tweets_dict)\n",
    "\n",
    "        df = pd.concat([df,df2])\n",
    "\n",
    "    #df['id'] = df['id'].astype(int)"
   ]
  },
  {
   "cell_type": "code",
   "execution_count": 292,
   "id": "346e0b14",
   "metadata": {
    "ExecuteTime": {
     "end_time": "2022-04-20T15:11:10.979930Z",
     "start_time": "2022-04-20T15:11:10.948738Z"
    }
   },
   "outputs": [
    {
     "data": {
      "text/plain": [
       "(116736, 12)"
      ]
     },
     "execution_count": 292,
     "metadata": {},
     "output_type": "execute_result"
    }
   ],
   "source": [
    "df = df.reset_index(drop='index')\n",
    "\n",
    "df.shape"
   ]
  },
  {
   "cell_type": "code",
   "execution_count": 293,
   "id": "2a12d68c",
   "metadata": {
    "ExecuteTime": {
     "end_time": "2022-04-20T15:11:11.114783Z",
     "start_time": "2022-04-20T15:11:10.980833Z"
    }
   },
   "outputs": [
    {
     "data": {
      "text/plain": [
       "(25798, 12)"
      ]
     },
     "execution_count": 293,
     "metadata": {},
     "output_type": "execute_result"
    }
   ],
   "source": [
    "df.drop_duplicates().shape"
   ]
  },
  {
   "cell_type": "code",
   "execution_count": 295,
   "id": "0a5b2fdd",
   "metadata": {
    "ExecuteTime": {
     "end_time": "2022-04-20T15:12:57.124531Z",
     "start_time": "2022-04-20T15:12:56.781840Z"
    }
   },
   "outputs": [],
   "source": [
    "df.drop_duplicates().to_csv('tweets.csv', index=False)"
   ]
  },
  {
   "cell_type": "code",
   "execution_count": null,
   "id": "7bb30564",
   "metadata": {},
   "outputs": [],
   "source": []
  },
  {
   "cell_type": "code",
   "execution_count": 258,
   "id": "945fa8c0",
   "metadata": {
    "ExecuteTime": {
     "end_time": "2022-04-20T00:01:23.234883Z",
     "start_time": "2022-04-20T00:01:23.201231Z"
    }
   },
   "outputs": [
    {
     "data": {
      "text/html": [
       "<div>\n",
       "<style scoped>\n",
       "    .dataframe tbody tr th:only-of-type {\n",
       "        vertical-align: middle;\n",
       "    }\n",
       "\n",
       "    .dataframe tbody tr th {\n",
       "        vertical-align: top;\n",
       "    }\n",
       "\n",
       "    .dataframe thead th {\n",
       "        text-align: right;\n",
       "    }\n",
       "</style>\n",
       "<table border=\"1\" class=\"dataframe\">\n",
       "  <thead>\n",
       "    <tr style=\"text-align: right;\">\n",
       "      <th></th>\n",
       "      <th>text</th>\n",
       "    </tr>\n",
       "  </thead>\n",
       "  <tbody>\n",
       "    <tr>\n",
       "      <th>0</th>\n",
       "      <td>RT @mechtacariya: Вот видео резонансного заявл...</td>\n",
       "    </tr>\n",
       "    <tr>\n",
       "      <th>1</th>\n",
       "      <td>RT @afonja20142: Австрийский канцлер К. Нехамм...</td>\n",
       "    </tr>\n",
       "    <tr>\n",
       "      <th>2</th>\n",
       "      <td>RT @wargonzoo: ⚡️Как оркестр штурмовал Мариупо...</td>\n",
       "    </tr>\n",
       "    <tr>\n",
       "      <th>3</th>\n",
       "      <td>@svtv_news Братоубийственной война - чушь. Рус...</td>\n",
       "    </tr>\n",
       "    <tr>\n",
       "      <th>4</th>\n",
       "      <td>RT @prof_preobr: Вы спрашивали, до каких глуби...</td>\n",
       "    </tr>\n",
       "    <tr>\n",
       "      <th>...</th>\n",
       "      <td>...</td>\n",
       "    </tr>\n",
       "    <tr>\n",
       "      <th>17330</th>\n",
       "      <td>Владимир Зеленский передал главе представитель...</td>\n",
       "    </tr>\n",
       "    <tr>\n",
       "      <th>17331</th>\n",
       "      <td>Вторая фаза войны. Российские войска начали «б...</td>\n",
       "    </tr>\n",
       "    <tr>\n",
       "      <th>17332</th>\n",
       "      <td>Зеленский: российские войска начали наступлени...</td>\n",
       "    </tr>\n",
       "    <tr>\n",
       "      <th>17381</th>\n",
       "      <td>RT @WKNtuUnoJQpnIMP: Зеленский визжит, что нач...</td>\n",
       "    </tr>\n",
       "    <tr>\n",
       "      <th>17397</th>\n",
       "      <td>RT @WKNtuUnoJQpnIMP: ‼️Первая химатака!😂😂\\n\\nП...</td>\n",
       "    </tr>\n",
       "  </tbody>\n",
       "</table>\n",
       "<p>4641 rows × 1 columns</p>\n",
       "</div>"
      ],
      "text/plain": [
       "                                                    text\n",
       "0      RT @mechtacariya: Вот видео резонансного заявл...\n",
       "1      RT @afonja20142: Австрийский канцлер К. Нехамм...\n",
       "2      RT @wargonzoo: ⚡️Как оркестр штурмовал Мариупо...\n",
       "3      @svtv_news Братоубийственной война - чушь. Рус...\n",
       "4      RT @prof_preobr: Вы спрашивали, до каких глуби...\n",
       "...                                                  ...\n",
       "17330  Владимир Зеленский передал главе представитель...\n",
       "17331  Вторая фаза войны. Российские войска начали «б...\n",
       "17332  Зеленский: российские войска начали наступлени...\n",
       "17381  RT @WKNtuUnoJQpnIMP: Зеленский визжит, что нач...\n",
       "17397  RT @WKNtuUnoJQpnIMP: ‼️Первая химатака!😂😂\\n\\nП...\n",
       "\n",
       "[4641 rows x 1 columns]"
      ]
     },
     "execution_count": 258,
     "metadata": {},
     "output_type": "execute_result"
    }
   ],
   "source": [
    "df[['text']].drop_duplicates()"
   ]
  },
  {
   "cell_type": "code",
   "execution_count": null,
   "id": "2632b87b",
   "metadata": {},
   "outputs": [],
   "source": []
  },
  {
   "cell_type": "code",
   "execution_count": null,
   "id": "1737607e",
   "metadata": {},
   "outputs": [],
   "source": []
  },
  {
   "cell_type": "code",
   "execution_count": 218,
   "id": "2bc17244",
   "metadata": {
    "ExecuteTime": {
     "end_time": "2022-04-19T23:30:04.371095Z",
     "start_time": "2022-04-19T23:30:04.348883Z"
    }
   },
   "outputs": [
    {
     "data": {
      "text/html": [
       "<div>\n",
       "<style scoped>\n",
       "    .dataframe tbody tr th:only-of-type {\n",
       "        vertical-align: middle;\n",
       "    }\n",
       "\n",
       "    .dataframe tbody tr th {\n",
       "        vertical-align: top;\n",
       "    }\n",
       "\n",
       "    .dataframe thead th {\n",
       "        text-align: right;\n",
       "    }\n",
       "</style>\n",
       "<table border=\"1\" class=\"dataframe\">\n",
       "  <thead>\n",
       "    <tr style=\"text-align: right;\">\n",
       "      <th></th>\n",
       "      <th>id</th>\n",
       "      <th>id_str</th>\n",
       "      <th>created_at</th>\n",
       "      <th>text</th>\n",
       "      <th>name</th>\n",
       "      <th>screen_name</th>\n",
       "      <th>location</th>\n",
       "      <th>followers_count</th>\n",
       "      <th>geo</th>\n",
       "      <th>place</th>\n",
       "      <th>retweet_count</th>\n",
       "      <th>favorite_count</th>\n",
       "    </tr>\n",
       "  </thead>\n",
       "  <tbody>\n",
       "    <tr>\n",
       "      <th>1248</th>\n",
       "      <td>1515113585038569476</td>\n",
       "      <td>1515113585038569476</td>\n",
       "      <td>Fri Apr 15 23:43:22 +0000 2022</td>\n",
       "      <td>Запрещённая Украина, [15 апр. 2022 в 23:00]\\nК...</td>\n",
       "      <td>Vlad Khabitsov (Хабиц. Влад)</td>\n",
       "      <td>vladneizvestnii</td>\n",
       "      <td>Алания</td>\n",
       "      <td>842</td>\n",
       "      <td>None</td>\n",
       "      <td>NoData</td>\n",
       "      <td>0</td>\n",
       "      <td>1</td>\n",
       "    </tr>\n",
       "    <tr>\n",
       "      <th>4070</th>\n",
       "      <td>1513647414275710981</td>\n",
       "      <td>1513647414275710981</td>\n",
       "      <td>Mon Apr 11 22:37:20 +0000 2022</td>\n",
       "      <td>RT @dayanat01: Мариуполь наш, поступает информ...</td>\n",
       "      <td>Manana Kasoeva</td>\n",
       "      <td>KasoevaManana</td>\n",
       "      <td></td>\n",
       "      <td>1</td>\n",
       "      <td>None</td>\n",
       "      <td>NoData</td>\n",
       "      <td>187</td>\n",
       "      <td>0</td>\n",
       "    </tr>\n",
       "    <tr>\n",
       "      <th>4863</th>\n",
       "      <td>1513942403497005067</td>\n",
       "      <td>1513942403497005067</td>\n",
       "      <td>Tue Apr 12 18:09:31 +0000 2022</td>\n",
       "      <td>RT @JoN_TM: Демилитаризация и денацификация\\nИ...</td>\n",
       "      <td>Denys Kuznetsov</td>\n",
       "      <td>dnk_inc_ua</td>\n",
       "      <td></td>\n",
       "      <td>1</td>\n",
       "      <td>None</td>\n",
       "      <td>NoData</td>\n",
       "      <td>101</td>\n",
       "      <td>0</td>\n",
       "    </tr>\n",
       "    <tr>\n",
       "      <th>5288</th>\n",
       "      <td>1515032549038383106</td>\n",
       "      <td>1515032549038383106</td>\n",
       "      <td>Fri Apr 15 18:21:22 +0000 2022</td>\n",
       "      <td>@maxidax @bbcrussian А ты знаешь где стоят сей...</td>\n",
       "      <td>ЯСЬКА 🇺🇦</td>\n",
       "      <td>ssnechiporik191</td>\n",
       "      <td></td>\n",
       "      <td>231</td>\n",
       "      <td>None</td>\n",
       "      <td>NoData</td>\n",
       "      <td>0</td>\n",
       "      <td>2</td>\n",
       "    </tr>\n",
       "    <tr>\n",
       "      <th>1002</th>\n",
       "      <td>1514256534259257348</td>\n",
       "      <td>1514256534259257348</td>\n",
       "      <td>Wed Apr 13 14:57:45 +0000 2022</td>\n",
       "      <td>Россия и Украина продолжают переговоры в онлай...</td>\n",
       "      <td>РИА Новости</td>\n",
       "      <td>rianru</td>\n",
       "      <td>Russia</td>\n",
       "      <td>2672882</td>\n",
       "      <td>None</td>\n",
       "      <td>NoData</td>\n",
       "      <td>16</td>\n",
       "      <td>31</td>\n",
       "    </tr>\n",
       "    <tr>\n",
       "      <th>6720</th>\n",
       "      <td>1514742583322423300</td>\n",
       "      <td>1514742583322423300</td>\n",
       "      <td>Thu Apr 14 23:09:09 +0000 2022</td>\n",
       "      <td>❗️ Дислокация основных формирований и объектов...</td>\n",
       "      <td>НеМожетБыть</td>\n",
       "      <td>Ne_Mojet_Byt</td>\n",
       "      <td></td>\n",
       "      <td>214</td>\n",
       "      <td>None</td>\n",
       "      <td>NoData</td>\n",
       "      <td>0</td>\n",
       "      <td>0</td>\n",
       "    </tr>\n",
       "    <tr>\n",
       "      <th>7544</th>\n",
       "      <td>1515115607993335813</td>\n",
       "      <td>1515115607993335813</td>\n",
       "      <td>Fri Apr 15 23:51:25 +0000 2022</td>\n",
       "      <td>Потери украинских военных в войне с Россией оц...</td>\n",
       "      <td>Дмитрий Гордон</td>\n",
       "      <td>dmitry_gordon</td>\n",
       "      <td>Украина</td>\n",
       "      <td>110146</td>\n",
       "      <td>None</td>\n",
       "      <td>NoData</td>\n",
       "      <td>15</td>\n",
       "      <td>91</td>\n",
       "    </tr>\n",
       "    <tr>\n",
       "      <th>2883</th>\n",
       "      <td>1515083436540796936</td>\n",
       "      <td>1515083436540796936</td>\n",
       "      <td>Fri Apr 15 21:43:34 +0000 2022</td>\n",
       "      <td>RT @VictorKvert2008: Лавров: \"Потопление крейс...</td>\n",
       "      <td>Ray Gun</td>\n",
       "      <td>RayGun31328402</td>\n",
       "      <td></td>\n",
       "      <td>48</td>\n",
       "      <td>None</td>\n",
       "      <td>NoData</td>\n",
       "      <td>505</td>\n",
       "      <td>0</td>\n",
       "    </tr>\n",
       "    <tr>\n",
       "      <th>6553</th>\n",
       "      <td>1514389860752060418</td>\n",
       "      <td>1514389860752060418</td>\n",
       "      <td>Wed Apr 13 23:47:33 +0000 2022</td>\n",
       "      <td>RT @pan_dok: Я правильно понимаю, если фашистс...</td>\n",
       "      <td>Oleksandr Shvets🇺🇦</td>\n",
       "      <td>cidonix</td>\n",
       "      <td>Украина</td>\n",
       "      <td>137</td>\n",
       "      <td>None</td>\n",
       "      <td>NoData</td>\n",
       "      <td>39</td>\n",
       "      <td>0</td>\n",
       "    </tr>\n",
       "    <tr>\n",
       "      <th>1263</th>\n",
       "      <td>1515110247341432838</td>\n",
       "      <td>1515110247341432838</td>\n",
       "      <td>Fri Apr 15 23:30:07 +0000 2022</td>\n",
       "      <td>Теперь понятно, что имели ввиду высокопоставле...</td>\n",
       "      <td>Председатель Ночи</td>\n",
       "      <td>21_yuriy</td>\n",
       "      <td>Русское Поволжье</td>\n",
       "      <td>1023</td>\n",
       "      <td>None</td>\n",
       "      <td>NoData</td>\n",
       "      <td>18</td>\n",
       "      <td>52</td>\n",
       "    </tr>\n",
       "  </tbody>\n",
       "</table>\n",
       "</div>"
      ],
      "text/plain": [
       "                       id               id_str  \\\n",
       "1248  1515113585038569476  1515113585038569476   \n",
       "4070  1513647414275710981  1513647414275710981   \n",
       "4863  1513942403497005067  1513942403497005067   \n",
       "5288  1515032549038383106  1515032549038383106   \n",
       "1002  1514256534259257348  1514256534259257348   \n",
       "6720  1514742583322423300  1514742583322423300   \n",
       "7544  1515115607993335813  1515115607993335813   \n",
       "2883  1515083436540796936  1515083436540796936   \n",
       "6553  1514389860752060418  1514389860752060418   \n",
       "1263  1515110247341432838  1515110247341432838   \n",
       "\n",
       "                          created_at  \\\n",
       "1248  Fri Apr 15 23:43:22 +0000 2022   \n",
       "4070  Mon Apr 11 22:37:20 +0000 2022   \n",
       "4863  Tue Apr 12 18:09:31 +0000 2022   \n",
       "5288  Fri Apr 15 18:21:22 +0000 2022   \n",
       "1002  Wed Apr 13 14:57:45 +0000 2022   \n",
       "6720  Thu Apr 14 23:09:09 +0000 2022   \n",
       "7544  Fri Apr 15 23:51:25 +0000 2022   \n",
       "2883  Fri Apr 15 21:43:34 +0000 2022   \n",
       "6553  Wed Apr 13 23:47:33 +0000 2022   \n",
       "1263  Fri Apr 15 23:30:07 +0000 2022   \n",
       "\n",
       "                                                   text  \\\n",
       "1248  Запрещённая Украина, [15 апр. 2022 в 23:00]\\nК...   \n",
       "4070  RT @dayanat01: Мариуполь наш, поступает информ...   \n",
       "4863  RT @JoN_TM: Демилитаризация и денацификация\\nИ...   \n",
       "5288  @maxidax @bbcrussian А ты знаешь где стоят сей...   \n",
       "1002  Россия и Украина продолжают переговоры в онлай...   \n",
       "6720  ❗️ Дислокация основных формирований и объектов...   \n",
       "7544  Потери украинских военных в войне с Россией оц...   \n",
       "2883  RT @VictorKvert2008: Лавров: \"Потопление крейс...   \n",
       "6553  RT @pan_dok: Я правильно понимаю, если фашистс...   \n",
       "1263  Теперь понятно, что имели ввиду высокопоставле...   \n",
       "\n",
       "                              name      screen_name          location  \\\n",
       "1248  Vlad Khabitsov (Хабиц. Влад)  vladneizvestnii           Алания    \n",
       "4070                Manana Kasoeva    KasoevaManana                     \n",
       "4863               Denys Kuznetsov       dnk_inc_ua                     \n",
       "5288                      ЯСЬКА 🇺🇦  ssnechiporik191                     \n",
       "1002                   РИА Новости           rianru            Russia   \n",
       "6720                   НеМожетБыть     Ne_Mojet_Byt                     \n",
       "7544                Дмитрий Гордон    dmitry_gordon           Украина   \n",
       "2883                       Ray Gun   RayGun31328402                     \n",
       "6553            Oleksandr Shvets🇺🇦          cidonix           Украина   \n",
       "1263             Председатель Ночи         21_yuriy  Русское Поволжье   \n",
       "\n",
       "     followers_count   geo   place retweet_count favorite_count  \n",
       "1248             842  None  NoData             0              1  \n",
       "4070               1  None  NoData           187              0  \n",
       "4863               1  None  NoData           101              0  \n",
       "5288             231  None  NoData             0              2  \n",
       "1002         2672882  None  NoData            16             31  \n",
       "6720             214  None  NoData             0              0  \n",
       "7544          110146  None  NoData            15             91  \n",
       "2883              48  None  NoData           505              0  \n",
       "6553             137  None  NoData            39              0  \n",
       "1263            1023  None  NoData            18             52  "
      ]
     },
     "execution_count": 218,
     "metadata": {},
     "output_type": "execute_result"
    }
   ],
   "source": [
    "df.sample(10)"
   ]
  },
  {
   "cell_type": "code",
   "execution_count": null,
   "id": "509a04c8",
   "metadata": {},
   "outputs": [],
   "source": []
  },
  {
   "cell_type": "code",
   "execution_count": null,
   "id": "890f00bb",
   "metadata": {},
   "outputs": [],
   "source": []
  },
  {
   "cell_type": "code",
   "execution_count": null,
   "id": "21806f64",
   "metadata": {},
   "outputs": [],
   "source": []
  },
  {
   "cell_type": "code",
   "execution_count": null,
   "id": "e72746b6",
   "metadata": {},
   "outputs": [],
   "source": []
  }
 ],
 "metadata": {
  "kernelspec": {
   "display_name": "Python 3 (ipykernel)",
   "language": "python",
   "name": "python3"
  },
  "language_info": {
   "codemirror_mode": {
    "name": "ipython",
    "version": 3
   },
   "file_extension": ".py",
   "mimetype": "text/x-python",
   "name": "python",
   "nbconvert_exporter": "python",
   "pygments_lexer": "ipython3",
   "version": "3.9.7"
  },
  "toc": {
   "base_numbering": 1,
   "nav_menu": {},
   "number_sections": true,
   "sideBar": true,
   "skip_h1_title": false,
   "title_cell": "Table of Contents",
   "title_sidebar": "Contents",
   "toc_cell": false,
   "toc_position": {},
   "toc_section_display": true,
   "toc_window_display": false
  }
 },
 "nbformat": 4,
 "nbformat_minor": 5
}
