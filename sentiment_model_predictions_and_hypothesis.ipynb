{
 "cells": [
  {
   "cell_type": "code",
   "execution_count": 177,
   "id": "8cb5cf12",
   "metadata": {
    "ExecuteTime": {
     "end_time": "2022-05-18T23:45:12.834653Z",
     "start_time": "2022-05-18T23:45:12.814956Z"
    }
   },
   "outputs": [
    {
     "name": "stderr",
     "output_type": "stream",
     "text": [
      "[nltk_data] Downloading package punkt to\n",
      "[nltk_data]     /Users/vladimirkulichenko/nltk_data...\n",
      "[nltk_data]   Package punkt is already up-to-date!\n",
      "[nltk_data] Downloading package stopwords to\n",
      "[nltk_data]     /Users/vladimirkulichenko/nltk_data...\n",
      "[nltk_data]   Package stopwords is already up-to-date!\n"
     ]
    },
    {
     "data": {
      "text/plain": [
       "True"
      ]
     },
     "execution_count": 177,
     "metadata": {},
     "output_type": "execute_result"
    }
   ],
   "source": [
    "import pandas as pd\n",
    "import numpy as np\n",
    "import re\n",
    "import string\n",
    "import nltk\n",
    "import scipy\n",
    "\n",
    "from twython import Twython\n",
    "\n",
    "from nltk.tokenize import word_tokenize\n",
    "from nltk.corpus import stopwords\n",
    "from nltk.stem import SnowballStemmer\n",
    "\n",
    "from sklearn.pipeline import Pipeline\n",
    "from sklearn.feature_extraction.text import TfidfVectorizer\n",
    "from sklearn.ensemble import RandomForestClassifier\n",
    "from sklearn.model_selection import train_test_split\n",
    "from sklearn.metrics import accuracy_score, recall_score, precision_score, roc_auc_score\n",
    "\n",
    "from IPython.display import clear_output\n",
    "\n",
    "import plotly.express as px\n",
    "\n",
    "import matplotlib.pyplot as plt\n",
    "import seaborn as sns\n",
    "\n",
    "from dostoevsky.tokenization import RegexTokenizer\n",
    "from dostoevsky.models import FastTextSocialNetworkModel\n",
    "\n",
    "from PIL import Image\n",
    "from wordcloud import WordCloud, STOPWORDS, ImageColorGenerator\n",
    "\n",
    "nltk.download('punkt')\n",
    "nltk.download('stopwords')"
   ]
  },
  {
   "cell_type": "markdown",
   "id": "abc91698",
   "metadata": {},
   "source": [
    "# Data"
   ]
  },
  {
   "cell_type": "code",
   "execution_count": 3,
   "id": "2c343d72",
   "metadata": {
    "ExecuteTime": {
     "end_time": "2022-05-18T11:56:14.688465Z",
     "start_time": "2022-05-18T11:56:14.516460Z"
    }
   },
   "outputs": [],
   "source": [
    "df = pd.read_csv('tweets_ml_predicted.csv')"
   ]
  },
  {
   "cell_type": "code",
   "execution_count": 4,
   "id": "d710e53e",
   "metadata": {
    "ExecuteTime": {
     "end_time": "2022-05-18T11:56:17.856165Z",
     "start_time": "2022-05-18T11:56:17.830146Z"
    }
   },
   "outputs": [
    {
     "data": {
      "text/html": [
       "<div>\n",
       "<style scoped>\n",
       "    .dataframe tbody tr th:only-of-type {\n",
       "        vertical-align: middle;\n",
       "    }\n",
       "\n",
       "    .dataframe tbody tr th {\n",
       "        vertical-align: top;\n",
       "    }\n",
       "\n",
       "    .dataframe thead th {\n",
       "        text-align: right;\n",
       "    }\n",
       "</style>\n",
       "<table border=\"1\" class=\"dataframe\">\n",
       "  <thead>\n",
       "    <tr style=\"text-align: right;\">\n",
       "      <th></th>\n",
       "      <th>Unnamed: 0</th>\n",
       "      <th>id</th>\n",
       "      <th>id_str</th>\n",
       "      <th>created_at</th>\n",
       "      <th>full_text</th>\n",
       "      <th>name</th>\n",
       "      <th>screen_name</th>\n",
       "      <th>location</th>\n",
       "      <th>followers_count</th>\n",
       "      <th>geo</th>\n",
       "      <th>place</th>\n",
       "      <th>retweet_count</th>\n",
       "      <th>favorite_count</th>\n",
       "      <th>operation_attitude</th>\n",
       "      <th>text_clean</th>\n",
       "      <th>text_tokenized</th>\n",
       "      <th>opinion_prediction</th>\n",
       "    </tr>\n",
       "  </thead>\n",
       "  <tbody>\n",
       "    <tr>\n",
       "      <th>10778</th>\n",
       "      <td>10778</td>\n",
       "      <td>1522361073038290944</td>\n",
       "      <td>1522361073038290944</td>\n",
       "      <td>Thu May 05 23:42:18 +0000 2022</td>\n",
       "      <td>@KhalilovaGulsum Ура!  россия!</td>\n",
       "      <td>26F7</td>\n",
       "      <td>JackieW57864724</td>\n",
       "      <td>NaN</td>\n",
       "      <td>15</td>\n",
       "      <td>NaN</td>\n",
       "      <td>NoData</td>\n",
       "      <td>0</td>\n",
       "      <td>0</td>\n",
       "      <td>0.0</td>\n",
       "      <td>ура  россия</td>\n",
       "      <td>['ур', 'росс']</td>\n",
       "      <td>1.0</td>\n",
       "    </tr>\n",
       "    <tr>\n",
       "      <th>10208</th>\n",
       "      <td>10208</td>\n",
       "      <td>1522349463674761218</td>\n",
       "      <td>1522349463674761218</td>\n",
       "      <td>Thu May 05 22:56:10 +0000 2022</td>\n",
       "      <td>RT @underground1973: Ох, Киев взял в заложники...</td>\n",
       "      <td>AndreiGurgurov</td>\n",
       "      <td>AndreiGurgurov1</td>\n",
       "      <td>NaN</td>\n",
       "      <td>120</td>\n",
       "      <td>NaN</td>\n",
       "      <td>NoData</td>\n",
       "      <td>3</td>\n",
       "      <td>0</td>\n",
       "      <td>NaN</td>\n",
       "      <td>ох, киев взял в заложники бабушку аню с харько...</td>\n",
       "      <td>['ох', 'ки', 'взял', 'заложник', 'бабушк', 'ан...</td>\n",
       "      <td>1.0</td>\n",
       "    </tr>\n",
       "    <tr>\n",
       "      <th>9564</th>\n",
       "      <td>9564</td>\n",
       "      <td>1522120899821981698</td>\n",
       "      <td>1522120899821981698</td>\n",
       "      <td>Thu May 05 07:47:56 +0000 2022</td>\n",
       "      <td>@gudkov_g @manstremus А чё в 14 на Донбас напа...</td>\n",
       "      <td>Akira</td>\n",
       "      <td>gavazovna</td>\n",
       "      <td>Finland</td>\n",
       "      <td>52</td>\n",
       "      <td>NaN</td>\n",
       "      <td>NoData</td>\n",
       "      <td>0</td>\n",
       "      <td>0</td>\n",
       "      <td>NaN</td>\n",
       "      <td>а чё в  на донбас напали безоруженные?</td>\n",
       "      <td>['че', 'донбас', 'напа', 'безоружен']</td>\n",
       "      <td>0.0</td>\n",
       "    </tr>\n",
       "  </tbody>\n",
       "</table>\n",
       "</div>"
      ],
      "text/plain": [
       "       Unnamed: 0                   id               id_str  \\\n",
       "10778       10778  1522361073038290944  1522361073038290944   \n",
       "10208       10208  1522349463674761218  1522349463674761218   \n",
       "9564         9564  1522120899821981698  1522120899821981698   \n",
       "\n",
       "                           created_at  \\\n",
       "10778  Thu May 05 23:42:18 +0000 2022   \n",
       "10208  Thu May 05 22:56:10 +0000 2022   \n",
       "9564   Thu May 05 07:47:56 +0000 2022   \n",
       "\n",
       "                                               full_text            name  \\\n",
       "10778                     @KhalilovaGulsum Ура!  россия!            26F7   \n",
       "10208  RT @underground1973: Ох, Киев взял в заложники...  AndreiGurgurov   \n",
       "9564   @gudkov_g @manstremus А чё в 14 на Донбас напа...           Akira   \n",
       "\n",
       "           screen_name location  followers_count  geo   place  retweet_count  \\\n",
       "10778  JackieW57864724      NaN               15  NaN  NoData              0   \n",
       "10208  AndreiGurgurov1      NaN              120  NaN  NoData              3   \n",
       "9564         gavazovna  Finland               52  NaN  NoData              0   \n",
       "\n",
       "       favorite_count  operation_attitude  \\\n",
       "10778               0                 0.0   \n",
       "10208               0                 NaN   \n",
       "9564                0                 NaN   \n",
       "\n",
       "                                              text_clean  \\\n",
       "10778                                        ура  россия   \n",
       "10208  ох, киев взял в заложники бабушку аню с харько...   \n",
       "9564              а чё в  на донбас напали безоруженные?   \n",
       "\n",
       "                                          text_tokenized  opinion_prediction  \n",
       "10778                                     ['ур', 'росс']                 1.0  \n",
       "10208  ['ох', 'ки', 'взял', 'заложник', 'бабушк', 'ан...                 1.0  \n",
       "9564               ['че', 'донбас', 'напа', 'безоружен']                 0.0  "
      ]
     },
     "execution_count": 4,
     "metadata": {},
     "output_type": "execute_result"
    }
   ],
   "source": [
    "df.sample(3)"
   ]
  },
  {
   "cell_type": "markdown",
   "id": "124de165",
   "metadata": {},
   "source": [
    "# Location\n",
    "\n",
    "In this section we will map contry to each location for the tweets, where there is any actual information about the country"
   ]
  },
  {
   "cell_type": "code",
   "execution_count": 179,
   "id": "86f39ae8",
   "metadata": {
    "ExecuteTime": {
     "end_time": "2022-05-18T23:47:59.575917Z",
     "start_time": "2022-05-18T23:47:59.549989Z"
    }
   },
   "outputs": [],
   "source": [
    "def clear_location_country(x):\n",
    "    '''\n",
    "    Function sets country, based on what is written in location.\n",
    "    '''\n",
    "    try:\n",
    "        if 'MOSC' in x or 'МОСК' in x or 'ПЕТЕРБУРГ' in x or 'PIETROBURGO' in x \\\n",
    "                       or 'SMOLENSK' in x or 'RUSSIA' in x or 'РОСТОВ' in x \\\n",
    "                       or 'УФА' in x or 'РОССИЯ' in x or 'ОМСК' in x \\\n",
    "                       or 'ЧЕЛЯБИНСК' in x or 'РЯЗАНЬ' in x or 'СМОЛЕНСК' in x \\\n",
    "                       or 'КАЛУГА' in x or 'ТУЛА' in x or 'САМАРА' in x \\\n",
    "                       or 'НОВОСИБИРСК' in x or 'КЕМЕРОВО' in x or 'ROSTOV-ON' in x \\\n",
    "                       or 'КРАСНОЯРСК' in x or 'ОРЕНБУРГ' in x or 'МУРМАНСК' in x \\\n",
    "                       or 'КАМЧАТСКИЙ' in x or 'ПЯТИГОРСК' in x or 'ЕКАТЕРИНБ' in x\\\n",
    "                       or 'МАЛАХОВКА' in x or 'САРАТОВ' in x or 'КРАСНОДАР' in x \\\n",
    "                       or 'ПЕНЗА' in x or 'ПЕРМЬ' in x or 'ДАГЕСТАН' in x or 'СИБИРЬ' in x \\\n",
    "                       or 'РОССИЙ' in x or 'TAGIL' in x or 'ЗЕЛЕНОГРАД' in x \\\n",
    "                       or 'SAINT PETERBURG' in x or 'РУССКАЯ' in x or 'СЕВАСТОПОЛЬ' in x \\\n",
    "                       or 'САМАРСКИЙ' in x or 'TATARSTAN' in x or 'КАЛИНИНГРАД' in x \\\n",
    "                       or 'СОЧИ' in x or 'МСК' in x or 'БЕЛГОРОДСКАЯ' in x \\\n",
    "                       or 'РОСТОВ-НА-ДОНУ' in x or 'С ПБ' in x or 'СПБ' in x \\\n",
    "                       or 'KALININGRAD' in x:\n",
    "            return 'Russia'\n",
    "        \n",
    "        if 'УКРАИНА' in x or 'UCRAINA' in x or 'UKRAINE' in x or 'УКРАЇНА' in x \\\n",
    "                           or 'КИЕВ' in x or 'KYIV' in x or 'ХАРЬКОВ' in x \\\n",
    "                           or 'КИЇВ' in x or 'ДОНЕЦК' in x or 'МАРИУПОЛЬ' in x \\\n",
    "                           or 'ОДЕССА' in x or 'ЧОРНОБАЇВКА' in x or 'ДОНБАСС' in x \\\n",
    "                           or 'МИКОЛАЇВ' in x or 'ЛУГАНСК' in x or 'CHERNIVTSI' in x:\n",
    "            return 'Ukraine'\n",
    "        \n",
    "        if 'БЕЛАРУСЬ' in x or 'МИНСК' in x or 'MINSK' in x:\n",
    "            return 'Belarus'\n",
    "        \n",
    "        if 'KAZAKHSTAN' in x or 'АЛМАТЫ' in x or 'КАЗАХСТАН' in x:\n",
    "            return 'Kazakhstan'\n",
    "        \n",
    "        if 'DEUTSCHLAND' in x or 'ГЕРМАНИ' in x or 'SASSONIA' in x or 'GERMANY' in x \\\n",
    "                                or 'KÖNIGSBERG' in x:\n",
    "            return 'Germany'\n",
    "        \n",
    "        if 'UNITED STATES' in x or 'USA' in x or 'NEW YORK' in x or 'BOSTON' in x \\\n",
    "                                or 'AMARILLO' in x or 'MIAMI' in x or 'DALLAS' in x \\\n",
    "                                or 'NY' in x or 'LOS ANGELES' in x or 'RESTON' in x \\\n",
    "                                or 'SHELTON' in x or 'SAN RAFAEL' in x or 'PHOENIX' in x \\\n",
    "                                or 'MASSACHUSETTS' in x or 'PHILADELPHIA' in x \\\n",
    "                                or 'НЬЮ-ЙОРК' in x or 'GREENWOOD, IN' in x:\n",
    "            return 'United States'\n",
    "        \n",
    "        if 'ITALIA' in x:\n",
    "            return 'Italy'\n",
    "        \n",
    "        if 'ESTONIA' in x:\n",
    "            return 'Estonia'\n",
    "        \n",
    "        if 'LATVIA' in x or 'LATVIJA' in x or 'RĪGA' in x:\n",
    "            return 'Latvia'\n",
    "        \n",
    "        if 'ТБИЛИСИ' in x or 'GEORGIA' in x or 'TBILISI' in x:\n",
    "            return 'Georgia'\n",
    "        \n",
    "        if 'SWITZERLAND' in x:\n",
    "            return 'Switzerland'\n",
    "        \n",
    "        if 'КАНАДА' in x or 'ONTARIO' in x:\n",
    "            return 'Canada'\n",
    "        \n",
    "        if 'BARCELON' in x or 'SPAIN' in x or 'ESPAN' in x:\n",
    "            return 'Spain'\n",
    "        \n",
    "        if 'LONDON' in x or 'ЛОНДОН' in x or 'DUBLIN' in x or 'WALES' in x \\\n",
    "                         or 'UNITED KINGDOM' in x:\n",
    "            return 'United Kingdom'\n",
    "        \n",
    "        if 'SUOMI' in x or 'FINLAND' in x:\n",
    "            return 'Finland'\n",
    "        \n",
    "        if 'ИЗРАИЛЬ' in x or 'ISRAEL' in x:\n",
    "            return 'Israel'\n",
    "        \n",
    "        if 'WARSZAWA' in x or 'POLAND' in x or 'POLSKA' in x:\n",
    "            return 'Poland'\n",
    "        \n",
    "        if 'INDIA' in x:\n",
    "            return 'India'\n",
    "        \n",
    "        if 'MONGOLIA' in x:\n",
    "            return 'Mongolia'\n",
    "        \n",
    "        if 'TÜRKİYE' in x:\n",
    "            return 'Turkey'\n",
    "        \n",
    "        if 'SLOVENIJA' in x:\n",
    "            return 'Slovenia'\n",
    "        \n",
    "        if 'PRAHA' in x or 'PRAGUE' in x:\n",
    "            return 'Czech Republic'\n",
    "        \n",
    "        if 'PARIS' in x or 'FRANCE' in x:\n",
    "            return 'France'\n",
    "        \n",
    "        if 'AUSTRALIA' in x:\n",
    "            return 'Australia'\n",
    "        \n",
    "        if 'LUXEMBOURG' in x:\n",
    "            return 'Luxembourg'\n",
    "        \n",
    "        if 'GÖTEBORG' in x or 'STOCKHOLM' in x:\n",
    "            return 'Sweden'\n",
    "        \n",
    "        if 'AZERBAIJAN' in x:\n",
    "            return 'Azerbaijan'\n",
    "        \n",
    "        if 'JAPAN' in x:\n",
    "            return 'Japan'\n",
    "        \n",
    "        if 'ЛИТВА' in x:\n",
    "            return 'Lithuania'\n",
    "        \n",
    "        if 'SERBIA' in x or 'BATAJNICA' in x:\n",
    "            return 'Serbia'\n",
    "        \n",
    "        if 'THAILAND' in x:\n",
    "            return 'Thailand'\n",
    "        \n",
    "        if 'MOROCCO' in x:\n",
    "            return 'Morocco'\n",
    "        \n",
    "        if 'БОЛГАРИЯ' in x:\n",
    "            return 'Bulgaria'\n",
    "        \n",
    "        if 'GREECE' in x:\n",
    "            return 'Greece'\n",
    "        \n",
    "        if 'ELVERUM, NORGE' in x:\n",
    "            return 'Norway'\n",
    "        \n",
    "        else:\n",
    "            return x\n",
    "    except:\n",
    "        return 'NO DATA'"
   ]
  },
  {
   "cell_type": "code",
   "execution_count": 81,
   "id": "dc42f603",
   "metadata": {
    "ExecuteTime": {
     "end_time": "2022-05-18T14:05:13.918264Z",
     "start_time": "2022-05-18T14:05:13.857126Z"
    }
   },
   "outputs": [],
   "source": [
    "df['location'] = df['location'].str.upper()\n",
    "\n",
    "df['country'] = [clear_location_country(x) for x in df['location']]"
   ]
  },
  {
   "cell_type": "markdown",
   "id": "77271fe1",
   "metadata": {},
   "source": [
    "# Sentiment analysis\n",
    "\n",
    "We are using pre-trained FastText model from Dostoevsky library that has achieved high scores on RuSentiment dataset."
   ]
  },
  {
   "cell_type": "code",
   "execution_count": 5,
   "id": "44a1971a",
   "metadata": {
    "ExecuteTime": {
     "end_time": "2022-05-18T11:57:05.601151Z",
     "start_time": "2022-05-18T11:57:05.433171Z"
    }
   },
   "outputs": [
    {
     "name": "stderr",
     "output_type": "stream",
     "text": [
      "Warning : `load_model` does not return WordVectorModel or SupervisedModel any more, but a `FastText` object which is very similar.\n"
     ]
    }
   ],
   "source": [
    "tokenizer = RegexTokenizer()\n",
    "\n",
    "model = FastTextSocialNetworkModel(tokenizer=tokenizer)"
   ]
  },
  {
   "cell_type": "markdown",
   "id": "33c47d72",
   "metadata": {},
   "source": [
    "Predicting probabily of each emotion"
   ]
  },
  {
   "cell_type": "code",
   "execution_count": 34,
   "id": "06304252",
   "metadata": {
    "ExecuteTime": {
     "end_time": "2022-05-18T12:31:23.395712Z",
     "start_time": "2022-05-18T12:31:14.164993Z"
    }
   },
   "outputs": [],
   "source": [
    "df['sentiment_positive'] = [model.predict([x])[0]['positive'] for x in df['text_clean']]\n",
    "df['sentiment_nagative'] = [model.predict([x])[0]['negative'] for x in df['text_clean']]\n",
    "df['sentiment_neutral'] = [model.predict([x])[0]['neutral'] for x in df['text_clean']]\n",
    "df['sentiment_skip'] = [model.predict([x])[0]['skip'] for x in df['text_clean']]\n",
    "df['sentiment_speech'] = [model.predict([x])[0]['speech'] for x in df['text_clean']]"
   ]
  },
  {
   "cell_type": "code",
   "execution_count": 18,
   "id": "43bf86e9",
   "metadata": {
    "ExecuteTime": {
     "end_time": "2022-05-18T12:01:46.721036Z",
     "start_time": "2022-05-18T12:01:46.696255Z"
    }
   },
   "outputs": [
    {
     "data": {
      "text/html": [
       "<div>\n",
       "<style scoped>\n",
       "    .dataframe tbody tr th:only-of-type {\n",
       "        vertical-align: middle;\n",
       "    }\n",
       "\n",
       "    .dataframe tbody tr th {\n",
       "        vertical-align: top;\n",
       "    }\n",
       "\n",
       "    .dataframe thead th {\n",
       "        text-align: right;\n",
       "    }\n",
       "</style>\n",
       "<table border=\"1\" class=\"dataframe\">\n",
       "  <thead>\n",
       "    <tr style=\"text-align: right;\">\n",
       "      <th></th>\n",
       "      <th>text_clean</th>\n",
       "      <th>sentiment_positive</th>\n",
       "      <th>sentiment_nagative</th>\n",
       "      <th>sentiment_neutral</th>\n",
       "      <th>sentiment_skip</th>\n",
       "      <th>sentiment_speech</th>\n",
       "    </tr>\n",
       "  </thead>\n",
       "  <tbody>\n",
       "    <tr>\n",
       "      <th>1747</th>\n",
       "      <td>что вислоухий,  тебя тоже поставили в не ловко...</td>\n",
       "      <td>0.003493</td>\n",
       "      <td>0.484390</td>\n",
       "      <td>0.692652</td>\n",
       "      <td>0.092698</td>\n",
       "      <td>0.032111</td>\n",
       "    </tr>\n",
       "    <tr>\n",
       "      <th>2073</th>\n",
       "      <td>украинские военные не подтверждают бэнкет в хе...</td>\n",
       "      <td>0.071601</td>\n",
       "      <td>0.629785</td>\n",
       "      <td>0.239359</td>\n",
       "      <td>0.067557</td>\n",
       "      <td>0.001377</td>\n",
       "    </tr>\n",
       "    <tr>\n",
       "      <th>11560</th>\n",
       "      <td>кроме онлайн камер люблю гулять по гугл картам...</td>\n",
       "      <td>0.098089</td>\n",
       "      <td>0.136618</td>\n",
       "      <td>0.507822</td>\n",
       "      <td>0.119213</td>\n",
       "      <td>0.001511</td>\n",
       "    </tr>\n",
       "    <tr>\n",
       "      <th>5239</th>\n",
       "      <td>в екатеринбурге у храма-на крови — на месте до...</td>\n",
       "      <td>0.065615</td>\n",
       "      <td>0.103759</td>\n",
       "      <td>0.515630</td>\n",
       "      <td>0.250923</td>\n",
       "      <td>0.003955</td>\n",
       "    </tr>\n",
       "    <tr>\n",
       "      <th>5366</th>\n",
       "      <td>а вы как думаете?ж/д состав с гуманитарным гру...</td>\n",
       "      <td>0.007587</td>\n",
       "      <td>0.355785</td>\n",
       "      <td>0.651365</td>\n",
       "      <td>0.160276</td>\n",
       "      <td>0.011697</td>\n",
       "    </tr>\n",
       "  </tbody>\n",
       "</table>\n",
       "</div>"
      ],
      "text/plain": [
       "                                              text_clean  sentiment_positive  \\\n",
       "1747   что вислоухий,  тебя тоже поставили в не ловко...            0.003493   \n",
       "2073   украинские военные не подтверждают бэнкет в хе...            0.071601   \n",
       "11560  кроме онлайн камер люблю гулять по гугл картам...            0.098089   \n",
       "5239   в екатеринбурге у храма-на крови — на месте до...            0.065615   \n",
       "5366   а вы как думаете?ж/д состав с гуманитарным гру...            0.007587   \n",
       "\n",
       "       sentiment_nagative  sentiment_neutral  sentiment_skip  sentiment_speech  \n",
       "1747             0.484390           0.692652        0.092698          0.032111  \n",
       "2073             0.629785           0.239359        0.067557          0.001377  \n",
       "11560            0.136618           0.507822        0.119213          0.001511  \n",
       "5239             0.103759           0.515630        0.250923          0.003955  \n",
       "5366             0.355785           0.651365        0.160276          0.011697  "
      ]
     },
     "execution_count": 18,
     "metadata": {},
     "output_type": "execute_result"
    }
   ],
   "source": [
    "df[['text_clean','sentiment_positive', 'sentiment_nagative', 'sentiment_neutral',\n",
    "    'sentiment_skip', 'sentiment_speech']].sample(5)"
   ]
  },
  {
   "cell_type": "markdown",
   "id": "a0a2c281",
   "metadata": {},
   "source": [
    "Changing probability to value with specific threshholds"
   ]
  },
  {
   "cell_type": "code",
   "execution_count": 35,
   "id": "2dc75af2",
   "metadata": {
    "ExecuteTime": {
     "end_time": "2022-05-18T12:31:23.400795Z",
     "start_time": "2022-05-18T12:31:23.396852Z"
    }
   },
   "outputs": [],
   "source": [
    "df['sentiment_positive'] = np.where(df['sentiment_positive'] > 0.5, 1, 0)\n",
    "df['sentiment_nagative'] = np.where(df['sentiment_nagative'] > 0.5, 1, 0)\n",
    "df['sentiment_neutral'] = np.where(df['sentiment_neutral'] > 0.5, 1, 0)\n",
    "df['sentiment_skip'] = np.where(df['sentiment_skip'] > 0.4, 1, 0)"
   ]
  },
  {
   "cell_type": "code",
   "execution_count": 40,
   "id": "2cddd3e0",
   "metadata": {
    "ExecuteTime": {
     "end_time": "2022-05-18T12:32:19.361788Z",
     "start_time": "2022-05-18T12:32:19.350101Z"
    }
   },
   "outputs": [],
   "source": [
    "mask = df['sentiment_skip'] != 1"
   ]
  },
  {
   "cell_type": "code",
   "execution_count": 52,
   "id": "45da8b87",
   "metadata": {
    "ExecuteTime": {
     "end_time": "2022-05-18T12:37:23.922276Z",
     "start_time": "2022-05-18T12:37:23.670509Z"
    }
   },
   "outputs": [
    {
     "data": {
      "image/png": "[encoded data removed]",
      "text/plain": [
       "<Figure size 1080x360 with 3 Axes>"
      ]
     },
     "metadata": {},
     "output_type": "display_data"
    }
   ],
   "source": [
    "f, axes = plt.subplots(1, 3, figsize=(15,5))\n",
    "\n",
    "sns.countplot(x=\"opinion_prediction\", hue=\"sentiment_positive\", data=df[mask], ax=axes[0])\n",
    "sns.countplot(x=\"opinion_prediction\", hue=\"sentiment_nagative\", data=df[mask], ax=axes[1])\n",
    "sns.countplot(x=\"opinion_prediction\", hue=\"sentiment_neutral\", data=df[mask], ax=axes[2])\n",
    "\n",
    "axes[0].set_title('Positive sentiment vs opinion prediction')\n",
    "axes[1].set_title('Negative sentiment vs opinion prediction')\n",
    "axes[2].set_title('Neutral sentiment vs opinion prediction')\n",
    "\n",
    "plt.show()"
   ]
  },
  {
   "cell_type": "code",
   "execution_count": 150,
   "id": "0381c60a",
   "metadata": {
    "ExecuteTime": {
     "end_time": "2022-05-18T18:59:47.654038Z",
     "start_time": "2022-05-18T18:59:47.553268Z"
    }
   },
   "outputs": [
    {
     "data": {
      "image/png": "[encoded data removed]",
      "text/plain": [
       "<Figure size 432x288 with 1 Axes>"
      ]
     },
     "metadata": {},
     "output_type": "display_data"
    }
   ],
   "source": [
    "sns.countplot(x=\"opinion_prediction\", hue=\"sentiment_nagative\", \n",
    "              data=df[mask & (df['opinion_prediction'] != 999)])\n",
    "plt.show()"
   ]
  },
  {
   "cell_type": "markdown",
   "id": "060411ec",
   "metadata": {},
   "source": [
    "# Hypothesis testing\n",
    "\n",
    "In this part we are testing statistical hypothesis"
   ]
  },
  {
   "cell_type": "markdown",
   "id": "691a9fb1",
   "metadata": {},
   "source": [
    "Functions to use to test the hypothesis"
   ]
  },
  {
   "cell_type": "code",
   "execution_count": 145,
   "id": "47041b15",
   "metadata": {
    "ExecuteTime": {
     "end_time": "2022-05-18T18:46:16.043733Z",
     "start_time": "2022-05-18T18:46:16.022775Z"
    }
   },
   "outputs": [],
   "source": [
    "def proportions_diff_confint_ind(sample1, sample2, alpha = 0.05):    \n",
    "    z = scipy.stats.norm.ppf(1 - alpha / 2.)\n",
    "    \n",
    "    p1 = float(sum(sample1)) / len(sample1)\n",
    "    p2 = float(sum(sample2)) / len(sample2)\n",
    "    \n",
    "    left_boundary = (p1 - p2) - z * np.sqrt(p1 * (1 - p1)/ len(sample1) + p2 * (1 - p2)/ len(sample2))\n",
    "    right_boundary = (p1 - p2) + z * np.sqrt(p1 * (1 - p1)/ len(sample1) + p2 * (1 - p2)/ len(sample2))\n",
    "    \n",
    "    return (left_boundary, right_boundary)\n",
    "\n",
    "def proportions_diff_z_stat_ind(sample1, sample2):\n",
    "    n1 = len(sample1)\n",
    "    n2 = len(sample2)\n",
    "    \n",
    "    p1 = float(sum(sample1)) / n1\n",
    "    p2 = float(sum(sample2)) / n2 \n",
    "    P = float(p1*n1 + p2*n2) / (n1 + n2)\n",
    "    \n",
    "    return (p1 - p2) / np.sqrt(P * (1 - P) * (1. / n1 + 1. / n2))\n",
    "\n",
    "def proportions_diff_z_test(z_stat, alternative = 'two-sided'):\n",
    "    if alternative not in ('two-sided', 'less', 'greater'):\n",
    "        raise ValueError(\"alternative not recognized\\n\"\n",
    "                         \"should be 'two-sided', 'less' or 'greater'\")\n",
    "    \n",
    "    if alternative == 'two-sided':\n",
    "        return 2 * (1 - scipy.stats.norm.cdf(np.abs(z_stat)))\n",
    "    \n",
    "    if alternative == 'less':\n",
    "        return scipy.stats.norm.cdf(z_stat)\n",
    "\n",
    "    if alternative == 'greater':\n",
    "        return 1 - scipy.stats.norm.cdf(z_stat)"
   ]
  },
  {
   "cell_type": "code",
   "execution_count": 97,
   "id": "8bfa14f2",
   "metadata": {
    "ExecuteTime": {
     "end_time": "2022-05-18T14:12:26.037377Z",
     "start_time": "2022-05-18T14:12:26.026750Z"
    }
   },
   "outputs": [],
   "source": [
    "countries_no_russia = ['United States', 'United Kingdom', 'Mongolia',\n",
    "             'Belarus', 'Poland', 'Germany', 'Kazakhstan', 'Canada', 'India', \n",
    "             'India', 'Latvia', 'Finland', 'France', 'Turkey', 'Czech Republic',\n",
    "             'Israel', 'Japan', 'Australia', 'Slovenia', 'Italy', 'Georgia', 'Switzerland',\n",
    "             'Estonia', 'Sweden', 'Luxembourg', 'Azerbaijan', 'Spain', 'Thailand',\n",
    "             'Serbia', 'Lithuania', 'Morocco', 'Bulgaria', 'Greece', ]#'Norway']"
   ]
  },
  {
   "cell_type": "markdown",
   "id": "b2fe1f21",
   "metadata": {},
   "source": [
    "Data samples information for each of the hypothesis"
   ]
  },
  {
   "cell_type": "code",
   "execution_count": 101,
   "id": "8404fbb5",
   "metadata": {
    "ExecuteTime": {
     "end_time": "2022-05-18T14:24:08.902067Z",
     "start_time": "2022-05-18T14:24:08.869607Z"
    }
   },
   "outputs": [
    {
     "name": "stdout",
     "output_type": "stream",
     "text": [
      "------------------------------------------------------\n",
      "For hypothesis 1 we have the following data samples:\n",
      "------------------------------------------------------\n",
      "8985 support Ukraine and 1152 of those have posted a tweet with a negative emotion.\n",
      "Percentage of negative tweets is 12.8%\n",
      "\n",
      "3797 support Russia and 536 of those have posted a tweet with a negative emotion.\n",
      "Percentage of negative tweets is 14.12%\n",
      "\n",
      "______________________________________________________\n",
      "------------------------------------------------------\n",
      "For hypothesis 2 we have the following data samples:\n",
      "------------------------------------------------------\n",
      "1779 tweets from Russia or Belarus\n",
      "538.0 of them support Russia\n",
      "Percentage of support is 30.0%\n",
      "\n",
      "982 tweets outside Russia or Belarus\n",
      "257.0 of them support Russia\n",
      "Percentage of support is 26.0%\n",
      "\n",
      "______________________________________________________\n",
      "------------------------------------------------------\n",
      "For hypothesis 3 we have the following data samples:\n",
      "------------------------------------------------------\n",
      "1976 tweets from Russia or Belarus\n",
      "250 of them are negative\n",
      "Percentage of negative tweets is 12.65%\n",
      "\n",
      "1081 tweets outside Russia or Belarus\n",
      "111 of them are negative\n",
      "Percentage of negative tweets is 10.27%\n",
      "\n"
     ]
    }
   ],
   "source": [
    "# Hypothesis 1\n",
    "\n",
    "opinion_0 = df.loc[df['opinion_prediction'] == 0, 'sentiment_nagative']\n",
    "opinion_1 = df.loc[df['opinion_prediction'] == 1, 'sentiment_nagative']\n",
    "\n",
    "print('------------------------------------------------------')\n",
    "print(f'For hypothesis 1 we have the following data samples:')\n",
    "print('------------------------------------------------------')\n",
    "print(f'{len(opinion_0)} support Ukraine and {sum(opinion_0)} of those have posted \\\n",
    "a tweet with a negative emotion.')\n",
    "print(f'Percentage of negative tweets is {100*round(sum(opinion_0)/len(opinion_0), 3)}%')\n",
    "print('')\n",
    "print(f'{len(opinion_1)} support Russia and {sum(opinion_1)} of those have posted \\\n",
    "a tweet with a negative emotion.')\n",
    "print(f'Percentage of negative tweets is {100*round(sum(opinion_1)/len(opinion_1), 4)}%')\n",
    "print('')\n",
    "\n",
    "# Hypothesis 2\n",
    "\n",
    "russia_opinion = df.loc[(df['country'].isin(['Russia', 'Belarus'])) & \\\n",
    "                        (df['opinion_prediction'].isin([0,1])), 'opinion_prediction']\n",
    "other_countries_opinion = df.loc[(df['country'].isin(countries_no_russia)) & \\\n",
    "                        (df['opinion_prediction'].isin([0,1])), 'opinion_prediction']\n",
    "\n",
    "print('______________________________________________________')\n",
    "print('------------------------------------------------------')\n",
    "print(f'For hypothesis 2 we have the following data samples:')\n",
    "print('------------------------------------------------------')\n",
    "print(f'{len(russia_opinion)} tweets from Russia or Belarus')\n",
    "print(f'{sum(russia_opinion)} of them support Russia')\n",
    "print(f'Percentage of support is {100*round(sum(russia_opinion)/len(russia_opinion), 2)}%')\n",
    "print('')\n",
    "print(f'{len(other_countries_opinion)} tweets outside Russia or Belarus')\n",
    "print(f'{sum(other_countries_opinion)} of them support Russia')\n",
    "print(f'Percentage of support is {100*round(sum(other_countries_opinion)/len(other_countries_opinion), 2)}%')\n",
    "print('')\n",
    "\n",
    "# Hypothesis 3\n",
    "\n",
    "russian_negative = df.loc[(df['country'].isin(['Russia', 'Belarus'])), 'sentiment_nagative']\n",
    "other_negative = df.loc[(df['country'].isin(countries_no_russia)), 'sentiment_nagative']\n",
    "\n",
    "print('______________________________________________________')\n",
    "print('------------------------------------------------------')\n",
    "print(f'For hypothesis 3 we have the following data samples:')\n",
    "print('------------------------------------------------------')\n",
    "print(f'{len(russian_negative)} tweets from Russia or Belarus')\n",
    "print(f'{sum(russian_negative)} of them are negative')\n",
    "print(f'Percentage of negative tweets is {100*round(sum(russian_negative)/len(russian_negative), 4)}%')\n",
    "print('')\n",
    "print(f'{len(other_negative)} tweets outside Russia or Belarus')\n",
    "print(f'{sum(other_negative)} of them are negative')\n",
    "print(f'Percentage of negative tweets is {100*round(sum(other_negative)/len(other_negative), 4)}%')\n",
    "print('')"
   ]
  },
  {
   "cell_type": "code",
   "execution_count": 146,
   "id": "eeef170c",
   "metadata": {
    "ExecuteTime": {
     "end_time": "2022-05-18T18:46:51.077840Z",
     "start_time": "2022-05-18T18:46:51.060997Z"
    }
   },
   "outputs": [
    {
     "name": "stdout",
     "output_type": "stream",
     "text": [
      "95% confidence interval for a difference between proportions: [-0.026006, 0.000105]\n",
      "p-value: 0.048132\n"
     ]
    }
   ],
   "source": [
    "# H1\n",
    "print(\"95%% confidence interval for a difference between proportions: [%f, %f]\" %\\\n",
    "      proportions_diff_confint_ind(opinion_0, opinion_1))\n",
    "\n",
    "print(\"p-value: %f\" % proportions_diff_z_test(proportions_diff_z_stat_ind(opinion_0, opinion_1)))"
   ]
  },
  {
   "cell_type": "code",
   "execution_count": 154,
   "id": "806b823c",
   "metadata": {
    "ExecuteTime": {
     "end_time": "2022-05-18T19:06:26.620466Z",
     "start_time": "2022-05-18T19:06:26.607488Z"
    }
   },
   "outputs": [
    {
     "name": "stdout",
     "output_type": "stream",
     "text": [
      "95% confidence interval for a difference between proportions: [0.005901, 0.075511]\n",
      "p-value: 0.023739\n"
     ]
    }
   ],
   "source": [
    "# H2\n",
    "print(\"95%% confidence interval for a difference between proportions: [%f, %f]\" %\\\n",
    "      proportions_diff_confint_ind(russia_opinion, other_countries_opinion))\n",
    "\n",
    "print(\"p-value: %f\" % \\\n",
    "      proportions_diff_z_test(proportions_diff_z_stat_ind(russia_opinion, \n",
    "                                                          other_countries_opinion),\n",
    "                             ))"
   ]
  },
  {
   "cell_type": "code",
   "execution_count": 165,
   "id": "e051b83a",
   "metadata": {
    "ExecuteTime": {
     "end_time": "2022-05-18T19:19:04.041047Z",
     "start_time": "2022-05-18T19:19:04.026246Z"
    }
   },
   "outputs": [
    {
     "name": "stdout",
     "output_type": "stream",
     "text": [
      "95% confidence interval for a difference between proportions: [0.000549, 0.047122]\n",
      "p-value: 0.050893\n"
     ]
    }
   ],
   "source": [
    "# H3\n",
    "print(\"95%% confidence interval for a difference between proportions: [%f, %f]\" %\\\n",
    "      proportions_diff_confint_ind(russian_negative, other_negative))\n",
    "\n",
    "print(\"p-value: %f\" % \\\n",
    "      proportions_diff_z_test(proportions_diff_z_stat_ind(russian_negative, \n",
    "                                                          other_negative),\n",
    "                             ))"
   ]
  },
  {
   "cell_type": "markdown",
   "id": "d4e6e378",
   "metadata": {},
   "source": [
    "# Country visualization"
   ]
  },
  {
   "cell_type": "code",
   "execution_count": 172,
   "id": "b11474c9",
   "metadata": {
    "ExecuteTime": {
     "end_time": "2022-05-18T23:43:12.271323Z",
     "start_time": "2022-05-18T23:43:12.257499Z"
    }
   },
   "outputs": [],
   "source": [
    "countries = ['Russia', 'Ukraine', 'United States', 'United Kingdom', 'Mongolia',\n",
    "             'Belarus', 'Poland', 'Germany', 'Kazakhstan', 'Canada', 'India', \n",
    "             'India', 'Latvia', 'Finland', 'France', 'Turkey', 'Czech Republic',\n",
    "             'Israel', 'Japan', 'Australia', 'Slovenia', 'Italy', 'Georgia', 'Switzerland',\n",
    "             'Estonia', 'Luxembourg', 'Azerbaijan', 'Spain', 'Thailand',\n",
    "             'Serbia', 'Lithuania', 'Morocco', 'Bulgaria', 'Greece', ]#'Norway', 'Sweden']"
   ]
  },
  {
   "cell_type": "markdown",
   "id": "b3927752",
   "metadata": {},
   "source": [
    "## Russia support"
   ]
  },
  {
   "cell_type": "markdown",
   "id": "a89c4827",
   "metadata": {},
   "source": [
    "Visualizing contries, that support Russia"
   ]
  },
  {
   "cell_type": "code",
   "execution_count": 173,
   "id": "171634a2",
   "metadata": {
    "ExecuteTime": {
     "end_time": "2022-05-18T23:44:16.491440Z",
     "start_time": "2022-05-18T23:44:16.451813Z"
    }
   },
   "outputs": [],
   "source": [
    "mask_countries = df['country'].isin(countries)\n",
    "mask_prediction = df['opinion_prediction'].isin([0,1])\n",
    "\n",
    "df_countries = df.loc[mask_countries & mask_prediction].groupby('country').agg({\n",
    "            'opinion_prediction' : ['sum', 'count']}).reset_index()\n",
    "\n",
    "df_countries.columns = ['country', 'sum', 'count']\n",
    "\n",
    "df_countries['russian_support_proportion'] = df_countries['sum']/df_countries['count']\n",
    "\n",
    "gapminder = px.data.gapminder().query(\"year==2007\")\n",
    "\n",
    "df_countries = pd.merge(df_countries,\n",
    "                        gapminder[['country', 'iso_alpha']],\n",
    "                        on='country',\n",
    "                        how='left')\n",
    "\n",
    "df_countries.loc[df_countries['country'] == 'Azerbaijan', 'iso_alpha'] = 'AZE'\n",
    "df_countries.loc[df_countries['country'] == 'Belarus', 'iso_alpha'] = 'BLR'\n",
    "df_countries.loc[df_countries['country'] == 'Estonia', 'iso_alpha'] = 'EST'\n",
    "df_countries.loc[df_countries['country'] == 'Georgia', 'iso_alpha'] = 'GEO'\n",
    "df_countries.loc[df_countries['country'] == 'Kazakhstan', 'iso_alpha'] = 'KAZ'\n",
    "df_countries.loc[df_countries['country'] == 'Latvia', 'iso_alpha'] = 'LVA'\n",
    "df_countries.loc[df_countries['country'] == 'Luxembourg', 'iso_alpha'] = 'LUX'\n",
    "df_countries.loc[df_countries['country'] == 'Russia', 'iso_alpha'] = 'RUS'\n",
    "df_countries.loc[df_countries['country'] == 'Ukraine', 'iso_alpha'] = 'UKR'\n",
    "df_countries.loc[df_countries['country'] == 'Lithuania', 'iso_alpha'] = 'LTU'"
   ]
  },
  {
   "cell_type": "code",
   "execution_count": 174,
   "id": "582082c4",
   "metadata": {
    "ExecuteTime": {
     "end_time": "2022-05-18T23:44:17.104916Z",
     "start_time": "2022-05-18T23:44:17.086178Z"
    },
    "scrolled": true
   },
   "outputs": [
    {
     "data": {
      "text/html": [
       "<div>\n",
       "<style scoped>\n",
       "    .dataframe tbody tr th:only-of-type {\n",
       "        vertical-align: middle;\n",
       "    }\n",
       "\n",
       "    .dataframe tbody tr th {\n",
       "        vertical-align: top;\n",
       "    }\n",
       "\n",
       "    .dataframe thead th {\n",
       "        text-align: right;\n",
       "    }\n",
       "</style>\n",
       "<table border=\"1\" class=\"dataframe\">\n",
       "  <thead>\n",
       "    <tr style=\"text-align: right;\">\n",
       "      <th></th>\n",
       "      <th>country</th>\n",
       "      <th>sum</th>\n",
       "      <th>count</th>\n",
       "      <th>russian_support_proportion</th>\n",
       "      <th>iso_alpha</th>\n",
       "    </tr>\n",
       "  </thead>\n",
       "  <tbody>\n",
       "    <tr>\n",
       "      <th>15</th>\n",
       "      <td>Japan</td>\n",
       "      <td>7.0</td>\n",
       "      <td>20</td>\n",
       "      <td>0.350000</td>\n",
       "      <td>JPN</td>\n",
       "    </tr>\n",
       "    <tr>\n",
       "      <th>12</th>\n",
       "      <td>India</td>\n",
       "      <td>6.0</td>\n",
       "      <td>36</td>\n",
       "      <td>0.166667</td>\n",
       "      <td>IND</td>\n",
       "    </tr>\n",
       "    <tr>\n",
       "      <th>5</th>\n",
       "      <td>Czech Republic</td>\n",
       "      <td>8.0</td>\n",
       "      <td>22</td>\n",
       "      <td>0.363636</td>\n",
       "      <td>CZE</td>\n",
       "    </tr>\n",
       "    <tr>\n",
       "      <th>27</th>\n",
       "      <td>Switzerland</td>\n",
       "      <td>1.0</td>\n",
       "      <td>3</td>\n",
       "      <td>0.333333</td>\n",
       "      <td>CHE</td>\n",
       "    </tr>\n",
       "    <tr>\n",
       "      <th>25</th>\n",
       "      <td>Slovenia</td>\n",
       "      <td>3.0</td>\n",
       "      <td>13</td>\n",
       "      <td>0.230769</td>\n",
       "      <td>SVN</td>\n",
       "    </tr>\n",
       "  </tbody>\n",
       "</table>\n",
       "</div>"
      ],
      "text/plain": [
       "           country  sum  count  russian_support_proportion iso_alpha\n",
       "15           Japan  7.0     20                    0.350000       JPN\n",
       "12           India  6.0     36                    0.166667       IND\n",
       "5   Czech Republic  8.0     22                    0.363636       CZE\n",
       "27     Switzerland  1.0      3                    0.333333       CHE\n",
       "25        Slovenia  3.0     13                    0.230769       SVN"
      ]
     },
     "execution_count": 174,
     "metadata": {},
     "output_type": "execute_result"
    }
   ],
   "source": [
    "df_countries.sample(5)"
   ]
  },
  {
   "cell_type": "code",
   "execution_count": 175,
   "id": "b459acb5",
   "metadata": {
    "ExecuteTime": {
     "end_time": "2022-05-18T23:44:18.539908Z",
     "start_time": "2022-05-18T23:44:18.484822Z"
    }
   },
   "outputs": [
    {
     "data": {
      "application/vnd.plotly.v1+json": {
       "config": {
        "plotlyServerURL": "https://plot.ly"
       },
       "data": [
        {
         "coloraxis": "coloraxis",
         "geo": "geo",
         "hovertemplate": "<b>%{hovertext}</b><br><br>iso_alpha=%{location}<br>russian_support_proportion=%{z}<extra></extra>",
         "hovertext": [
          "Australia",
          "Azerbaijan",
          "Belarus",
          "Bulgaria",
          "Canada",
          "Czech Republic",
          "Estonia",
          "Finland",
          "France",
          "Georgia",
          "Germany",
          "Greece",
          "India",
          "Israel",
          "Italy",
          "Japan",
          "Kazakhstan",
          "Latvia",
          "Lithuania",
          "Luxembourg",
          "Mongolia",
          "Morocco",
          "Poland",
          "Russia",
          "Serbia",
          "Slovenia",
          "Spain",
          "Switzerland",
          "Thailand",
          "Turkey",
          "Ukraine",
          "United Kingdom",
          "United States"
         ],
         "locations": [
          "AUS",
          "AZE",
          "BLR",
          "BGR",
          "CAN",
          "CZE",
          "EST",
          "FIN",
          "FRA",
          "GEO",
          "DEU",
          "GRC",
          "IND",
          "ISR",
          "ITA",
          "JPN",
          "KAZ",
          "LVA",
          "LTU",
          "LUX",
          "MNG",
          "MAR",
          "POL",
          "RUS",
          "SRB",
          "SVN",
          "ESP",
          "CHE",
          "THA",
          "TUR",
          "UKR",
          "GBR",
          "USA"
         ],
         "name": "",
         "type": "choropleth",
         "z": [
          0.23529411764705882,
          0.4,
          0.25396825396825395,
          0.42857142857142855,
          0.3939393939393939,
          0.36363636363636365,
          0.125,
          0.20689655172413793,
          0.4166666666666667,
          0.46153846153846156,
          0.24719101123595505,
          0,
          0.16666666666666666,
          0.391304347826087,
          0.38461538461538464,
          0.35,
          0.3076923076923077,
          0.4482758620689655,
          0.4,
          0.18181818181818182,
          0.013333333333333334,
          0.6666666666666666,
          0.2978723404255319,
          0.3041958041958042,
          0.375,
          0.23076923076923078,
          0.5,
          0.3333333333333333,
          0,
          0,
          0.3222486144101346,
          0.2894736842105263,
          0.26905829596412556
         ]
        }
       ],
       "layout": {
        "coloraxis": {
         "colorbar": {
          "title": {
           "text": "russian_support_proportion"
          }
         },
         "colorscale": [
          [
           0,
           "#0d0887"
          ],
          [
           0.1111111111111111,
           "#46039f"
          ],
          [
           0.2222222222222222,
           "#7201a8"
          ],
          [
           0.3333333333333333,
           "#9c179e"
          ],
          [
           0.4444444444444444,
           "#bd3786"
          ],
          [
           0.5555555555555556,
           "#d8576b"
          ],
          [
           0.6666666666666666,
           "#ed7953"
          ],
          [
           0.7777777777777778,
           "#fb9f3a"
          ],
          [
           0.8888888888888888,
           "#fdca26"
          ],
          [
           1,
           "#f0f921"
          ]
         ]
        },
        "geo": {
         "center": {},
         "domain": {
          "x": [
           0,
           1
          ],
          "y": [
           0,
           1
          ]
         }
        },
        "legend": {
         "tracegroupgap": 0
        },
        "margin": {
         "t": 60
        },
        "template": {
         "data": {
          "bar": [
           {
            "error_x": {
             "color": "#2a3f5f"
            },
            "error_y": {
             "color": "#2a3f5f"
            },
            "marker": {
             "line": {
              "color": "#E5ECF6",
              "width": 0.5
             },
             "pattern": {
              "fillmode": "overlay",
              "size": 10,
              "solidity": 0.2
             }
            },
            "type": "bar"
           }
          ],
          "barpolar": [
           {
            "marker": {
             "line": {
              "color": "#E5ECF6",
              "width": 0.5
             },
             "pattern": {
              "fillmode": "overlay",
              "size": 10,
              "solidity": 0.2
             }
            },
            "type": "barpolar"
           }
          ],
          "carpet": [
           {
            "aaxis": {
             "endlinecolor": "#2a3f5f",
             "gridcolor": "white",
             "linecolor": "white",
             "minorgridcolor": "white",
             "startlinecolor": "#2a3f5f"
            },
            "baxis": {
             "endlinecolor": "#2a3f5f",
             "gridcolor": "white",
             "linecolor": "white",
             "minorgridcolor": "white",
             "startlinecolor": "#2a3f5f"
            },
            "type": "carpet"
           }
          ],
          "choropleth": [
           {
            "colorbar": {
             "outlinewidth": 0,
             "ticks": ""
            },
            "type": "choropleth"
           }
          ],
          "contour": [
           {
            "colorbar": {
             "outlinewidth": 0,
             "ticks": ""
            },
            "colorscale": [
             [
              0,
              "#0d0887"
             ],
             [
              0.1111111111111111,
              "#46039f"
             ],
             [
              0.2222222222222222,
              "#7201a8"
             ],
             [
              0.3333333333333333,
              "#9c179e"
             ],
             [
              0.4444444444444444,
              "#bd3786"
             ],
             [
              0.5555555555555556,
              "#d8576b"
             ],
             [
              0.6666666666666666,
              "#ed7953"
             ],
             [
              0.7777777777777778,
              "#fb9f3a"
             ],
             [
              0.8888888888888888,
              "#fdca26"
             ],
             [
              1,
              "#f0f921"
             ]
            ],
            "type": "contour"
           }
          ],
          "contourcarpet": [
           {
            "colorbar": {
             "outlinewidth": 0,
             "ticks": ""
            },
            "type": "contourcarpet"
           }
          ],
          "heatmap": [
           {
            "colorbar": {
             "outlinewidth": 0,
             "ticks": ""
            },
            "colorscale": [
             [
              0,
              "#0d0887"
             ],
             [
              0.1111111111111111,
              "#46039f"
             ],
             [
              0.2222222222222222,
              "#7201a8"
             ],
             [
              0.3333333333333333,
              "#9c179e"
             ],
             [
              0.4444444444444444,
              "#bd3786"
             ],
             [
              0.5555555555555556,
              "#d8576b"
             ],
             [
              0.6666666666666666,
              "#ed7953"
             ],
             [
              0.7777777777777778,
              "#fb9f3a"
             ],
             [
              0.8888888888888888,
              "#fdca26"
             ],
             [
              1,
              "#f0f921"
             ]
            ],
            "type": "heatmap"
           }
          ],
          "heatmapgl": [
           {
            "colorbar": {
             "outlinewidth": 0,
             "ticks": ""
            },
            "colorscale": [
             [
              0,
              "#0d0887"
             ],
             [
              0.1111111111111111,
              "#46039f"
             ],
             [
              0.2222222222222222,
              "#7201a8"
             ],
             [
              0.3333333333333333,
              "#9c179e"
             ],
             [
              0.4444444444444444,
              "#bd3786"
             ],
             [
              0.5555555555555556,
              "#d8576b"
             ],
             [
              0.6666666666666666,
              "#ed7953"
             ],
             [
              0.7777777777777778,
              "#fb9f3a"
             ],
             [
              0.8888888888888888,
              "#fdca26"
             ],
             [
              1,
              "#f0f921"
             ]
            ],
            "type": "heatmapgl"
           }
          ],
          "histogram": [
           {
            "marker": {
             "pattern": {
              "fillmode": "overlay",
              "size": 10,
              "solidity": 0.2
             }
            },
            "type": "histogram"
           }
          ],
          "histogram2d": [
           {
            "colorbar": {
             "outlinewidth": 0,
             "ticks": ""
            },
            "colorscale": [
             [
              0,
              "#0d0887"
             ],
             [
              0.1111111111111111,
              "#46039f"
             ],
             [
              0.2222222222222222,
              "#7201a8"
             ],
             [
              0.3333333333333333,
              "#9c179e"
             ],
             [
              0.4444444444444444,
              "#bd3786"
             ],
             [
              0.5555555555555556,
              "#d8576b"
             ],
             [
              0.6666666666666666,
              "#ed7953"
             ],
             [
              0.7777777777777778,
              "#fb9f3a"
             ],
             [
              0.8888888888888888,
              "#fdca26"
             ],
             [
              1,
              "#f0f921"
             ]
            ],
            "type": "histogram2d"
           }
          ],
          "histogram2dcontour": [
           {
            "colorbar": {
             "outlinewidth": 0,
             "ticks": ""
            },
            "colorscale": [
             [
              0,
              "#0d0887"
             ],
             [
              0.1111111111111111,
              "#46039f"
             ],
             [
              0.2222222222222222,
              "#7201a8"
             ],
             [
              0.3333333333333333,
              "#9c179e"
             ],
             [
              0.4444444444444444,
              "#bd3786"
             ],
             [
              0.5555555555555556,
              "#d8576b"
             ],
             [
              0.6666666666666666,
              "#ed7953"
             ],
             [
              0.7777777777777778,
              "#fb9f3a"
             ],
             [
              0.8888888888888888,
              "#fdca26"
             ],
             [
              1,
              "#f0f921"
             ]
            ],
            "type": "histogram2dcontour"
           }
          ],
          "mesh3d": [
           {
            "colorbar": {
             "outlinewidth": 0,
             "ticks": ""
            },
            "type": "mesh3d"
           }
          ],
          "parcoords": [
           {
            "line": {
             "colorbar": {
              "outlinewidth": 0,
              "ticks": ""
             }
            },
            "type": "parcoords"
           }
          ],
          "pie": [
           {
            "automargin": true,
            "type": "pie"
           }
          ],
          "scatter": [
           {
            "fillpattern": {
             "fillmode": "overlay",
             "size": 10,
             "solidity": 0.2
            },
            "type": "scatter"
           }
          ],
          "scatter3d": [
           {
            "line": {
             "colorbar": {
              "outlinewidth": 0,
              "ticks": ""
             }
            },
            "marker": {
             "colorbar": {
              "outlinewidth": 0,
              "ticks": ""
             }
            },
            "type": "scatter3d"
           }
          ],
          "scattercarpet": [
           {
            "marker": {
             "colorbar": {
              "outlinewidth": 0,
              "ticks": ""
             }
            },
            "type": "scattercarpet"
           }
          ],
          "scattergeo": [
           {
            "marker": {
             "colorbar": {
              "outlinewidth": 0,
              "ticks": ""
             }
            },
            "type": "scattergeo"
           }
          ],
          "scattergl": [
           {
            "marker": {
             "colorbar": {
              "outlinewidth": 0,
              "ticks": ""
             }
            },
            "type": "scattergl"
           }
          ],
          "scattermapbox": [
           {
            "marker": {
             "colorbar": {
              "outlinewidth": 0,
              "ticks": ""
             }
            },
            "type": "scattermapbox"
           }
          ],
          "scatterpolar": [
           {
            "marker": {
             "colorbar": {
              "outlinewidth": 0,
              "ticks": ""
             }
            },
            "type": "scatterpolar"
           }
          ],
          "scatterpolargl": [
           {
            "marker": {
             "colorbar": {
              "outlinewidth": 0,
              "ticks": ""
             }
            },
            "type": "scatterpolargl"
           }
          ],
          "scatterternary": [
           {
            "marker": {
             "colorbar": {
              "outlinewidth": 0,
              "ticks": ""
             }
            },
            "type": "scatterternary"
           }
          ],
          "surface": [
           {
            "colorbar": {
             "outlinewidth": 0,
             "ticks": ""
            },
            "colorscale": [
             [
              0,
              "#0d0887"
             ],
             [
              0.1111111111111111,
              "#46039f"
             ],
             [
              0.2222222222222222,
              "#7201a8"
             ],
             [
              0.3333333333333333,
              "#9c179e"
             ],
             [
              0.4444444444444444,
              "#bd3786"
             ],
             [
              0.5555555555555556,
              "#d8576b"
             ],
             [
              0.6666666666666666,
              "#ed7953"
             ],
             [
              0.7777777777777778,
              "#fb9f3a"
             ],
             [
              0.8888888888888888,
              "#fdca26"
             ],
             [
              1,
              "#f0f921"
             ]
            ],
            "type": "surface"
           }
          ],
          "table": [
           {
            "cells": {
             "fill": {
              "color": "#EBF0F8"
             },
             "line": {
              "color": "white"
             }
            },
            "header": {
             "fill": {
              "color": "#C8D4E3"
             },
             "line": {
              "color": "white"
             }
            },
            "type": "table"
           }
          ]
         },
         "layout": {
          "annotationdefaults": {
           "arrowcolor": "#2a3f5f",
           "arrowhead": 0,
           "arrowwidth": 1
          },
          "autotypenumbers": "strict",
          "coloraxis": {
           "colorbar": {
            "outlinewidth": 0,
            "ticks": ""
           }
          },
          "colorscale": {
           "diverging": [
            [
             0,
             "#8e0152"
            ],
            [
             0.1,
             "#c51b7d"
            ],
            [
             0.2,
             "#de77ae"
            ],
            [
             0.3,
             "#f1b6da"
            ],
            [
             0.4,
             "#fde0ef"
            ],
            [
             0.5,
             "#f7f7f7"
            ],
            [
             0.6,
             "#e6f5d0"
            ],
            [
             0.7,
             "#b8e186"
            ],
            [
             0.8,
             "#7fbc41"
            ],
            [
             0.9,
             "#4d9221"
            ],
            [
             1,
             "#276419"
            ]
           ],
           "sequential": [
            [
             0,
             "#0d0887"
            ],
            [
             0.1111111111111111,
             "#46039f"
            ],
            [
             0.2222222222222222,
             "#7201a8"
            ],
            [
             0.3333333333333333,
             "#9c179e"
            ],
            [
             0.4444444444444444,
             "#bd3786"
            ],
            [
             0.5555555555555556,
             "#d8576b"
            ],
            [
             0.6666666666666666,
             "#ed7953"
            ],
            [
             0.7777777777777778,
             "#fb9f3a"
            ],
            [
             0.8888888888888888,
             "#fdca26"
            ],
            [
             1,
             "#f0f921"
            ]
           ],
           "sequentialminus": [
            [
             0,
             "#0d0887"
            ],
            [
             0.1111111111111111,
             "#46039f"
            ],
            [
             0.2222222222222222,
             "#7201a8"
            ],
            [
             0.3333333333333333,
             "#9c179e"
            ],
            [
             0.4444444444444444,
             "#bd3786"
            ],
            [
             0.5555555555555556,
             "#d8576b"
            ],
            [
             0.6666666666666666,
             "#ed7953"
            ],
            [
             0.7777777777777778,
             "#fb9f3a"
            ],
            [
             0.8888888888888888,
             "#fdca26"
            ],
            [
             1,
             "#f0f921"
            ]
           ]
          },
          "colorway": [
           "#636efa",
           "#EF553B",
           "#00cc96",
           "#ab63fa",
           "#FFA15A",
           "#19d3f3",
           "#FF6692",
           "#B6E880",
           "#FF97FF",
           "#FECB52"
          ],
          "font": {
           "color": "#2a3f5f"
          },
          "geo": {
           "bgcolor": "white",
           "lakecolor": "white",
           "landcolor": "#E5ECF6",
           "showlakes": true,
           "showland": true,
           "subunitcolor": "white"
          },
          "hoverlabel": {
           "align": "left"
          },
          "hovermode": "closest",
          "mapbox": {
           "style": "light"
          },
          "paper_bgcolor": "white",
          "plot_bgcolor": "#E5ECF6",
          "polar": {
           "angularaxis": {
            "gridcolor": "white",
            "linecolor": "white",
            "ticks": ""
           },
           "bgcolor": "#E5ECF6",
           "radialaxis": {
            "gridcolor": "white",
            "linecolor": "white",
            "ticks": ""
           }
          },
          "scene": {
           "xaxis": {
            "backgroundcolor": "#E5ECF6",
            "gridcolor": "white",
            "gridwidth": 2,
            "linecolor": "white",
            "showbackground": true,
            "ticks": "",
            "zerolinecolor": "white"
           },
           "yaxis": {
            "backgroundcolor": "#E5ECF6",
            "gridcolor": "white",
            "gridwidth": 2,
            "linecolor": "white",
            "showbackground": true,
            "ticks": "",
            "zerolinecolor": "white"
           },
           "zaxis": {
            "backgroundcolor": "#E5ECF6",
            "gridcolor": "white",
            "gridwidth": 2,
            "linecolor": "white",
            "showbackground": true,
            "ticks": "",
            "zerolinecolor": "white"
           }
          },
          "shapedefaults": {
           "line": {
            "color": "#2a3f5f"
           }
          },
          "ternary": {
           "aaxis": {
            "gridcolor": "white",
            "linecolor": "white",
            "ticks": ""
           },
           "baxis": {
            "gridcolor": "white",
            "linecolor": "white",
            "ticks": ""
           },
           "bgcolor": "#E5ECF6",
           "caxis": {
            "gridcolor": "white",
            "linecolor": "white",
            "ticks": ""
           }
          },
          "title": {
           "x": 0.05
          },
          "xaxis": {
           "automargin": true,
           "gridcolor": "white",
           "linecolor": "white",
           "ticks": "",
           "title": {
            "standoff": 15
           },
           "zerolinecolor": "white",
           "zerolinewidth": 2
          },
          "yaxis": {
           "automargin": true,
           "gridcolor": "white",
           "linecolor": "white",
           "ticks": "",
           "title": {
            "standoff": 15
           },
           "zerolinecolor": "white",
           "zerolinewidth": 2
          }
         }
        }
       }
      },
      "text/html": [
       "<div>                            <div id=\"a9d339b6-81d0-4501-9f67-7a715baacfef\" class=\"plotly-graph-div\" style=\"height:525px; width:100%;\"></div>            <script type=\"text/javascript\">                require([\"plotly\"], function(Plotly) {                    window.PLOTLYENV=window.PLOTLYENV || {};                                    if (document.getElementById(\"a9d339b6-81d0-4501-9f67-7a715baacfef\")) {                    Plotly.newPlot(                        \"a9d339b6-81d0-4501-9f67-7a715baacfef\",                        [{\"coloraxis\":\"coloraxis\",\"geo\":\"geo\",\"hovertemplate\":\"<b>%{hovertext}</b><br><br>iso_alpha=%{location}<br>russian_support_proportion=%{z}<extra></extra>\",\"hovertext\":[\"Australia\",\"Azerbaijan\",\"Belarus\",\"Bulgaria\",\"Canada\",\"Czech Republic\",\"Estonia\",\"Finland\",\"France\",\"Georgia\",\"Germany\",\"Greece\",\"India\",\"Israel\",\"Italy\",\"Japan\",\"Kazakhstan\",\"Latvia\",\"Lithuania\",\"Luxembourg\",\"Mongolia\",\"Morocco\",\"Poland\",\"Russia\",\"Serbia\",\"Slovenia\",\"Spain\",\"Switzerland\",\"Thailand\",\"Turkey\",\"Ukraine\",\"United Kingdom\",\"United States\"],\"locations\":[\"AUS\",\"AZE\",\"BLR\",\"BGR\",\"CAN\",\"CZE\",\"EST\",\"FIN\",\"FRA\",\"GEO\",\"DEU\",\"GRC\",\"IND\",\"ISR\",\"ITA\",\"JPN\",\"KAZ\",\"LVA\",\"LTU\",\"LUX\",\"MNG\",\"MAR\",\"POL\",\"RUS\",\"SRB\",\"SVN\",\"ESP\",\"CHE\",\"THA\",\"TUR\",\"UKR\",\"GBR\",\"USA\"],\"name\":\"\",\"z\":[0.23529411764705882,0.4,0.25396825396825395,0.42857142857142855,0.3939393939393939,0.36363636363636365,0.125,0.20689655172413793,0.4166666666666667,0.46153846153846156,0.24719101123595505,0.0,0.16666666666666666,0.391304347826087,0.38461538461538464,0.35,0.3076923076923077,0.4482758620689655,0.4,0.18181818181818182,0.013333333333333334,0.6666666666666666,0.2978723404255319,0.3041958041958042,0.375,0.23076923076923078,0.5,0.3333333333333333,0.0,0.0,0.3222486144101346,0.2894736842105263,0.26905829596412556],\"type\":\"choropleth\"}],                        {\"template\":{\"data\":{\"histogram2dcontour\":[{\"type\":\"histogram2dcontour\",\"colorbar\":{\"outlinewidth\":0,\"ticks\":\"\"},\"colorscale\":[[0.0,\"#0d0887\"],[0.1111111111111111,\"#46039f\"],[0.2222222222222222,\"#7201a8\"],[0.3333333333333333,\"#9c179e\"],[0.4444444444444444,\"#bd3786\"],[0.5555555555555556,\"#d8576b\"],[0.6666666666666666,\"#ed7953\"],[0.7777777777777778,\"#fb9f3a\"],[0.8888888888888888,\"#fdca26\"],[1.0,\"#f0f921\"]]}],\"choropleth\":[{\"type\":\"choropleth\",\"colorbar\":{\"outlinewidth\":0,\"ticks\":\"\"}}],\"histogram2d\":[{\"type\":\"histogram2d\",\"colorbar\":{\"outlinewidth\":0,\"ticks\":\"\"},\"colorscale\":[[0.0,\"#0d0887\"],[0.1111111111111111,\"#46039f\"],[0.2222222222222222,\"#7201a8\"],[0.3333333333333333,\"#9c179e\"],[0.4444444444444444,\"#bd3786\"],[0.5555555555555556,\"#d8576b\"],[0.6666666666666666,\"#ed7953\"],[0.7777777777777778,\"#fb9f3a\"],[0.8888888888888888,\"#fdca26\"],[1.0,\"#f0f921\"]]}],\"heatmap\":[{\"type\":\"heatmap\",\"colorbar\":{\"outlinewidth\":0,\"ticks\":\"\"},\"colorscale\":[[0.0,\"#0d0887\"],[0.1111111111111111,\"#46039f\"],[0.2222222222222222,\"#7201a8\"],[0.3333333333333333,\"#9c179e\"],[0.4444444444444444,\"#bd3786\"],[0.5555555555555556,\"#d8576b\"],[0.6666666666666666,\"#ed7953\"],[0.7777777777777778,\"#fb9f3a\"],[0.8888888888888888,\"#fdca26\"],[1.0,\"#f0f921\"]]}],\"heatmapgl\":[{\"type\":\"heatmapgl\",\"colorbar\":{\"outlinewidth\":0,\"ticks\":\"\"},\"colorscale\":[[0.0,\"#0d0887\"],[0.1111111111111111,\"#46039f\"],[0.2222222222222222,\"#7201a8\"],[0.3333333333333333,\"#9c179e\"],[0.4444444444444444,\"#bd3786\"],[0.5555555555555556,\"#d8576b\"],[0.6666666666666666,\"#ed7953\"],[0.7777777777777778,\"#fb9f3a\"],[0.8888888888888888,\"#fdca26\"],[1.0,\"#f0f921\"]]}],\"contourcarpet\":[{\"type\":\"contourcarpet\",\"colorbar\":{\"outlinewidth\":0,\"ticks\":\"\"}}],\"contour\":[{\"type\":\"contour\",\"colorbar\":{\"outlinewidth\":0,\"ticks\":\"\"},\"colorscale\":[[0.0,\"#0d0887\"],[0.1111111111111111,\"#46039f\"],[0.2222222222222222,\"#7201a8\"],[0.3333333333333333,\"#9c179e\"],[0.4444444444444444,\"#bd3786\"],[0.5555555555555556,\"#d8576b\"],[0.6666666666666666,\"#ed7953\"],[0.7777777777777778,\"#fb9f3a\"],[0.8888888888888888,\"#fdca26\"],[1.0,\"#f0f921\"]]}],\"surface\":[{\"type\":\"surface\",\"colorbar\":{\"outlinewidth\":0,\"ticks\":\"\"},\"colorscale\":[[0.0,\"#0d0887\"],[0.1111111111111111,\"#46039f\"],[0.2222222222222222,\"#7201a8\"],[0.3333333333333333,\"#9c179e\"],[0.4444444444444444,\"#bd3786\"],[0.5555555555555556,\"#d8576b\"],[0.6666666666666666,\"#ed7953\"],[0.7777777777777778,\"#fb9f3a\"],[0.8888888888888888,\"#fdca26\"],[1.0,\"#f0f921\"]]}],\"mesh3d\":[{\"type\":\"mesh3d\",\"colorbar\":{\"outlinewidth\":0,\"ticks\":\"\"}}],\"scatter\":[{\"fillpattern\":{\"fillmode\":\"overlay\",\"size\":10,\"solidity\":0.2},\"type\":\"scatter\"}],\"parcoords\":[{\"type\":\"parcoords\",\"line\":{\"colorbar\":{\"outlinewidth\":0,\"ticks\":\"\"}}}],\"scatterpolargl\":[{\"type\":\"scatterpolargl\",\"marker\":{\"colorbar\":{\"outlinewidth\":0,\"ticks\":\"\"}}}],\"bar\":[{\"error_x\":{\"color\":\"#2a3f5f\"},\"error_y\":{\"color\":\"#2a3f5f\"},\"marker\":{\"line\":{\"color\":\"#E5ECF6\",\"width\":0.5},\"pattern\":{\"fillmode\":\"overlay\",\"size\":10,\"solidity\":0.2}},\"type\":\"bar\"}],\"scattergeo\":[{\"type\":\"scattergeo\",\"marker\":{\"colorbar\":{\"outlinewidth\":0,\"ticks\":\"\"}}}],\"scatterpolar\":[{\"type\":\"scatterpolar\",\"marker\":{\"colorbar\":{\"outlinewidth\":0,\"ticks\":\"\"}}}],\"histogram\":[{\"marker\":{\"pattern\":{\"fillmode\":\"overlay\",\"size\":10,\"solidity\":0.2}},\"type\":\"histogram\"}],\"scattergl\":[{\"type\":\"scattergl\",\"marker\":{\"colorbar\":{\"outlinewidth\":0,\"ticks\":\"\"}}}],\"scatter3d\":[{\"type\":\"scatter3d\",\"line\":{\"colorbar\":{\"outlinewidth\":0,\"ticks\":\"\"}},\"marker\":{\"colorbar\":{\"outlinewidth\":0,\"ticks\":\"\"}}}],\"scattermapbox\":[{\"type\":\"scattermapbox\",\"marker\":{\"colorbar\":{\"outlinewidth\":0,\"ticks\":\"\"}}}],\"scatterternary\":[{\"type\":\"scatterternary\",\"marker\":{\"colorbar\":{\"outlinewidth\":0,\"ticks\":\"\"}}}],\"scattercarpet\":[{\"type\":\"scattercarpet\",\"marker\":{\"colorbar\":{\"outlinewidth\":0,\"ticks\":\"\"}}}],\"carpet\":[{\"aaxis\":{\"endlinecolor\":\"#2a3f5f\",\"gridcolor\":\"white\",\"linecolor\":\"white\",\"minorgridcolor\":\"white\",\"startlinecolor\":\"#2a3f5f\"},\"baxis\":{\"endlinecolor\":\"#2a3f5f\",\"gridcolor\":\"white\",\"linecolor\":\"white\",\"minorgridcolor\":\"white\",\"startlinecolor\":\"#2a3f5f\"},\"type\":\"carpet\"}],\"table\":[{\"cells\":{\"fill\":{\"color\":\"#EBF0F8\"},\"line\":{\"color\":\"white\"}},\"header\":{\"fill\":{\"color\":\"#C8D4E3\"},\"line\":{\"color\":\"white\"}},\"type\":\"table\"}],\"barpolar\":[{\"marker\":{\"line\":{\"color\":\"#E5ECF6\",\"width\":0.5},\"pattern\":{\"fillmode\":\"overlay\",\"size\":10,\"solidity\":0.2}},\"type\":\"barpolar\"}],\"pie\":[{\"automargin\":true,\"type\":\"pie\"}]},\"layout\":{\"autotypenumbers\":\"strict\",\"colorway\":[\"#636efa\",\"#EF553B\",\"#00cc96\",\"#ab63fa\",\"#FFA15A\",\"#19d3f3\",\"#FF6692\",\"#B6E880\",\"#FF97FF\",\"#FECB52\"],\"font\":{\"color\":\"#2a3f5f\"},\"hovermode\":\"closest\",\"hoverlabel\":{\"align\":\"left\"},\"paper_bgcolor\":\"white\",\"plot_bgcolor\":\"#E5ECF6\",\"polar\":{\"bgcolor\":\"#E5ECF6\",\"angularaxis\":{\"gridcolor\":\"white\",\"linecolor\":\"white\",\"ticks\":\"\"},\"radialaxis\":{\"gridcolor\":\"white\",\"linecolor\":\"white\",\"ticks\":\"\"}},\"ternary\":{\"bgcolor\":\"#E5ECF6\",\"aaxis\":{\"gridcolor\":\"white\",\"linecolor\":\"white\",\"ticks\":\"\"},\"baxis\":{\"gridcolor\":\"white\",\"linecolor\":\"white\",\"ticks\":\"\"},\"caxis\":{\"gridcolor\":\"white\",\"linecolor\":\"white\",\"ticks\":\"\"}},\"coloraxis\":{\"colorbar\":{\"outlinewidth\":0,\"ticks\":\"\"}},\"colorscale\":{\"sequential\":[[0.0,\"#0d0887\"],[0.1111111111111111,\"#46039f\"],[0.2222222222222222,\"#7201a8\"],[0.3333333333333333,\"#9c179e\"],[0.4444444444444444,\"#bd3786\"],[0.5555555555555556,\"#d8576b\"],[0.6666666666666666,\"#ed7953\"],[0.7777777777777778,\"#fb9f3a\"],[0.8888888888888888,\"#fdca26\"],[1.0,\"#f0f921\"]],\"sequentialminus\":[[0.0,\"#0d0887\"],[0.1111111111111111,\"#46039f\"],[0.2222222222222222,\"#7201a8\"],[0.3333333333333333,\"#9c179e\"],[0.4444444444444444,\"#bd3786\"],[0.5555555555555556,\"#d8576b\"],[0.6666666666666666,\"#ed7953\"],[0.7777777777777778,\"#fb9f3a\"],[0.8888888888888888,\"#fdca26\"],[1.0,\"#f0f921\"]],\"diverging\":[[0,\"#8e0152\"],[0.1,\"#c51b7d\"],[0.2,\"#de77ae\"],[0.3,\"#f1b6da\"],[0.4,\"#fde0ef\"],[0.5,\"#f7f7f7\"],[0.6,\"#e6f5d0\"],[0.7,\"#b8e186\"],[0.8,\"#7fbc41\"],[0.9,\"#4d9221\"],[1,\"#276419\"]]},\"xaxis\":{\"gridcolor\":\"white\",\"linecolor\":\"white\",\"ticks\":\"\",\"title\":{\"standoff\":15},\"zerolinecolor\":\"white\",\"automargin\":true,\"zerolinewidth\":2},\"yaxis\":{\"gridcolor\":\"white\",\"linecolor\":\"white\",\"ticks\":\"\",\"title\":{\"standoff\":15},\"zerolinecolor\":\"white\",\"automargin\":true,\"zerolinewidth\":2},\"scene\":{\"xaxis\":{\"backgroundcolor\":\"#E5ECF6\",\"gridcolor\":\"white\",\"linecolor\":\"white\",\"showbackground\":true,\"ticks\":\"\",\"zerolinecolor\":\"white\",\"gridwidth\":2},\"yaxis\":{\"backgroundcolor\":\"#E5ECF6\",\"gridcolor\":\"white\",\"linecolor\":\"white\",\"showbackground\":true,\"ticks\":\"\",\"zerolinecolor\":\"white\",\"gridwidth\":2},\"zaxis\":{\"backgroundcolor\":\"#E5ECF6\",\"gridcolor\":\"white\",\"linecolor\":\"white\",\"showbackground\":true,\"ticks\":\"\",\"zerolinecolor\":\"white\",\"gridwidth\":2}},\"shapedefaults\":{\"line\":{\"color\":\"#2a3f5f\"}},\"annotationdefaults\":{\"arrowcolor\":\"#2a3f5f\",\"arrowhead\":0,\"arrowwidth\":1},\"geo\":{\"bgcolor\":\"white\",\"landcolor\":\"#E5ECF6\",\"subunitcolor\":\"white\",\"showland\":true,\"showlakes\":true,\"lakecolor\":\"white\"},\"title\":{\"x\":0.05},\"mapbox\":{\"style\":\"light\"}}},\"geo\":{\"domain\":{\"x\":[0.0,1.0],\"y\":[0.0,1.0]},\"center\":{}},\"coloraxis\":{\"colorbar\":{\"title\":{\"text\":\"russian_support_proportion\"}},\"colorscale\":[[0.0,\"#0d0887\"],[0.1111111111111111,\"#46039f\"],[0.2222222222222222,\"#7201a8\"],[0.3333333333333333,\"#9c179e\"],[0.4444444444444444,\"#bd3786\"],[0.5555555555555556,\"#d8576b\"],[0.6666666666666666,\"#ed7953\"],[0.7777777777777778,\"#fb9f3a\"],[0.8888888888888888,\"#fdca26\"],[1.0,\"#f0f921\"]]},\"legend\":{\"tracegroupgap\":0},\"margin\":{\"t\":60}},                        {\"responsive\": true}                    ).then(function(){\n",
       "                            \n",
       "var gd = document.getElementById('a9d339b6-81d0-4501-9f67-7a715baacfef');\n",
       "var x = new MutationObserver(function (mutations, observer) {{\n",
       "        var display = window.getComputedStyle(gd).display;\n",
       "        if (!display || display === 'none') {{\n",
       "            console.log([gd, 'removed!']);\n",
       "            Plotly.purge(gd);\n",
       "            observer.disconnect();\n",
       "        }}\n",
       "}});\n",
       "\n",
       "// Listen for the removal of the full notebook cells\n",
       "var notebookContainer = gd.closest('#notebook-container');\n",
       "if (notebookContainer) {{\n",
       "    x.observe(notebookContainer, {childList: true});\n",
       "}}\n",
       "\n",
       "// Listen for the clearing of the current output cell\n",
       "var outputEl = gd.closest('.output');\n",
       "if (outputEl) {{\n",
       "    x.observe(outputEl, {childList: true});\n",
       "}}\n",
       "\n",
       "                        })                };                });            </script>        </div>"
      ]
     },
     "metadata": {},
     "output_type": "display_data"
    }
   ],
   "source": [
    "fig = px.choropleth(df_countries, \n",
    "                    locations=\"iso_alpha\",\n",
    "                    color=\"russian_support_proportion\", \n",
    "                    hover_name=\"country\", # column to add to hover information\n",
    "                    color_continuous_scale=px.colors.sequential.Plasma)\n",
    "\n",
    "fig.show()"
   ]
  },
  {
   "cell_type": "markdown",
   "id": "f39079d6",
   "metadata": {},
   "source": [
    "## Sentiment negative"
   ]
  },
  {
   "cell_type": "markdown",
   "id": "46ffbb43",
   "metadata": {},
   "source": [
    "Visualizing negative emotion tweets"
   ]
  },
  {
   "cell_type": "code",
   "execution_count": 169,
   "id": "0b347bb2",
   "metadata": {
    "ExecuteTime": {
     "end_time": "2022-05-18T19:24:00.580514Z",
     "start_time": "2022-05-18T19:24:00.545090Z"
    }
   },
   "outputs": [],
   "source": [
    "mask_countries = df['country'].isin(countries)\n",
    "#mask_prediction = df['opinion_prediction'].isin([0,1])\n",
    "\n",
    "df_countries = df.loc[mask_countries].groupby('country').agg({\n",
    "            'sentiment_nagative' : ['sum', 'count']}).reset_index()\n",
    "\n",
    "df_countries.columns = ['country', 'sum', 'count']\n",
    "\n",
    "df_countries['negative_proportion'] = df_countries['sum']/df_countries['count']\n",
    "\n",
    "gapminder = px.data.gapminder().query(\"year==2007\")\n",
    "\n",
    "df_countries = pd.merge(df_countries,\n",
    "                        gapminder[['country', 'iso_alpha']],\n",
    "                        on='country',\n",
    "                        how='left')\n",
    "\n",
    "df_countries.loc[df_countries['country'] == 'Azerbaijan', 'iso_alpha'] = 'AZE'\n",
    "df_countries.loc[df_countries['country'] == 'Belarus', 'iso_alpha'] = 'BLR'\n",
    "df_countries.loc[df_countries['country'] == 'Estonia', 'iso_alpha'] = 'EST'\n",
    "df_countries.loc[df_countries['country'] == 'Georgia', 'iso_alpha'] = 'GEO'\n",
    "df_countries.loc[df_countries['country'] == 'Kazakhstan', 'iso_alpha'] = 'KAZ'\n",
    "df_countries.loc[df_countries['country'] == 'Latvia', 'iso_alpha'] = 'LVA'\n",
    "df_countries.loc[df_countries['country'] == 'Luxembourg', 'iso_alpha'] = 'LUX'\n",
    "df_countries.loc[df_countries['country'] == 'Russia', 'iso_alpha'] = 'RUS'\n",
    "df_countries.loc[df_countries['country'] == 'Ukraine', 'iso_alpha'] = 'UKR'\n",
    "df_countries.loc[df_countries['country'] == 'Lithuania', 'iso_alpha'] = 'LTU'"
   ]
  },
  {
   "cell_type": "code",
   "execution_count": 171,
   "id": "6654b0c4",
   "metadata": {
    "ExecuteTime": {
     "end_time": "2022-05-18T23:42:37.977326Z",
     "start_time": "2022-05-18T23:42:37.959012Z"
    },
    "scrolled": true
   },
   "outputs": [
    {
     "data": {
      "text/html": [
       "<div>\n",
       "<style scoped>\n",
       "    .dataframe tbody tr th:only-of-type {\n",
       "        vertical-align: middle;\n",
       "    }\n",
       "\n",
       "    .dataframe tbody tr th {\n",
       "        vertical-align: top;\n",
       "    }\n",
       "\n",
       "    .dataframe thead th {\n",
       "        text-align: right;\n",
       "    }\n",
       "</style>\n",
       "<table border=\"1\" class=\"dataframe\">\n",
       "  <thead>\n",
       "    <tr style=\"text-align: right;\">\n",
       "      <th></th>\n",
       "      <th>country</th>\n",
       "      <th>sum</th>\n",
       "      <th>count</th>\n",
       "      <th>negative_proportion</th>\n",
       "      <th>iso_alpha</th>\n",
       "    </tr>\n",
       "  </thead>\n",
       "  <tbody>\n",
       "    <tr>\n",
       "      <th>23</th>\n",
       "      <td>Russia</td>\n",
       "      <td>245</td>\n",
       "      <td>1904</td>\n",
       "      <td>0.128676</td>\n",
       "      <td>RUS</td>\n",
       "    </tr>\n",
       "    <tr>\n",
       "      <th>30</th>\n",
       "      <td>Ukraine</td>\n",
       "      <td>181</td>\n",
       "      <td>1415</td>\n",
       "      <td>0.127915</td>\n",
       "      <td>UKR</td>\n",
       "    </tr>\n",
       "    <tr>\n",
       "      <th>32</th>\n",
       "      <td>United States</td>\n",
       "      <td>31</td>\n",
       "      <td>254</td>\n",
       "      <td>0.122047</td>\n",
       "      <td>USA</td>\n",
       "    </tr>\n",
       "    <tr>\n",
       "      <th>20</th>\n",
       "      <td>Mongolia</td>\n",
       "      <td>2</td>\n",
       "      <td>75</td>\n",
       "      <td>0.026667</td>\n",
       "      <td>MNG</td>\n",
       "    </tr>\n",
       "    <tr>\n",
       "      <th>1</th>\n",
       "      <td>Azerbaijan</td>\n",
       "      <td>0</td>\n",
       "      <td>11</td>\n",
       "      <td>0.000000</td>\n",
       "      <td>AZE</td>\n",
       "    </tr>\n",
       "  </tbody>\n",
       "</table>\n",
       "</div>"
      ],
      "text/plain": [
       "          country  sum  count  negative_proportion iso_alpha\n",
       "23         Russia  245   1904             0.128676       RUS\n",
       "30        Ukraine  181   1415             0.127915       UKR\n",
       "32  United States   31    254             0.122047       USA\n",
       "20       Mongolia    2     75             0.026667       MNG\n",
       "1      Azerbaijan    0     11             0.000000       AZE"
      ]
     },
     "execution_count": 171,
     "metadata": {},
     "output_type": "execute_result"
    }
   ],
   "source": [
    "df_countries.sample(5)"
   ]
  },
  {
   "cell_type": "code",
   "execution_count": 170,
   "id": "2f5d6c16",
   "metadata": {
    "ExecuteTime": {
     "end_time": "2022-05-18T19:24:02.471289Z",
     "start_time": "2022-05-18T19:24:02.422723Z"
    }
   },
   "outputs": [
    {
     "data": {
      "application/vnd.plotly.v1+json": {
       "config": {
        "plotlyServerURL": "https://plot.ly"
       },
       "data": [
        {
         "coloraxis": "coloraxis",
         "geo": "geo",
         "hovertemplate": "<b>%{hovertext}</b><br><br>iso_alpha=%{location}<br>negative_proportion=%{z}<extra></extra>",
         "hovertext": [
          "Australia",
          "Azerbaijan",
          "Belarus",
          "Bulgaria",
          "Canada",
          "Czech Republic",
          "Estonia",
          "Finland",
          "France",
          "Georgia",
          "Germany",
          "Greece",
          "India",
          "Israel",
          "Italy",
          "Japan",
          "Kazakhstan",
          "Latvia",
          "Lithuania",
          "Luxembourg",
          "Mongolia",
          "Morocco",
          "Poland",
          "Russia",
          "Serbia",
          "Slovenia",
          "Spain",
          "Switzerland",
          "Thailand",
          "Turkey",
          "Ukraine",
          "United Kingdom",
          "United States"
         ],
         "locations": [
          "AUS",
          "AZE",
          "BLR",
          "BGR",
          "CAN",
          "CZE",
          "EST",
          "FIN",
          "FRA",
          "GEO",
          "DEU",
          "GRC",
          "IND",
          "ISR",
          "ITA",
          "JPN",
          "KAZ",
          "LVA",
          "LTU",
          "LUX",
          "MNG",
          "MAR",
          "POL",
          "RUS",
          "SRB",
          "SVN",
          "ESP",
          "CHE",
          "THA",
          "TUR",
          "UKR",
          "GBR",
          "USA"
         ],
         "name": "",
         "type": "choropleth",
         "z": [
          0,
          0,
          0.06944444444444445,
          0.14285714285714285,
          0.19444444444444445,
          0.11538461538461539,
          0.2,
          0.15625,
          0.07142857142857142,
          0.07692307692307693,
          0.07368421052631578,
          0,
          0.027777777777777776,
          0,
          0.13333333333333333,
          0.2,
          0.13953488372093023,
          0.125,
          0,
          0.08333333333333333,
          0.02666666666666667,
          0,
          0.22641509433962265,
          0.12867647058823528,
          0,
          0.25,
          0,
          0,
          0,
          0,
          0.12791519434628976,
          0.047058823529411764,
          0.1220472440944882
         ]
        }
       ],
       "layout": {
        "coloraxis": {
         "colorbar": {
          "title": {
           "text": "negative_proportion"
          }
         },
         "colorscale": [
          [
           0,
           "#0d0887"
          ],
          [
           0.1111111111111111,
           "#46039f"
          ],
          [
           0.2222222222222222,
           "#7201a8"
          ],
          [
           0.3333333333333333,
           "#9c179e"
          ],
          [
           0.4444444444444444,
           "#bd3786"
          ],
          [
           0.5555555555555556,
           "#d8576b"
          ],
          [
           0.6666666666666666,
           "#ed7953"
          ],
          [
           0.7777777777777778,
           "#fb9f3a"
          ],
          [
           0.8888888888888888,
           "#fdca26"
          ],
          [
           1,
           "#f0f921"
          ]
         ]
        },
        "geo": {
         "center": {},
         "domain": {
          "x": [
           0,
           1
          ],
          "y": [
           0,
           1
          ]
         }
        },
        "legend": {
         "tracegroupgap": 0
        },
        "margin": {
         "t": 60
        },
        "template": {
         "data": {
          "bar": [
           {
            "error_x": {
             "color": "#2a3f5f"
            },
            "error_y": {
             "color": "#2a3f5f"
            },
            "marker": {
             "line": {
              "color": "#E5ECF6",
              "width": 0.5
             },
             "pattern": {
              "fillmode": "overlay",
              "size": 10,
              "solidity": 0.2
             }
            },
            "type": "bar"
           }
          ],
          "barpolar": [
           {
            "marker": {
             "line": {
              "color": "#E5ECF6",
              "width": 0.5
             },
             "pattern": {
              "fillmode": "overlay",
              "size": 10,
              "solidity": 0.2
             }
            },
            "type": "barpolar"
           }
          ],
          "carpet": [
           {
            "aaxis": {
             "endlinecolor": "#2a3f5f",
             "gridcolor": "white",
             "linecolor": "white",
             "minorgridcolor": "white",
             "startlinecolor": "#2a3f5f"
            },
            "baxis": {
             "endlinecolor": "#2a3f5f",
             "gridcolor": "white",
             "linecolor": "white",
             "minorgridcolor": "white",
             "startlinecolor": "#2a3f5f"
            },
            "type": "carpet"
           }
          ],
          "choropleth": [
           {
            "colorbar": {
             "outlinewidth": 0,
             "ticks": ""
            },
            "type": "choropleth"
           }
          ],
          "contour": [
           {
            "colorbar": {
             "outlinewidth": 0,
             "ticks": ""
            },
            "colorscale": [
             [
              0,
              "#0d0887"
             ],
             [
              0.1111111111111111,
              "#46039f"
             ],
             [
              0.2222222222222222,
              "#7201a8"
             ],
             [
              0.3333333333333333,
              "#9c179e"
             ],
             [
              0.4444444444444444,
              "#bd3786"
             ],
             [
              0.5555555555555556,
              "#d8576b"
             ],
             [
              0.6666666666666666,
              "#ed7953"
             ],
             [
              0.7777777777777778,
              "#fb9f3a"
             ],
             [
              0.8888888888888888,
              "#fdca26"
             ],
             [
              1,
              "#f0f921"
             ]
            ],
            "type": "contour"
           }
          ],
          "contourcarpet": [
           {
            "colorbar": {
             "outlinewidth": 0,
             "ticks": ""
            },
            "type": "contourcarpet"
           }
          ],
          "heatmap": [
           {
            "colorbar": {
             "outlinewidth": 0,
             "ticks": ""
            },
            "colorscale": [
             [
              0,
              "#0d0887"
             ],
             [
              0.1111111111111111,
              "#46039f"
             ],
             [
              0.2222222222222222,
              "#7201a8"
             ],
             [
              0.3333333333333333,
              "#9c179e"
             ],
             [
              0.4444444444444444,
              "#bd3786"
             ],
             [
              0.5555555555555556,
              "#d8576b"
             ],
             [
              0.6666666666666666,
              "#ed7953"
             ],
             [
              0.7777777777777778,
              "#fb9f3a"
             ],
             [
              0.8888888888888888,
              "#fdca26"
             ],
             [
              1,
              "#f0f921"
             ]
            ],
            "type": "heatmap"
           }
          ],
          "heatmapgl": [
           {
            "colorbar": {
             "outlinewidth": 0,
             "ticks": ""
            },
            "colorscale": [
             [
              0,
              "#0d0887"
             ],
             [
              0.1111111111111111,
              "#46039f"
             ],
             [
              0.2222222222222222,
              "#7201a8"
             ],
             [
              0.3333333333333333,
              "#9c179e"
             ],
             [
              0.4444444444444444,
              "#bd3786"
             ],
             [
              0.5555555555555556,
              "#d8576b"
             ],
             [
              0.6666666666666666,
              "#ed7953"
             ],
             [
              0.7777777777777778,
              "#fb9f3a"
             ],
             [
              0.8888888888888888,
              "#fdca26"
             ],
             [
              1,
              "#f0f921"
             ]
            ],
            "type": "heatmapgl"
           }
          ],
          "histogram": [
           {
            "marker": {
             "pattern": {
              "fillmode": "overlay",
              "size": 10,
              "solidity": 0.2
             }
            },
            "type": "histogram"
           }
          ],
          "histogram2d": [
           {
            "colorbar": {
             "outlinewidth": 0,
             "ticks": ""
            },
            "colorscale": [
             [
              0,
              "#0d0887"
             ],
             [
              0.1111111111111111,
              "#46039f"
             ],
             [
              0.2222222222222222,
              "#7201a8"
             ],
             [
              0.3333333333333333,
              "#9c179e"
             ],
             [
              0.4444444444444444,
              "#bd3786"
             ],
             [
              0.5555555555555556,
              "#d8576b"
             ],
             [
              0.6666666666666666,
              "#ed7953"
             ],
             [
              0.7777777777777778,
              "#fb9f3a"
             ],
             [
              0.8888888888888888,
              "#fdca26"
             ],
             [
              1,
              "#f0f921"
             ]
            ],
            "type": "histogram2d"
           }
          ],
          "histogram2dcontour": [
           {
            "colorbar": {
             "outlinewidth": 0,
             "ticks": ""
            },
            "colorscale": [
             [
              0,
              "#0d0887"
             ],
             [
              0.1111111111111111,
              "#46039f"
             ],
             [
              0.2222222222222222,
              "#7201a8"
             ],
             [
              0.3333333333333333,
              "#9c179e"
             ],
             [
              0.4444444444444444,
              "#bd3786"
             ],
             [
              0.5555555555555556,
              "#d8576b"
             ],
             [
              0.6666666666666666,
              "#ed7953"
             ],
             [
              0.7777777777777778,
              "#fb9f3a"
             ],
             [
              0.8888888888888888,
              "#fdca26"
             ],
             [
              1,
              "#f0f921"
             ]
            ],
            "type": "histogram2dcontour"
           }
          ],
          "mesh3d": [
           {
            "colorbar": {
             "outlinewidth": 0,
             "ticks": ""
            },
            "type": "mesh3d"
           }
          ],
          "parcoords": [
           {
            "line": {
             "colorbar": {
              "outlinewidth": 0,
              "ticks": ""
             }
            },
            "type": "parcoords"
           }
          ],
          "pie": [
           {
            "automargin": true,
            "type": "pie"
           }
          ],
          "scatter": [
           {
            "fillpattern": {
             "fillmode": "overlay",
             "size": 10,
             "solidity": 0.2
            },
            "type": "scatter"
           }
          ],
          "scatter3d": [
           {
            "line": {
             "colorbar": {
              "outlinewidth": 0,
              "ticks": ""
             }
            },
            "marker": {
             "colorbar": {
              "outlinewidth": 0,
              "ticks": ""
             }
            },
            "type": "scatter3d"
           }
          ],
          "scattercarpet": [
           {
            "marker": {
             "colorbar": {
              "outlinewidth": 0,
              "ticks": ""
             }
            },
            "type": "scattercarpet"
           }
          ],
          "scattergeo": [
           {
            "marker": {
             "colorbar": {
              "outlinewidth": 0,
              "ticks": ""
             }
            },
            "type": "scattergeo"
           }
          ],
          "scattergl": [
           {
            "marker": {
             "colorbar": {
              "outlinewidth": 0,
              "ticks": ""
             }
            },
            "type": "scattergl"
           }
          ],
          "scattermapbox": [
           {
            "marker": {
             "colorbar": {
              "outlinewidth": 0,
              "ticks": ""
             }
            },
            "type": "scattermapbox"
           }
          ],
          "scatterpolar": [
           {
            "marker": {
             "colorbar": {
              "outlinewidth": 0,
              "ticks": ""
             }
            },
            "type": "scatterpolar"
           }
          ],
          "scatterpolargl": [
           {
            "marker": {
             "colorbar": {
              "outlinewidth": 0,
              "ticks": ""
             }
            },
            "type": "scatterpolargl"
           }
          ],
          "scatterternary": [
           {
            "marker": {
             "colorbar": {
              "outlinewidth": 0,
              "ticks": ""
             }
            },
            "type": "scatterternary"
           }
          ],
          "surface": [
           {
            "colorbar": {
             "outlinewidth": 0,
             "ticks": ""
            },
            "colorscale": [
             [
              0,
              "#0d0887"
             ],
             [
              0.1111111111111111,
              "#46039f"
             ],
             [
              0.2222222222222222,
              "#7201a8"
             ],
             [
              0.3333333333333333,
              "#9c179e"
             ],
             [
              0.4444444444444444,
              "#bd3786"
             ],
             [
              0.5555555555555556,
              "#d8576b"
             ],
             [
              0.6666666666666666,
              "#ed7953"
             ],
             [
              0.7777777777777778,
              "#fb9f3a"
             ],
             [
              0.8888888888888888,
              "#fdca26"
             ],
             [
              1,
              "#f0f921"
             ]
            ],
            "type": "surface"
           }
          ],
          "table": [
           {
            "cells": {
             "fill": {
              "color": "#EBF0F8"
             },
             "line": {
              "color": "white"
             }
            },
            "header": {
             "fill": {
              "color": "#C8D4E3"
             },
             "line": {
              "color": "white"
             }
            },
            "type": "table"
           }
          ]
         },
         "layout": {
          "annotationdefaults": {
           "arrowcolor": "#2a3f5f",
           "arrowhead": 0,
           "arrowwidth": 1
          },
          "autotypenumbers": "strict",
          "coloraxis": {
           "colorbar": {
            "outlinewidth": 0,
            "ticks": ""
           }
          },
          "colorscale": {
           "diverging": [
            [
             0,
             "#8e0152"
            ],
            [
             0.1,
             "#c51b7d"
            ],
            [
             0.2,
             "#de77ae"
            ],
            [
             0.3,
             "#f1b6da"
            ],
            [
             0.4,
             "#fde0ef"
            ],
            [
             0.5,
             "#f7f7f7"
            ],
            [
             0.6,
             "#e6f5d0"
            ],
            [
             0.7,
             "#b8e186"
            ],
            [
             0.8,
             "#7fbc41"
            ],
            [
             0.9,
             "#4d9221"
            ],
            [
             1,
             "#276419"
            ]
           ],
           "sequential": [
            [
             0,
             "#0d0887"
            ],
            [
             0.1111111111111111,
             "#46039f"
            ],
            [
             0.2222222222222222,
             "#7201a8"
            ],
            [
             0.3333333333333333,
             "#9c179e"
            ],
            [
             0.4444444444444444,
             "#bd3786"
            ],
            [
             0.5555555555555556,
             "#d8576b"
            ],
            [
             0.6666666666666666,
             "#ed7953"
            ],
            [
             0.7777777777777778,
             "#fb9f3a"
            ],
            [
             0.8888888888888888,
             "#fdca26"
            ],
            [
             1,
             "#f0f921"
            ]
           ],
           "sequentialminus": [
            [
             0,
             "#0d0887"
            ],
            [
             0.1111111111111111,
             "#46039f"
            ],
            [
             0.2222222222222222,
             "#7201a8"
            ],
            [
             0.3333333333333333,
             "#9c179e"
            ],
            [
             0.4444444444444444,
             "#bd3786"
            ],
            [
             0.5555555555555556,
             "#d8576b"
            ],
            [
             0.6666666666666666,
             "#ed7953"
            ],
            [
             0.7777777777777778,
             "#fb9f3a"
            ],
            [
             0.8888888888888888,
             "#fdca26"
            ],
            [
             1,
             "#f0f921"
            ]
           ]
          },
          "colorway": [
           "#636efa",
           "#EF553B",
           "#00cc96",
           "#ab63fa",
           "#FFA15A",
           "#19d3f3",
           "#FF6692",
           "#B6E880",
           "#FF97FF",
           "#FECB52"
          ],
          "font": {
           "color": "#2a3f5f"
          },
          "geo": {
           "bgcolor": "white",
           "lakecolor": "white",
           "landcolor": "#E5ECF6",
           "showlakes": true,
           "showland": true,
           "subunitcolor": "white"
          },
          "hoverlabel": {
           "align": "left"
          },
          "hovermode": "closest",
          "mapbox": {
           "style": "light"
          },
          "paper_bgcolor": "white",
          "plot_bgcolor": "#E5ECF6",
          "polar": {
           "angularaxis": {
            "gridcolor": "white",
            "linecolor": "white",
            "ticks": ""
           },
           "bgcolor": "#E5ECF6",
           "radialaxis": {
            "gridcolor": "white",
            "linecolor": "white",
            "ticks": ""
           }
          },
          "scene": {
           "xaxis": {
            "backgroundcolor": "#E5ECF6",
            "gridcolor": "white",
            "gridwidth": 2,
            "linecolor": "white",
            "showbackground": true,
            "ticks": "",
            "zerolinecolor": "white"
           },
           "yaxis": {
            "backgroundcolor": "#E5ECF6",
            "gridcolor": "white",
            "gridwidth": 2,
            "linecolor": "white",
            "showbackground": true,
            "ticks": "",
            "zerolinecolor": "white"
           },
           "zaxis": {
            "backgroundcolor": "#E5ECF6",
            "gridcolor": "white",
            "gridwidth": 2,
            "linecolor": "white",
            "showbackground": true,
            "ticks": "",
            "zerolinecolor": "white"
           }
          },
          "shapedefaults": {
           "line": {
            "color": "#2a3f5f"
           }
          },
          "ternary": {
           "aaxis": {
            "gridcolor": "white",
            "linecolor": "white",
            "ticks": ""
           },
           "baxis": {
            "gridcolor": "white",
            "linecolor": "white",
            "ticks": ""
           },
           "bgcolor": "#E5ECF6",
           "caxis": {
            "gridcolor": "white",
            "linecolor": "white",
            "ticks": ""
           }
          },
          "title": {
           "x": 0.05
          },
          "xaxis": {
           "automargin": true,
           "gridcolor": "white",
           "linecolor": "white",
           "ticks": "",
           "title": {
            "standoff": 15
           },
           "zerolinecolor": "white",
           "zerolinewidth": 2
          },
          "yaxis": {
           "automargin": true,
           "gridcolor": "white",
           "linecolor": "white",
           "ticks": "",
           "title": {
            "standoff": 15
           },
           "zerolinecolor": "white",
           "zerolinewidth": 2
          }
         }
        }
       }
      },
      "text/html": [
       "<div>                            <div id=\"1960f8bc-4b21-49c2-a999-e7fd2da8acb6\" class=\"plotly-graph-div\" style=\"height:525px; width:100%;\"></div>            <script type=\"text/javascript\">                require([\"plotly\"], function(Plotly) {                    window.PLOTLYENV=window.PLOTLYENV || {};                                    if (document.getElementById(\"1960f8bc-4b21-49c2-a999-e7fd2da8acb6\")) {                    Plotly.newPlot(                        \"1960f8bc-4b21-49c2-a999-e7fd2da8acb6\",                        [{\"coloraxis\":\"coloraxis\",\"geo\":\"geo\",\"hovertemplate\":\"<b>%{hovertext}</b><br><br>iso_alpha=%{location}<br>negative_proportion=%{z}<extra></extra>\",\"hovertext\":[\"Australia\",\"Azerbaijan\",\"Belarus\",\"Bulgaria\",\"Canada\",\"Czech Republic\",\"Estonia\",\"Finland\",\"France\",\"Georgia\",\"Germany\",\"Greece\",\"India\",\"Israel\",\"Italy\",\"Japan\",\"Kazakhstan\",\"Latvia\",\"Lithuania\",\"Luxembourg\",\"Mongolia\",\"Morocco\",\"Poland\",\"Russia\",\"Serbia\",\"Slovenia\",\"Spain\",\"Switzerland\",\"Thailand\",\"Turkey\",\"Ukraine\",\"United Kingdom\",\"United States\"],\"locations\":[\"AUS\",\"AZE\",\"BLR\",\"BGR\",\"CAN\",\"CZE\",\"EST\",\"FIN\",\"FRA\",\"GEO\",\"DEU\",\"GRC\",\"IND\",\"ISR\",\"ITA\",\"JPN\",\"KAZ\",\"LVA\",\"LTU\",\"LUX\",\"MNG\",\"MAR\",\"POL\",\"RUS\",\"SRB\",\"SVN\",\"ESP\",\"CHE\",\"THA\",\"TUR\",\"UKR\",\"GBR\",\"USA\"],\"name\":\"\",\"z\":[0.0,0.0,0.06944444444444445,0.14285714285714285,0.19444444444444445,0.11538461538461539,0.2,0.15625,0.07142857142857142,0.07692307692307693,0.07368421052631578,0.0,0.027777777777777776,0.0,0.13333333333333333,0.2,0.13953488372093023,0.125,0.0,0.08333333333333333,0.02666666666666667,0.0,0.22641509433962265,0.12867647058823528,0.0,0.25,0.0,0.0,0.0,0.0,0.12791519434628976,0.047058823529411764,0.1220472440944882],\"type\":\"choropleth\"}],                        {\"template\":{\"data\":{\"histogram2dcontour\":[{\"type\":\"histogram2dcontour\",\"colorbar\":{\"outlinewidth\":0,\"ticks\":\"\"},\"colorscale\":[[0.0,\"#0d0887\"],[0.1111111111111111,\"#46039f\"],[0.2222222222222222,\"#7201a8\"],[0.3333333333333333,\"#9c179e\"],[0.4444444444444444,\"#bd3786\"],[0.5555555555555556,\"#d8576b\"],[0.6666666666666666,\"#ed7953\"],[0.7777777777777778,\"#fb9f3a\"],[0.8888888888888888,\"#fdca26\"],[1.0,\"#f0f921\"]]}],\"choropleth\":[{\"type\":\"choropleth\",\"colorbar\":{\"outlinewidth\":0,\"ticks\":\"\"}}],\"histogram2d\":[{\"type\":\"histogram2d\",\"colorbar\":{\"outlinewidth\":0,\"ticks\":\"\"},\"colorscale\":[[0.0,\"#0d0887\"],[0.1111111111111111,\"#46039f\"],[0.2222222222222222,\"#7201a8\"],[0.3333333333333333,\"#9c179e\"],[0.4444444444444444,\"#bd3786\"],[0.5555555555555556,\"#d8576b\"],[0.6666666666666666,\"#ed7953\"],[0.7777777777777778,\"#fb9f3a\"],[0.8888888888888888,\"#fdca26\"],[1.0,\"#f0f921\"]]}],\"heatmap\":[{\"type\":\"heatmap\",\"colorbar\":{\"outlinewidth\":0,\"ticks\":\"\"},\"colorscale\":[[0.0,\"#0d0887\"],[0.1111111111111111,\"#46039f\"],[0.2222222222222222,\"#7201a8\"],[0.3333333333333333,\"#9c179e\"],[0.4444444444444444,\"#bd3786\"],[0.5555555555555556,\"#d8576b\"],[0.6666666666666666,\"#ed7953\"],[0.7777777777777778,\"#fb9f3a\"],[0.8888888888888888,\"#fdca26\"],[1.0,\"#f0f921\"]]}],\"heatmapgl\":[{\"type\":\"heatmapgl\",\"colorbar\":{\"outlinewidth\":0,\"ticks\":\"\"},\"colorscale\":[[0.0,\"#0d0887\"],[0.1111111111111111,\"#46039f\"],[0.2222222222222222,\"#7201a8\"],[0.3333333333333333,\"#9c179e\"],[0.4444444444444444,\"#bd3786\"],[0.5555555555555556,\"#d8576b\"],[0.6666666666666666,\"#ed7953\"],[0.7777777777777778,\"#fb9f3a\"],[0.8888888888888888,\"#fdca26\"],[1.0,\"#f0f921\"]]}],\"contourcarpet\":[{\"type\":\"contourcarpet\",\"colorbar\":{\"outlinewidth\":0,\"ticks\":\"\"}}],\"contour\":[{\"type\":\"contour\",\"colorbar\":{\"outlinewidth\":0,\"ticks\":\"\"},\"colorscale\":[[0.0,\"#0d0887\"],[0.1111111111111111,\"#46039f\"],[0.2222222222222222,\"#7201a8\"],[0.3333333333333333,\"#9c179e\"],[0.4444444444444444,\"#bd3786\"],[0.5555555555555556,\"#d8576b\"],[0.6666666666666666,\"#ed7953\"],[0.7777777777777778,\"#fb9f3a\"],[0.8888888888888888,\"#fdca26\"],[1.0,\"#f0f921\"]]}],\"surface\":[{\"type\":\"surface\",\"colorbar\":{\"outlinewidth\":0,\"ticks\":\"\"},\"colorscale\":[[0.0,\"#0d0887\"],[0.1111111111111111,\"#46039f\"],[0.2222222222222222,\"#7201a8\"],[0.3333333333333333,\"#9c179e\"],[0.4444444444444444,\"#bd3786\"],[0.5555555555555556,\"#d8576b\"],[0.6666666666666666,\"#ed7953\"],[0.7777777777777778,\"#fb9f3a\"],[0.8888888888888888,\"#fdca26\"],[1.0,\"#f0f921\"]]}],\"mesh3d\":[{\"type\":\"mesh3d\",\"colorbar\":{\"outlinewidth\":0,\"ticks\":\"\"}}],\"scatter\":[{\"fillpattern\":{\"fillmode\":\"overlay\",\"size\":10,\"solidity\":0.2},\"type\":\"scatter\"}],\"parcoords\":[{\"type\":\"parcoords\",\"line\":{\"colorbar\":{\"outlinewidth\":0,\"ticks\":\"\"}}}],\"scatterpolargl\":[{\"type\":\"scatterpolargl\",\"marker\":{\"colorbar\":{\"outlinewidth\":0,\"ticks\":\"\"}}}],\"bar\":[{\"error_x\":{\"color\":\"#2a3f5f\"},\"error_y\":{\"color\":\"#2a3f5f\"},\"marker\":{\"line\":{\"color\":\"#E5ECF6\",\"width\":0.5},\"pattern\":{\"fillmode\":\"overlay\",\"size\":10,\"solidity\":0.2}},\"type\":\"bar\"}],\"scattergeo\":[{\"type\":\"scattergeo\",\"marker\":{\"colorbar\":{\"outlinewidth\":0,\"ticks\":\"\"}}}],\"scatterpolar\":[{\"type\":\"scatterpolar\",\"marker\":{\"colorbar\":{\"outlinewidth\":0,\"ticks\":\"\"}}}],\"histogram\":[{\"marker\":{\"pattern\":{\"fillmode\":\"overlay\",\"size\":10,\"solidity\":0.2}},\"type\":\"histogram\"}],\"scattergl\":[{\"type\":\"scattergl\",\"marker\":{\"colorbar\":{\"outlinewidth\":0,\"ticks\":\"\"}}}],\"scatter3d\":[{\"type\":\"scatter3d\",\"line\":{\"colorbar\":{\"outlinewidth\":0,\"ticks\":\"\"}},\"marker\":{\"colorbar\":{\"outlinewidth\":0,\"ticks\":\"\"}}}],\"scattermapbox\":[{\"type\":\"scattermapbox\",\"marker\":{\"colorbar\":{\"outlinewidth\":0,\"ticks\":\"\"}}}],\"scatterternary\":[{\"type\":\"scatterternary\",\"marker\":{\"colorbar\":{\"outlinewidth\":0,\"ticks\":\"\"}}}],\"scattercarpet\":[{\"type\":\"scattercarpet\",\"marker\":{\"colorbar\":{\"outlinewidth\":0,\"ticks\":\"\"}}}],\"carpet\":[{\"aaxis\":{\"endlinecolor\":\"#2a3f5f\",\"gridcolor\":\"white\",\"linecolor\":\"white\",\"minorgridcolor\":\"white\",\"startlinecolor\":\"#2a3f5f\"},\"baxis\":{\"endlinecolor\":\"#2a3f5f\",\"gridcolor\":\"white\",\"linecolor\":\"white\",\"minorgridcolor\":\"white\",\"startlinecolor\":\"#2a3f5f\"},\"type\":\"carpet\"}],\"table\":[{\"cells\":{\"fill\":{\"color\":\"#EBF0F8\"},\"line\":{\"color\":\"white\"}},\"header\":{\"fill\":{\"color\":\"#C8D4E3\"},\"line\":{\"color\":\"white\"}},\"type\":\"table\"}],\"barpolar\":[{\"marker\":{\"line\":{\"color\":\"#E5ECF6\",\"width\":0.5},\"pattern\":{\"fillmode\":\"overlay\",\"size\":10,\"solidity\":0.2}},\"type\":\"barpolar\"}],\"pie\":[{\"automargin\":true,\"type\":\"pie\"}]},\"layout\":{\"autotypenumbers\":\"strict\",\"colorway\":[\"#636efa\",\"#EF553B\",\"#00cc96\",\"#ab63fa\",\"#FFA15A\",\"#19d3f3\",\"#FF6692\",\"#B6E880\",\"#FF97FF\",\"#FECB52\"],\"font\":{\"color\":\"#2a3f5f\"},\"hovermode\":\"closest\",\"hoverlabel\":{\"align\":\"left\"},\"paper_bgcolor\":\"white\",\"plot_bgcolor\":\"#E5ECF6\",\"polar\":{\"bgcolor\":\"#E5ECF6\",\"angularaxis\":{\"gridcolor\":\"white\",\"linecolor\":\"white\",\"ticks\":\"\"},\"radialaxis\":{\"gridcolor\":\"white\",\"linecolor\":\"white\",\"ticks\":\"\"}},\"ternary\":{\"bgcolor\":\"#E5ECF6\",\"aaxis\":{\"gridcolor\":\"white\",\"linecolor\":\"white\",\"ticks\":\"\"},\"baxis\":{\"gridcolor\":\"white\",\"linecolor\":\"white\",\"ticks\":\"\"},\"caxis\":{\"gridcolor\":\"white\",\"linecolor\":\"white\",\"ticks\":\"\"}},\"coloraxis\":{\"colorbar\":{\"outlinewidth\":0,\"ticks\":\"\"}},\"colorscale\":{\"sequential\":[[0.0,\"#0d0887\"],[0.1111111111111111,\"#46039f\"],[0.2222222222222222,\"#7201a8\"],[0.3333333333333333,\"#9c179e\"],[0.4444444444444444,\"#bd3786\"],[0.5555555555555556,\"#d8576b\"],[0.6666666666666666,\"#ed7953\"],[0.7777777777777778,\"#fb9f3a\"],[0.8888888888888888,\"#fdca26\"],[1.0,\"#f0f921\"]],\"sequentialminus\":[[0.0,\"#0d0887\"],[0.1111111111111111,\"#46039f\"],[0.2222222222222222,\"#7201a8\"],[0.3333333333333333,\"#9c179e\"],[0.4444444444444444,\"#bd3786\"],[0.5555555555555556,\"#d8576b\"],[0.6666666666666666,\"#ed7953\"],[0.7777777777777778,\"#fb9f3a\"],[0.8888888888888888,\"#fdca26\"],[1.0,\"#f0f921\"]],\"diverging\":[[0,\"#8e0152\"],[0.1,\"#c51b7d\"],[0.2,\"#de77ae\"],[0.3,\"#f1b6da\"],[0.4,\"#fde0ef\"],[0.5,\"#f7f7f7\"],[0.6,\"#e6f5d0\"],[0.7,\"#b8e186\"],[0.8,\"#7fbc41\"],[0.9,\"#4d9221\"],[1,\"#276419\"]]},\"xaxis\":{\"gridcolor\":\"white\",\"linecolor\":\"white\",\"ticks\":\"\",\"title\":{\"standoff\":15},\"zerolinecolor\":\"white\",\"automargin\":true,\"zerolinewidth\":2},\"yaxis\":{\"gridcolor\":\"white\",\"linecolor\":\"white\",\"ticks\":\"\",\"title\":{\"standoff\":15},\"zerolinecolor\":\"white\",\"automargin\":true,\"zerolinewidth\":2},\"scene\":{\"xaxis\":{\"backgroundcolor\":\"#E5ECF6\",\"gridcolor\":\"white\",\"linecolor\":\"white\",\"showbackground\":true,\"ticks\":\"\",\"zerolinecolor\":\"white\",\"gridwidth\":2},\"yaxis\":{\"backgroundcolor\":\"#E5ECF6\",\"gridcolor\":\"white\",\"linecolor\":\"white\",\"showbackground\":true,\"ticks\":\"\",\"zerolinecolor\":\"white\",\"gridwidth\":2},\"zaxis\":{\"backgroundcolor\":\"#E5ECF6\",\"gridcolor\":\"white\",\"linecolor\":\"white\",\"showbackground\":true,\"ticks\":\"\",\"zerolinecolor\":\"white\",\"gridwidth\":2}},\"shapedefaults\":{\"line\":{\"color\":\"#2a3f5f\"}},\"annotationdefaults\":{\"arrowcolor\":\"#2a3f5f\",\"arrowhead\":0,\"arrowwidth\":1},\"geo\":{\"bgcolor\":\"white\",\"landcolor\":\"#E5ECF6\",\"subunitcolor\":\"white\",\"showland\":true,\"showlakes\":true,\"lakecolor\":\"white\"},\"title\":{\"x\":0.05},\"mapbox\":{\"style\":\"light\"}}},\"geo\":{\"domain\":{\"x\":[0.0,1.0],\"y\":[0.0,1.0]},\"center\":{}},\"coloraxis\":{\"colorbar\":{\"title\":{\"text\":\"negative_proportion\"}},\"colorscale\":[[0.0,\"#0d0887\"],[0.1111111111111111,\"#46039f\"],[0.2222222222222222,\"#7201a8\"],[0.3333333333333333,\"#9c179e\"],[0.4444444444444444,\"#bd3786\"],[0.5555555555555556,\"#d8576b\"],[0.6666666666666666,\"#ed7953\"],[0.7777777777777778,\"#fb9f3a\"],[0.8888888888888888,\"#fdca26\"],[1.0,\"#f0f921\"]]},\"legend\":{\"tracegroupgap\":0},\"margin\":{\"t\":60}},                        {\"responsive\": true}                    ).then(function(){\n",
       "                            \n",
       "var gd = document.getElementById('1960f8bc-4b21-49c2-a999-e7fd2da8acb6');\n",
       "var x = new MutationObserver(function (mutations, observer) {{\n",
       "        var display = window.getComputedStyle(gd).display;\n",
       "        if (!display || display === 'none') {{\n",
       "            console.log([gd, 'removed!']);\n",
       "            Plotly.purge(gd);\n",
       "            observer.disconnect();\n",
       "        }}\n",
       "}});\n",
       "\n",
       "// Listen for the removal of the full notebook cells\n",
       "var notebookContainer = gd.closest('#notebook-container');\n",
       "if (notebookContainer) {{\n",
       "    x.observe(notebookContainer, {childList: true});\n",
       "}}\n",
       "\n",
       "// Listen for the clearing of the current output cell\n",
       "var outputEl = gd.closest('.output');\n",
       "if (outputEl) {{\n",
       "    x.observe(outputEl, {childList: true});\n",
       "}}\n",
       "\n",
       "                        })                };                });            </script>        </div>"
      ]
     },
     "metadata": {},
     "output_type": "display_data"
    }
   ],
   "source": [
    "fig = px.choropleth(df_countries, \n",
    "                    locations=\"iso_alpha\",\n",
    "                    color=\"negative_proportion\", \n",
    "                    hover_name=\"country\", # column to add to hover information\n",
    "                    color_continuous_scale=px.colors.sequential.Plasma)\n",
    "\n",
    "fig.show()"
   ]
  },
  {
   "cell_type": "markdown",
   "id": "82a3ab82",
   "metadata": {},
   "source": [
    "# Word Cloud"
   ]
  },
  {
   "cell_type": "markdown",
   "id": "d7307115",
   "metadata": {},
   "source": [
    "Word cloud for each of the opinion "
   ]
  },
  {
   "cell_type": "code",
   "execution_count": 178,
   "id": "95d61b3b",
   "metadata": {
    "ExecuteTime": {
     "end_time": "2022-05-18T23:45:37.091458Z",
     "start_time": "2022-05-18T23:45:37.077617Z"
    }
   },
   "outputs": [],
   "source": [
    "russian_stop_words = stopwords.words(\"russian\")\n",
    "def tokenize_text(x):\n",
    "    tokens = word_tokenize(x, language='russian')\n",
    "    tokens_no_punkt = [i for i in tokens if i not in string.punctuation]\n",
    "    tokens_no_stopwords = [i for i in tokens_no_punkt if i not in russian_stop_words]\n",
    "    #stemmed_tokens = [snowball.stem(i) for i in tokens_no_stopwords]\n",
    "    return tokens_no_stopwords"
   ]
  },
  {
   "cell_type": "code",
   "execution_count": 130,
   "id": "096554de",
   "metadata": {
    "ExecuteTime": {
     "end_time": "2022-05-18T18:19:03.315508Z",
     "start_time": "2022-05-18T18:19:02.259204Z"
    },
    "scrolled": true
   },
   "outputs": [
    {
     "data": {
      "image/png": "[encoded data removed]",
      "text/plain": [
       "<Figure size 720x360 with 1 Axes>"
      ]
     },
     "metadata": {},
     "output_type": "display_data"
    }
   ],
   "source": [
    "text = ' '.join([' '.join(x) for x in [tokenize_text(x) for x \\\n",
    "                                       in df.loc[df['opinion_prediction'] == 1, 'text_clean']]])\n",
    "\n",
    "# Create and generate a word cloud image:\n",
    "wordcloud = WordCloud().generate(text)\n",
    "\n",
    "plt.figure(figsize=(10,5))\n",
    "plt.imshow(wordcloud, interpolation='bilinear')\n",
    "plt.axis(\"off\")\n",
    "plt.show()"
   ]
  },
  {
   "cell_type": "code",
   "execution_count": 131,
   "id": "fb1ae935",
   "metadata": {
    "ExecuteTime": {
     "end_time": "2022-05-18T18:19:25.499156Z",
     "start_time": "2022-05-18T18:19:23.366232Z"
    }
   },
   "outputs": [
    {
     "data": {
      "image/png": "[encoded data removed]",
      "text/plain": [
       "<Figure size 720x360 with 1 Axes>"
      ]
     },
     "metadata": {},
     "output_type": "display_data"
    }
   ],
   "source": [
    "text = ' '.join([' '.join(x) for x in [tokenize_text(x) for x \\\n",
    "                                       in df.loc[df['opinion_prediction'] == 0, 'text_clean']]])\n",
    "\n",
    "# Create and generate a word cloud image:\n",
    "wordcloud = WordCloud().generate(text)\n",
    "\n",
    "plt.figure(figsize=(10,5))\n",
    "plt.imshow(wordcloud, interpolation='bilinear')\n",
    "plt.axis(\"off\")\n",
    "plt.show()"
   ]
  },
  {
   "cell_type": "code",
   "execution_count": null,
   "id": "559fcdee",
   "metadata": {},
   "outputs": [],
   "source": []
  }
 ],
 "metadata": {
  "kernelspec": {
   "display_name": "Python 3 (ipykernel)",
   "language": "python",
   "name": "python3"
  },
  "language_info": {
   "codemirror_mode": {
    "name": "ipython",
    "version": 3
   },
   "file_extension": ".py",
   "mimetype": "text/x-python",
   "name": "python",
   "nbconvert_exporter": "python",
   "pygments_lexer": "ipython3",
   "version": "3.9.7"
  },
  "toc": {
   "base_numbering": 1,
   "nav_menu": {},
   "number_sections": true,
   "sideBar": true,
   "skip_h1_title": false,
   "title_cell": "Table of Contents",
   "title_sidebar": "Contents",
   "toc_cell": false,
   "toc_position": {
    "height": "calc(100% - 180px)",
    "left": "10px",
    "top": "150px",
    "width": "197.391px"
   },
   "toc_section_display": true,
   "toc_window_display": true
  }
 },
 "nbformat": 4,
 "nbformat_minor": 5
}
