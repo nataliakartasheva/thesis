{
 "cells": [
  {
   "cell_type": "code",
   "execution_count": 42,
   "id": "dcf4ca14",
   "metadata": {
    "ExecuteTime": {
     "end_time": "2022-05-17T17:44:18.082161Z",
     "start_time": "2022-05-17T17:44:18.064453Z"
    }
   },
   "outputs": [
    {
     "name": "stderr",
     "output_type": "stream",
     "text": [
      "[nltk_data] Downloading package punkt to\n",
      "[nltk_data]     /Users/vladimirkulichenko/nltk_data...\n",
      "[nltk_data]   Package punkt is already up-to-date!\n",
      "[nltk_data] Downloading package stopwords to\n",
      "[nltk_data]     /Users/vladimirkulichenko/nltk_data...\n",
      "[nltk_data]   Package stopwords is already up-to-date!\n"
     ]
    },
    {
     "data": {
      "text/plain": [
       "True"
      ]
     },
     "execution_count": 42,
     "metadata": {},
     "output_type": "execute_result"
    }
   ],
   "source": [
    "import pandas as pd\n",
    "import numpy as np\n",
    "import re\n",
    "import string\n",
    "import nltk\n",
    "\n",
    "from twython import Twython\n",
    "\n",
    "from nltk.tokenize import word_tokenize\n",
    "from nltk.corpus import stopwords\n",
    "from nltk.stem import SnowballStemmer\n",
    "\n",
    "from sklearn.pipeline import Pipeline\n",
    "from sklearn.feature_extraction.text import TfidfVectorizer\n",
    "from sklearn.ensemble import RandomForestClassifier, GradientBoostingClassifier\n",
    "from sklearn.model_selection import train_test_split\n",
    "from sklearn.metrics import accuracy_score, recall_score, precision_score, roc_auc_score\n",
    "\n",
    "from IPython.display import clear_output\n",
    "\n",
    "import plotly.express as px\n",
    "\n",
    "import matplotlib.pyplot as plt\n",
    "\n",
    "from dostoevsky.tokenization import RegexTokenizer\n",
    "from dostoevsky.models import FastTextSocialNetworkModel\n",
    "\n",
    "nltk.download('punkt')\n",
    "nltk.download('stopwords')"
   ]
  },
  {
   "cell_type": "markdown",
   "id": "68e0ead6",
   "metadata": {},
   "source": [
    "# Data"
   ]
  },
  {
   "cell_type": "code",
   "execution_count": 3,
   "id": "b5c4a4c7",
   "metadata": {
    "ExecuteTime": {
     "end_time": "2022-05-17T16:58:14.540981Z",
     "start_time": "2022-05-17T16:58:14.428193Z"
    }
   },
   "outputs": [],
   "source": [
    "df = pd.read_csv('tweets_labeled_final.csv')"
   ]
  },
  {
   "cell_type": "code",
   "execution_count": 5,
   "id": "b845fa0a",
   "metadata": {
    "ExecuteTime": {
     "end_time": "2022-05-17T16:58:33.116137Z",
     "start_time": "2022-05-17T16:58:33.099638Z"
    }
   },
   "outputs": [],
   "source": [
    "df = df[df.columns[2:]]"
   ]
  },
  {
   "cell_type": "code",
   "execution_count": 6,
   "id": "62cf60d9",
   "metadata": {
    "ExecuteTime": {
     "end_time": "2022-05-17T16:58:33.743581Z",
     "start_time": "2022-05-17T16:58:33.712125Z"
    },
    "scrolled": false
   },
   "outputs": [
    {
     "data": {
      "text/html": [
       "<div>\n",
       "<style scoped>\n",
       "    .dataframe tbody tr th:only-of-type {\n",
       "        vertical-align: middle;\n",
       "    }\n",
       "\n",
       "    .dataframe tbody tr th {\n",
       "        vertical-align: top;\n",
       "    }\n",
       "\n",
       "    .dataframe thead th {\n",
       "        text-align: right;\n",
       "    }\n",
       "</style>\n",
       "<table border=\"1\" class=\"dataframe\">\n",
       "  <thead>\n",
       "    <tr style=\"text-align: right;\">\n",
       "      <th></th>\n",
       "      <th>id</th>\n",
       "      <th>id_str</th>\n",
       "      <th>created_at</th>\n",
       "      <th>full_text</th>\n",
       "      <th>name</th>\n",
       "      <th>screen_name</th>\n",
       "      <th>location</th>\n",
       "      <th>followers_count</th>\n",
       "      <th>geo</th>\n",
       "      <th>place</th>\n",
       "      <th>retweet_count</th>\n",
       "      <th>favorite_count</th>\n",
       "      <th>operation_attitude</th>\n",
       "    </tr>\n",
       "  </thead>\n",
       "  <tbody>\n",
       "    <tr>\n",
       "      <th>0</th>\n",
       "      <td>1519654976116727808</td>\n",
       "      <td>1519654976116727808</td>\n",
       "      <td>Thu Apr 28 12:29:14 +0000 2022</td>\n",
       "      <td>RT @holodmedia: Российские войска вывезли из м...</td>\n",
       "      <td>badkid 💙💛</td>\n",
       "      <td>sergekills</td>\n",
       "      <td>born in Ukraine</td>\n",
       "      <td>671</td>\n",
       "      <td>NaN</td>\n",
       "      <td>NoData</td>\n",
       "      <td>21</td>\n",
       "      <td>0</td>\n",
       "      <td>NaN</td>\n",
       "    </tr>\n",
       "    <tr>\n",
       "      <th>1</th>\n",
       "      <td>1519655537973071873</td>\n",
       "      <td>1519655537973071873</td>\n",
       "      <td>Thu Apr 28 12:31:28 +0000 2022</td>\n",
       "      <td>ДНР.\\n\\n⚡️ Число погибших в результате обстрел...</td>\n",
       "      <td>Алексей Толстый</td>\n",
       "      <td>AlexeyNemo</td>\n",
       "      <td>ЛНР. Антрацит</td>\n",
       "      <td>4218</td>\n",
       "      <td>NaN</td>\n",
       "      <td>NoData</td>\n",
       "      <td>27</td>\n",
       "      <td>14</td>\n",
       "      <td>-1.0</td>\n",
       "    </tr>\n",
       "    <tr>\n",
       "      <th>2</th>\n",
       "      <td>1519657096010162177</td>\n",
       "      <td>1519657096010162177</td>\n",
       "      <td>Thu Apr 28 12:37:40 +0000 2022</td>\n",
       "      <td>RT @gABmQNyYKwFpuBX: А этот сраный \"карманный\"...</td>\n",
       "      <td>Соня Травникова Z</td>\n",
       "      <td>XXX68XXX</td>\n",
       "      <td>Луганск ЛНР</td>\n",
       "      <td>892</td>\n",
       "      <td>NaN</td>\n",
       "      <td>NoData</td>\n",
       "      <td>43</td>\n",
       "      <td>0</td>\n",
       "      <td>NaN</td>\n",
       "    </tr>\n",
       "    <tr>\n",
       "      <th>3</th>\n",
       "      <td>1519657291502522374</td>\n",
       "      <td>1519657291502522374</td>\n",
       "      <td>Thu Apr 28 12:38:26 +0000 2022</td>\n",
       "      <td>@GazetaRu Орки ДНР бомбят Донецк. Ничего нового.</td>\n",
       "      <td>𝐶𝑂𝐷𝐸 𝐷𝐴 𝑊𝐼𝑁𝐶𝐼</td>\n",
       "      <td>VinciGatto</td>\n",
       "      <td>Фашистская Россия</td>\n",
       "      <td>1064</td>\n",
       "      <td>NaN</td>\n",
       "      <td>NoData</td>\n",
       "      <td>0</td>\n",
       "      <td>0</td>\n",
       "      <td>NaN</td>\n",
       "    </tr>\n",
       "    <tr>\n",
       "      <th>4</th>\n",
       "      <td>1519657390823641093</td>\n",
       "      <td>1519657390823641093</td>\n",
       "      <td>Thu Apr 28 12:38:50 +0000 2022</td>\n",
       "      <td>@taraban_alex @GazetaRu Профессия врача не поз...</td>\n",
       "      <td>Юрий ВОЛКОВ</td>\n",
       "      <td>YuV1960</td>\n",
       "      <td>NaN</td>\n",
       "      <td>10</td>\n",
       "      <td>NaN</td>\n",
       "      <td>NoData</td>\n",
       "      <td>0</td>\n",
       "      <td>0</td>\n",
       "      <td>-1.0</td>\n",
       "    </tr>\n",
       "    <tr>\n",
       "      <th>...</th>\n",
       "      <td>...</td>\n",
       "      <td>...</td>\n",
       "      <td>...</td>\n",
       "      <td>...</td>\n",
       "      <td>...</td>\n",
       "      <td>...</td>\n",
       "      <td>...</td>\n",
       "      <td>...</td>\n",
       "      <td>...</td>\n",
       "      <td>...</td>\n",
       "      <td>...</td>\n",
       "      <td>...</td>\n",
       "      <td>...</td>\n",
       "    </tr>\n",
       "    <tr>\n",
       "      <th>14205</th>\n",
       "      <td>1523090259894013952</td>\n",
       "      <td>1523090259894013952</td>\n",
       "      <td>Sat May 07 23:59:50 +0000 2022</td>\n",
       "      <td>@taygainfo Это спецоперация такая, всё идёт по...</td>\n",
       "      <td>Татьяна Пастернак</td>\n",
       "      <td>PasternakTat</td>\n",
       "      <td>NaN</td>\n",
       "      <td>4</td>\n",
       "      <td>NaN</td>\n",
       "      <td>NoData</td>\n",
       "      <td>0</td>\n",
       "      <td>0</td>\n",
       "      <td>-1.0</td>\n",
       "    </tr>\n",
       "    <tr>\n",
       "      <th>14206</th>\n",
       "      <td>1523090266827096064</td>\n",
       "      <td>1523090266827096064</td>\n",
       "      <td>Sat May 07 23:59:51 +0000 2022</td>\n",
       "      <td>RT @KeepPeaceNoWar: \"Россия своих не бросает\"....</td>\n",
       "      <td>РВК ПНХ!</td>\n",
       "      <td>Svitlana861</td>\n",
       "      <td>NaN</td>\n",
       "      <td>51</td>\n",
       "      <td>NaN</td>\n",
       "      <td>NoData</td>\n",
       "      <td>31</td>\n",
       "      <td>0</td>\n",
       "      <td>NaN</td>\n",
       "    </tr>\n",
       "    <tr>\n",
       "      <th>14207</th>\n",
       "      <td>1523090268135645185</td>\n",
       "      <td>1523090268135645185</td>\n",
       "      <td>Sat May 07 23:59:52 +0000 2022</td>\n",
       "      <td>RT @SergejTalk: А почему Грета Тунберг не звон...</td>\n",
       "      <td>Ghavana</td>\n",
       "      <td>ghavana1</td>\n",
       "      <td>NaN</td>\n",
       "      <td>140</td>\n",
       "      <td>NaN</td>\n",
       "      <td>NoData</td>\n",
       "      <td>502</td>\n",
       "      <td>0</td>\n",
       "      <td>NaN</td>\n",
       "    </tr>\n",
       "    <tr>\n",
       "      <th>14208</th>\n",
       "      <td>1523090280827785220</td>\n",
       "      <td>1523090280827785220</td>\n",
       "      <td>Sat May 07 23:59:55 +0000 2022</td>\n",
       "      <td>RT @_sashayasha: «Оккупация Украины не входит ...</td>\n",
       "      <td>Адвокат Рaиса Литвиненко</td>\n",
       "      <td>litvinenko33</td>\n",
       "      <td>Химки, Россия</td>\n",
       "      <td>968</td>\n",
       "      <td>NaN</td>\n",
       "      <td>NoData</td>\n",
       "      <td>312</td>\n",
       "      <td>0</td>\n",
       "      <td>NaN</td>\n",
       "    </tr>\n",
       "    <tr>\n",
       "      <th>14209</th>\n",
       "      <td>1523090281146507265</td>\n",
       "      <td>1523090281146507265</td>\n",
       "      <td>Sat May 07 23:59:55 +0000 2022</td>\n",
       "      <td>Лидеры G8 обсудили дополнительные санкции прот...</td>\n",
       "      <td>Алекс Zонгер</td>\n",
       "      <td>spb_Iskander</td>\n",
       "      <td>Ленинград</td>\n",
       "      <td>506</td>\n",
       "      <td>NaN</td>\n",
       "      <td>NoData</td>\n",
       "      <td>0</td>\n",
       "      <td>0</td>\n",
       "      <td>NaN</td>\n",
       "    </tr>\n",
       "  </tbody>\n",
       "</table>\n",
       "<p>14210 rows × 13 columns</p>\n",
       "</div>"
      ],
      "text/plain": [
       "                        id               id_str  \\\n",
       "0      1519654976116727808  1519654976116727808   \n",
       "1      1519655537973071873  1519655537973071873   \n",
       "2      1519657096010162177  1519657096010162177   \n",
       "3      1519657291502522374  1519657291502522374   \n",
       "4      1519657390823641093  1519657390823641093   \n",
       "...                    ...                  ...   \n",
       "14205  1523090259894013952  1523090259894013952   \n",
       "14206  1523090266827096064  1523090266827096064   \n",
       "14207  1523090268135645185  1523090268135645185   \n",
       "14208  1523090280827785220  1523090280827785220   \n",
       "14209  1523090281146507265  1523090281146507265   \n",
       "\n",
       "                           created_at  \\\n",
       "0      Thu Apr 28 12:29:14 +0000 2022   \n",
       "1      Thu Apr 28 12:31:28 +0000 2022   \n",
       "2      Thu Apr 28 12:37:40 +0000 2022   \n",
       "3      Thu Apr 28 12:38:26 +0000 2022   \n",
       "4      Thu Apr 28 12:38:50 +0000 2022   \n",
       "...                               ...   \n",
       "14205  Sat May 07 23:59:50 +0000 2022   \n",
       "14206  Sat May 07 23:59:51 +0000 2022   \n",
       "14207  Sat May 07 23:59:52 +0000 2022   \n",
       "14208  Sat May 07 23:59:55 +0000 2022   \n",
       "14209  Sat May 07 23:59:55 +0000 2022   \n",
       "\n",
       "                                               full_text  \\\n",
       "0      RT @holodmedia: Российские войска вывезли из м...   \n",
       "1      ДНР.\\n\\n⚡️ Число погибших в результате обстрел...   \n",
       "2      RT @gABmQNyYKwFpuBX: А этот сраный \"карманный\"...   \n",
       "3       @GazetaRu Орки ДНР бомбят Донецк. Ничего нового.   \n",
       "4      @taraban_alex @GazetaRu Профессия врача не поз...   \n",
       "...                                                  ...   \n",
       "14205  @taygainfo Это спецоперация такая, всё идёт по...   \n",
       "14206  RT @KeepPeaceNoWar: \"Россия своих не бросает\"....   \n",
       "14207  RT @SergejTalk: А почему Грета Тунберг не звон...   \n",
       "14208  RT @_sashayasha: «Оккупация Украины не входит ...   \n",
       "14209  Лидеры G8 обсудили дополнительные санкции прот...   \n",
       "\n",
       "                           name   screen_name           location  \\\n",
       "0                     badkid 💙💛    sergekills   born in Ukraine    \n",
       "1               Алексей Толстый    AlexeyNemo      ЛНР. Антрацит   \n",
       "2             Соня Травникова Z      XXX68XXX        Луганск ЛНР   \n",
       "3                 𝐶𝑂𝐷𝐸 𝐷𝐴 𝑊𝐼𝑁𝐶𝐼    VinciGatto  Фашистская Россия   \n",
       "4                   Юрий ВОЛКОВ       YuV1960                NaN   \n",
       "...                         ...           ...                ...   \n",
       "14205         Татьяна Пастернак  PasternakTat                NaN   \n",
       "14206                  РВК ПНХ!   Svitlana861                NaN   \n",
       "14207                   Ghavana      ghavana1                NaN   \n",
       "14208  Адвокат Рaиса Литвиненко  litvinenko33      Химки, Россия   \n",
       "14209              Алекс Zонгер  spb_Iskander          Ленинград   \n",
       "\n",
       "       followers_count  geo   place  retweet_count  favorite_count  \\\n",
       "0                  671  NaN  NoData             21               0   \n",
       "1                 4218  NaN  NoData             27              14   \n",
       "2                  892  NaN  NoData             43               0   \n",
       "3                 1064  NaN  NoData              0               0   \n",
       "4                   10  NaN  NoData              0               0   \n",
       "...                ...  ...     ...            ...             ...   \n",
       "14205                4  NaN  NoData              0               0   \n",
       "14206               51  NaN  NoData             31               0   \n",
       "14207              140  NaN  NoData            502               0   \n",
       "14208              968  NaN  NoData            312               0   \n",
       "14209              506  NaN  NoData              0               0   \n",
       "\n",
       "       operation_attitude  \n",
       "0                     NaN  \n",
       "1                    -1.0  \n",
       "2                     NaN  \n",
       "3                     NaN  \n",
       "4                    -1.0  \n",
       "...                   ...  \n",
       "14205                -1.0  \n",
       "14206                 NaN  \n",
       "14207                 NaN  \n",
       "14208                 NaN  \n",
       "14209                 NaN  \n",
       "\n",
       "[14210 rows x 13 columns]"
      ]
     },
     "execution_count": 6,
     "metadata": {},
     "output_type": "execute_result"
    }
   ],
   "source": [
    "df"
   ]
  },
  {
   "cell_type": "markdown",
   "id": "1689db83",
   "metadata": {},
   "source": [
    "# Preparing tweets"
   ]
  },
  {
   "cell_type": "markdown",
   "id": "727468d2",
   "metadata": {},
   "source": [
    "## We clean from unnecessary information"
   ]
  },
  {
   "cell_type": "code",
   "execution_count": 7,
   "id": "32774941",
   "metadata": {
    "ExecuteTime": {
     "end_time": "2022-05-17T16:59:20.367358Z",
     "start_time": "2022-05-17T16:59:20.350604Z"
    }
   },
   "outputs": [],
   "source": [
    "df = df[df['full_text'].notna()]"
   ]
  },
  {
   "cell_type": "markdown",
   "id": "fba1c914",
   "metadata": {},
   "source": [
    "Remove all mentions of users (@***)"
   ]
  },
  {
   "cell_type": "code",
   "execution_count": 8,
   "id": "b4bf22a4",
   "metadata": {
    "ExecuteTime": {
     "end_time": "2022-05-17T16:59:20.637760Z",
     "start_time": "2022-05-17T16:59:20.594635Z"
    },
    "scrolled": true
   },
   "outputs": [],
   "source": [
    "df['text_clean'] = [re.sub(r'@\\w+', r'', x) for x in df['full_text']]"
   ]
  },
  {
   "cell_type": "markdown",
   "id": "e99a552d",
   "metadata": {},
   "source": [
    "Remove line breaks"
   ]
  },
  {
   "cell_type": "code",
   "execution_count": 9,
   "id": "fdaaa3f9",
   "metadata": {
    "ExecuteTime": {
     "end_time": "2022-05-17T16:59:20.828257Z",
     "start_time": "2022-05-17T16:59:20.802791Z"
    }
   },
   "outputs": [],
   "source": [
    "df['text_clean'] = [x.replace('\\n', '') for x in df['text_clean']]"
   ]
  },
  {
   "cell_type": "markdown",
   "id": "680a940a",
   "metadata": {},
   "source": [
    "Converting everything to lowercase"
   ]
  },
  {
   "cell_type": "code",
   "execution_count": 10,
   "id": "da52a243",
   "metadata": {
    "ExecuteTime": {
     "end_time": "2022-05-17T16:59:21.063503Z",
     "start_time": "2022-05-17T16:59:21.024671Z"
    }
   },
   "outputs": [],
   "source": [
    "df['text_clean'] = [x.lower() for x in df['text_clean']]"
   ]
  },
  {
   "cell_type": "markdown",
   "id": "19e96af7",
   "metadata": {},
   "source": [
    "Remove mentions of rt"
   ]
  },
  {
   "cell_type": "code",
   "execution_count": 11,
   "id": "1d63ea8f",
   "metadata": {
    "ExecuteTime": {
     "end_time": "2022-05-17T16:59:21.293293Z",
     "start_time": "2022-05-17T16:59:21.242646Z"
    }
   },
   "outputs": [],
   "source": [
    "df['text_clean'] = [re.sub(r'rt :', r'', x) for x in df['text_clean']]\n",
    "df['text_clean'] = [re.sub(r'rt', r'', x) for x in df['text_clean']]"
   ]
  },
  {
   "cell_type": "markdown",
   "id": "e53d67ea",
   "metadata": {},
   "source": [
    "Remove all links"
   ]
  },
  {
   "cell_type": "code",
   "execution_count": 12,
   "id": "696ca150",
   "metadata": {
    "ExecuteTime": {
     "end_time": "2022-05-17T16:59:21.495894Z",
     "start_time": "2022-05-17T16:59:21.460957Z"
    }
   },
   "outputs": [],
   "source": [
    "df['text_clean'] = [re.sub(r'http\\S+', r'', x) for x in df['text_clean']]"
   ]
  },
  {
   "cell_type": "markdown",
   "id": "3d9cef25",
   "metadata": {},
   "source": [
    "Remove emoji"
   ]
  },
  {
   "cell_type": "code",
   "execution_count": 13,
   "id": "2689ef10",
   "metadata": {
    "ExecuteTime": {
     "end_time": "2022-05-17T16:59:21.675998Z",
     "start_time": "2022-05-17T16:59:21.667357Z"
    }
   },
   "outputs": [],
   "source": [
    "emoji_pattern = re.compile(\"[\"\n",
    "        u\"\\U0001F600-\\U0001F64F\"  # emoticons\n",
    "        u\"\\U0001F300-\\U0001F5FF\"  # symbols & pictographs\n",
    "        u\"\\U0001F680-\\U0001F6FF\"  # transport & map symbols\n",
    "        u\"\\U0001F1E0-\\U0001F1FF\"  # flags (iOS)\n",
    "                           \"]+\", flags=re.UNICODE)"
   ]
  },
  {
   "cell_type": "code",
   "execution_count": 14,
   "id": "54a8046d",
   "metadata": {
    "ExecuteTime": {
     "end_time": "2022-05-17T16:59:21.846275Z",
     "start_time": "2022-05-17T16:59:21.770723Z"
    }
   },
   "outputs": [],
   "source": [
    "df['text_clean'] = [emoji_pattern.sub(r'', x) for x in df['text_clean']]"
   ]
  },
  {
   "cell_type": "code",
   "execution_count": 15,
   "id": "24deb39d",
   "metadata": {
    "ExecuteTime": {
     "end_time": "2022-05-17T16:59:21.900509Z",
     "start_time": "2022-05-17T16:59:21.860937Z"
    }
   },
   "outputs": [],
   "source": [
    "df['text_clean'] = [re.sub(r'❗️', r'', x) for x in df['text_clean']]\n",
    "df['text_clean'] = [re.sub(r'⚔️', r'', x) for x in df['text_clean']]\n",
    "df['text_clean'] = [re.sub(r'⚡', r'', x) for x in df['text_clean']]"
   ]
  },
  {
   "cell_type": "markdown",
   "id": "fa93d7de",
   "metadata": {},
   "source": [
    "Remove extra spaces"
   ]
  },
  {
   "cell_type": "code",
   "execution_count": 16,
   "id": "e9301509",
   "metadata": {
    "ExecuteTime": {
     "end_time": "2022-05-17T16:59:22.284997Z",
     "start_time": "2022-05-17T16:59:22.266031Z"
    }
   },
   "outputs": [],
   "source": [
    "df['text_clean'] = [x.strip() for x in df['text_clean']]"
   ]
  },
  {
   "cell_type": "markdown",
   "id": "b5896718",
   "metadata": {},
   "source": [
    "Remove partial punctuation"
   ]
  },
  {
   "cell_type": "code",
   "execution_count": 17,
   "id": "040b4dd3",
   "metadata": {
    "ExecuteTime": {
     "end_time": "2022-05-17T16:59:22.537461Z",
     "start_time": "2022-05-17T16:59:22.457414Z"
    }
   },
   "outputs": [],
   "source": [
    "df['text_clean'] = [re.sub(r'\"', r'', x) for x in df['text_clean']]\n",
    "df['text_clean'] = [re.sub(r'«', r'', x) for x in df['text_clean']]\n",
    "df['text_clean'] = [re.sub(r'»', r'', x) for x in df['text_clean']]\n",
    "df['text_clean'] = [re.sub(r'!', r'', x) for x in df['text_clean']]\n",
    "#df['text_clean'] = [re.sub(r'...', r'', x) for x in df['text_clean']]"
   ]
  },
  {
   "cell_type": "markdown",
   "id": "1ebf3b75",
   "metadata": {},
   "source": [
    "Remove the numbers"
   ]
  },
  {
   "cell_type": "code",
   "execution_count": 18,
   "id": "49c34d0a",
   "metadata": {
    "ExecuteTime": {
     "end_time": "2022-05-17T16:59:23.325172Z",
     "start_time": "2022-05-17T16:59:23.250663Z"
    }
   },
   "outputs": [],
   "source": [
    "df['text_clean'] = [re.sub('\\d+', '', x) for x in df['text_clean']]"
   ]
  },
  {
   "cell_type": "markdown",
   "id": "7a5d1d56",
   "metadata": {},
   "source": [
    "## Tokenization"
   ]
  },
  {
   "cell_type": "code",
   "execution_count": 19,
   "id": "95bf9034",
   "metadata": {
    "ExecuteTime": {
     "end_time": "2022-05-17T16:59:38.377894Z",
     "start_time": "2022-05-17T16:59:38.360275Z"
    }
   },
   "outputs": [],
   "source": [
    "russian_stop_words = stopwords.words(\"russian\")\n",
    "snowball = SnowballStemmer(language='russian')\n",
    "\n",
    "\n",
    "def tokenize_text(x):\n",
    "    tokens = word_tokenize(x, language='russian')\n",
    "    tokens_no_punkt = [i for i in tokens if i not in string.punctuation]\n",
    "    tokens_no_stopwords = [i for i in tokens_no_punkt if i not in russian_stop_words]\n",
    "    stemmed_tokens = [snowball.stem(i) for i in tokens_no_stopwords]\n",
    "    return stemmed_tokens"
   ]
  },
  {
   "cell_type": "code",
   "execution_count": 20,
   "id": "7acb0f1c",
   "metadata": {
    "ExecuteTime": {
     "end_time": "2022-05-17T16:59:47.236536Z",
     "start_time": "2022-05-17T16:59:38.482852Z"
    }
   },
   "outputs": [],
   "source": [
    "df['text_tokenized'] = [tokenize_text(x) for x in df['text_clean']]"
   ]
  },
  {
   "cell_type": "markdown",
   "id": "63ce4dc5",
   "metadata": {},
   "source": [
    "# Attitude prediction model in a special military operation"
   ]
  },
  {
   "cell_type": "code",
   "execution_count": 32,
   "id": "f346b4d3",
   "metadata": {
    "ExecuteTime": {
     "end_time": "2022-05-17T17:38:10.496980Z",
     "start_time": "2022-05-17T17:38:10.483668Z"
    }
   },
   "outputs": [],
   "source": [
    "def print_metrics(y_test, y_pred):\n",
    "    print(f'Accuracy: {accuracy_score(y_test, y_pred)}')\n",
    "    print(f'Precision: {precision_score(y_test, y_pred)}')\n",
    "    print(f'Recall: {recall_score(y_test, y_pred)}')\n",
    "    print(f'ROC-AUC: {roc_auc_score(y_test, y_pred)}')"
   ]
  },
  {
   "cell_type": "code",
   "execution_count": 33,
   "id": "e17042ec",
   "metadata": {
    "ExecuteTime": {
     "end_time": "2022-05-17T17:38:10.670843Z",
     "start_time": "2022-05-17T17:38:10.654684Z"
    },
    "scrolled": true
   },
   "outputs": [],
   "source": [
    "X = df.loc[df['operation_attitude'].isin([1,-1]), 'text_clean']\n",
    "y = df.loc[df['operation_attitude'].isin([1,-1]), 'operation_attitude']\n",
    "y = y.map({-1:0,1:1})"
   ]
  },
  {
   "cell_type": "markdown",
   "id": "a74ec9f8",
   "metadata": {},
   "source": [
    "Let's take different partitions several times and look at the metrics on each partition"
   ]
  },
  {
   "cell_type": "code",
   "execution_count": 46,
   "id": "0e4ac1d3",
   "metadata": {
    "ExecuteTime": {
     "end_time": "2022-05-17T18:30:09.166053Z",
     "start_time": "2022-05-17T18:29:16.771481Z"
    }
   },
   "outputs": [
    {
     "name": "stdout",
     "output_type": "stream",
     "text": [
      "Iteration 0\n",
      "-------------------\n",
      "Accuracy: 0.608433734939759\n",
      "Precision: 0.3953488372093023\n",
      "Recall: 0.30357142857142855\n",
      "ROC-AUC: 0.5336038961038961\n",
      "\n",
      "Iteration 1\n",
      "-------------------\n",
      "Accuracy: 0.5783132530120482\n",
      "Precision: 0.36538461538461536\n",
      "Recall: 0.3392857142857143\n",
      "ROC-AUC: 0.5196428571428572\n",
      "\n",
      "Iteration 2\n",
      "-------------------\n",
      "Accuracy: 0.6204819277108434\n",
      "Precision: 0.41025641025641024\n",
      "Recall: 0.2857142857142857\n",
      "ROC-AUC: 0.5383116883116882\n",
      "\n",
      "Iteration 3\n",
      "-------------------\n",
      "Accuracy: 0.6024096385542169\n",
      "Precision: 0.375\n",
      "Recall: 0.26785714285714285\n",
      "ROC-AUC: 0.5202922077922078\n",
      "\n",
      "Iteration 4\n",
      "-------------------\n",
      "Accuracy: 0.5843373493975904\n",
      "Precision: 0.3142857142857143\n",
      "Recall: 0.19642857142857142\n",
      "ROC-AUC: 0.4891233766233766\n",
      "\n",
      "\n",
      "Mean accuracy: 0.6\n",
      "Mean precision: 0.37\n",
      "Mean recall: 0.28\n",
      "Mean ROC-AUC: 0.52\n"
     ]
    }
   ],
   "source": [
    "accuracy_list = []\n",
    "precision_list = []\n",
    "recall_list = []\n",
    "rocauc_list = []\n",
    "\n",
    "for i in range(5):\n",
    "    X_train, X_test, y_train, y_test = train_test_split(X,\n",
    "                                                    y,\n",
    "                                                    shuffle=True,\n",
    "                                                    test_size=0.2,\n",
    "                                                    stratify=y)\n",
    "    \n",
    "    print(f'Iteration {i}')\n",
    "    print('-------------------')\n",
    "    \n",
    "    pipeline = Pipeline([\n",
    "    (\"vectorizer\", TfidfVectorizer(tokenizer = lambda x: tokenize_text(x))),\n",
    "    (\"model\", GradientBoostingClassifier(n_estimators=5000, learning_rate=0.05))\n",
    "    ])\n",
    "    \n",
    "    pipeline.fit(X_train, y_train)\n",
    "\n",
    "    y_pred = pipeline.predict(X_test)\n",
    "    \n",
    "    accuracy_list.append(accuracy_score(y_test, y_pred))\n",
    "    precision_list.append(precision_score(y_test, y_pred))\n",
    "    recall_list.append(recall_score(y_test, y_pred))\n",
    "    rocauc_list.append(roc_auc_score(y_test, y_pred))\n",
    "    \n",
    "    print_metrics(y_test, y_pred)\n",
    "    print('')\n",
    "    \n",
    "print('')\n",
    "print(f'Mean accuracy: {round(np.mean(accuracy_list), 2)}')\n",
    "print(f'Mean precision: {round(np.mean(precision_list), 2)}')\n",
    "print(f'Mean recall: {round(np.mean(recall_list), 2)}')\n",
    "print(f'Mean ROC-AUC: {round(np.mean(rocauc_list), 2)}')"
   ]
  },
  {
   "cell_type": "code",
   "execution_count": 41,
   "id": "3ef6ba47",
   "metadata": {
    "ExecuteTime": {
     "end_time": "2022-05-17T17:43:00.422417Z",
     "start_time": "2022-05-17T17:42:21.514625Z"
    }
   },
   "outputs": [
    {
     "name": "stdout",
     "output_type": "stream",
     "text": [
      "Iteration 0\n",
      "-------------------\n",
      "Accuracy: 0.6566265060240963\n",
      "Precision: 0.47368421052631576\n",
      "Recall: 0.16071428571428573\n",
      "ROC-AUC: 0.5349025974025974\n",
      "\n",
      "Iteration 1\n",
      "-------------------\n",
      "Accuracy: 0.6686746987951807\n",
      "Precision: 0.5333333333333333\n",
      "Recall: 0.14285714285714285\n",
      "ROC-AUC: 0.5396103896103895\n",
      "\n",
      "Iteration 2\n",
      "-------------------\n",
      "Accuracy: 0.6686746987951807\n",
      "Precision: 0.5454545454545454\n",
      "Recall: 0.10714285714285714\n",
      "ROC-AUC: 0.5308441558441559\n",
      "\n",
      "Iteration 3\n",
      "-------------------\n",
      "Accuracy: 0.6144578313253012\n",
      "Precision: 0.2777777777777778\n",
      "Recall: 0.08928571428571429\n",
      "ROC-AUC: 0.485551948051948\n",
      "\n",
      "Iteration 4\n",
      "-------------------\n",
      "Accuracy: 0.6686746987951807\n",
      "Precision: 0.5454545454545454\n",
      "Recall: 0.10714285714285714\n",
      "ROC-AUC: 0.5308441558441559\n",
      "\n",
      "\n",
      "Mean accuracy: 0.66\n",
      "Mean precision: 0.48\n",
      "Mean recall: 0.12\n",
      "Mean ROC-AUC: 0.52\n"
     ]
    }
   ],
   "source": [
    "accuracy_list = []\n",
    "precision_list = []\n",
    "recall_list = []\n",
    "rocauc_list = []\n",
    "\n",
    "for i in range(5):\n",
    "    X_train, X_test, y_train, y_test = train_test_split(X,\n",
    "                                                    y,\n",
    "                                                    shuffle=True,\n",
    "                                                    test_size=0.2,\n",
    "                                                    stratify=y)\n",
    "    \n",
    "    print(f'Iteration {i}')\n",
    "    print('-------------------')\n",
    "    \n",
    "    pipeline = Pipeline([\n",
    "    (\"vectorizer\", TfidfVectorizer(tokenizer = lambda x: tokenize_text(x))),\n",
    "    (\"model\", RandomForestClassifier(n_estimators=5000, \n",
    "                                     n_jobs=-1))\n",
    "    ])\n",
    "    \n",
    "    pipeline.fit(X_train, y_train)\n",
    "    \n",
    "    y_pred_proba = pipeline.predict_proba(X_test)\n",
    "    y_pred = pipeline.predict(X_test)\n",
    "    \n",
    "    accuracy_list.append(accuracy_score(y_test, y_pred))\n",
    "    precision_list.append(precision_score(y_test, y_pred))\n",
    "    recall_list.append(recall_score(y_test, y_pred))\n",
    "    rocauc_list.append(roc_auc_score(y_test, y_pred))\n",
    "    \n",
    "    print_metrics(y_test, y_pred)\n",
    "    print('')\n",
    "    \n",
    "print('')\n",
    "print(f'Mean accuracy: {round(np.mean(accuracy_list), 2)}')\n",
    "print(f'Mean precision: {round(np.mean(precision_list), 2)}')\n",
    "print(f'Mean recall: {round(np.mean(recall_list), 2)}')\n",
    "print(f'Mean ROC-AUC: {round(np.mean(rocauc_list), 2)}')"
   ]
  },
  {
   "cell_type": "markdown",
   "id": "cd1abc39",
   "metadata": {},
   "source": [
    "Train the model on all data and apply to our table"
   ]
  },
  {
   "cell_type": "code",
   "execution_count": 47,
   "id": "b69c726e",
   "metadata": {
    "ExecuteTime": {
     "end_time": "2022-05-17T18:34:05.798990Z",
     "start_time": "2022-05-17T18:34:05.784175Z"
    }
   },
   "outputs": [],
   "source": [
    "pipeline = Pipeline([\n",
    "    (\"vectorizer\", TfidfVectorizer(tokenizer = lambda x: tokenize_text(x))),\n",
    "    (\"model\", RandomForestClassifier(n_estimators=5000, \n",
    "                                     n_jobs=-1))\n",
    "    ])"
   ]
  },
  {
   "cell_type": "code",
   "execution_count": 97,
   "id": "3bb1a80a",
   "metadata": {
    "ExecuteTime": {
     "end_time": "2022-05-17T18:49:18.622564Z",
     "start_time": "2022-05-17T18:49:18.608091Z"
    }
   },
   "outputs": [],
   "source": [
    "X = df.loc[df['operation_attitude'].isin([1,-1]), 'text_clean']\n",
    "y = df.loc[df['operation_attitude'].isin([1,-1]), 'operation_attitude']\n",
    "y = y.map({-1:0,1:1})"
   ]
  },
  {
   "cell_type": "code",
   "execution_count": 98,
   "id": "8c8a287d",
   "metadata": {
    "ExecuteTime": {
     "end_time": "2022-05-17T18:49:37.180224Z",
     "start_time": "2022-05-17T18:49:24.517296Z"
    }
   },
   "outputs": [
    {
     "data": {
      "text/plain": [
       "Pipeline(steps=[('vectorizer',\n",
       "                 TfidfVectorizer(tokenizer=<function <lambda> at 0x7f82f4e70940>)),\n",
       "                ('model', GradientBoostingClassifier(n_estimators=5000))])"
      ]
     },
     "execution_count": 98,
     "metadata": {},
     "output_type": "execute_result"
    }
   ],
   "source": [
    "pipeline.fit(X, y)"
   ]
  },
  {
   "cell_type": "markdown",
   "id": "90915fc1",
   "metadata": {},
   "source": [
    "Predicting values based on probability"
   ]
  },
  {
   "cell_type": "code",
   "execution_count": 99,
   "id": "85632742",
   "metadata": {
    "ExecuteTime": {
     "end_time": "2022-05-17T18:49:46.412137Z",
     "start_time": "2022-05-17T18:49:37.181261Z"
    }
   },
   "outputs": [],
   "source": [
    "y_pred_proba = pipeline.predict_proba(df['text_clean'])"
   ]
  },
  {
   "cell_type": "code",
   "execution_count": 100,
   "id": "b6ac3f1e",
   "metadata": {
    "ExecuteTime": {
     "end_time": "2022-05-17T18:49:55.737391Z",
     "start_time": "2022-05-17T18:49:46.412949Z"
    }
   },
   "outputs": [],
   "source": [
    "y_pred = pipeline.predict(df['text_clean'])"
   ]
  },
  {
   "cell_type": "code",
   "execution_count": 101,
   "id": "2eddd1bd",
   "metadata": {
    "ExecuteTime": {
     "end_time": "2022-05-17T18:49:55.742233Z",
     "start_time": "2022-05-17T18:49:55.739007Z"
    }
   },
   "outputs": [
    {
     "data": {
      "text/plain": [
       "0    10413\n",
       "1     3797\n",
       "dtype: int64"
      ]
     },
     "execution_count": 101,
     "metadata": {},
     "output_type": "execute_result"
    }
   ],
   "source": [
    "pd.Series(y_pred).value_counts()"
   ]
  },
  {
   "cell_type": "code",
   "execution_count": 104,
   "id": "cd38244e",
   "metadata": {
    "ExecuteTime": {
     "end_time": "2022-05-17T18:49:55.753550Z",
     "start_time": "2022-05-17T18:49:55.750033Z"
    }
   },
   "outputs": [],
   "source": [
    "df['opinion_prediction'] = np.NaN\n",
    "df.loc[y_pred_proba[:, 1] > 0.5, 'opinion_prediction'] = 1\n",
    "df.loc[y_pred_proba[:, 0] > 0.8, 'opinion_prediction'] = 0\n",
    "df['opinion_prediction'] = df['opinion_prediction'].fillna(999)"
   ]
  },
  {
   "cell_type": "code",
   "execution_count": 105,
   "id": "43f5e78f",
   "metadata": {
    "ExecuteTime": {
     "end_time": "2022-05-17T18:49:55.758184Z",
     "start_time": "2022-05-17T18:49:55.754461Z"
    }
   },
   "outputs": [
    {
     "data": {
      "text/plain": [
       "0.0      8985\n",
       "1.0      3797\n",
       "999.0    1428\n",
       "Name: opinion_prediction, dtype: int64"
      ]
     },
     "execution_count": 105,
     "metadata": {},
     "output_type": "execute_result"
    }
   ],
   "source": [
    "df['opinion_prediction'].value_counts(dropna=False)"
   ]
  },
  {
   "cell_type": "code",
   "execution_count": 112,
   "id": "1d1e7231",
   "metadata": {
    "ExecuteTime": {
     "end_time": "2022-05-18T11:56:01.400502Z",
     "start_time": "2022-05-18T11:56:01.188573Z"
    }
   },
   "outputs": [],
   "source": [
    "df.to_csv('tweets_ml_predicted.csv')"
   ]
  }
 ],
 "metadata": {
  "kernelspec": {
   "display_name": "Python 3 (ipykernel)",
   "language": "python",
   "name": "python3"
  },
  "language_info": {
   "codemirror_mode": {
    "name": "ipython",
    "version": 3
   },
   "file_extension": ".py",
   "mimetype": "text/x-python",
   "name": "python",
   "nbconvert_exporter": "python",
   "pygments_lexer": "ipython3",
   "version": "3.9.7"
  },
  "toc": {
   "base_numbering": 1,
   "nav_menu": {},
   "number_sections": true,
   "sideBar": true,
   "skip_h1_title": false,
   "title_cell": "Table of Contents",
   "title_sidebar": "Contents",
   "toc_cell": false,
   "toc_position": {},
   "toc_section_display": true,
   "toc_window_display": false
  }
 },
 "nbformat": 4,
 "nbformat_minor": 5
}
