{
 "cells": [
  {
   "cell_type": "markdown",
   "id": "80c3e028",
   "metadata": {},
   "source": [
    "# Это просто запустить"
   ]
  },
  {
   "cell_type": "code",
   "execution_count": 1,
   "id": "21ecb75a",
   "metadata": {
    "ExecuteTime": {
     "end_time": "2022-05-09T11:56:38.595427Z",
     "start_time": "2022-05-09T11:56:38.499972Z"
    }
   },
   "outputs": [],
   "source": [
    "import pandas as pd\n",
    "import numpy as np\n",
    "from IPython.display import clear_output\n",
    "\n",
    "df = pd.read_csv('tweets_labeled3.csv')\n",
    "\n",
    "#df['operation_attitude'] = np.NaN"
   ]
  },
  {
   "cell_type": "code",
   "execution_count": 9,
   "id": "d8740ad2",
   "metadata": {},
   "outputs": [],
   "source": [
    "df = df.sort_values(by='id_str', ascending=False)"
   ]
  },
  {
   "cell_type": "markdown",
   "id": "6453a09d",
   "metadata": {},
   "source": [
    "# Разметка \"Отношение к спецоперации\"\n",
    "\n",
    "- 1 - положительное отношение\n",
    "- 0 - нейтральное\n",
    "- -1 - отрицательное"
   ]
  },
  {
   "cell_type": "code",
   "execution_count": null,
   "id": "ae2302d6",
   "metadata": {
    "ExecuteTime": {
     "end_time": "2022-05-09T11:57:55.369868Z",
     "start_time": "2022-05-09T11:57:39.437155Z"
    },
    "scrolled": true
   },
   "outputs": [
    {
     "name": "stdout",
     "output_type": "stream",
     "text": [
      "RT @VALMICHEL7: Весной 2021 Путин свёз к Украине гектары техники. Ждали войну. После «разрядки» техника осталась. Октябрь-январь снова шли…\n"
     ]
    }
   ],
   "source": [
    "for tweet in df.loc[df['operation_attitude'].isna(), 'full_text'].unique():\n",
    "    print(tweet)\n",
    "    \n",
    "    pos = input()\n",
    "    \n",
    "    try: pos = int(pos)\n",
    "    except: \n",
    "        \n",
    "        \n",
    "        clear_output()\n",
    "        continue\n",
    "    \n",
    "    \n",
    "    \n",
    "    \n",
    "    df.loc[df['full_text'] == tweet, 'operation_attitude'] = pos\n",
    "    names = list(df.loc[df['full_text'] == tweet, 'screen_name'])\n",
    "    \n",
    "    df.loc[df['screen_name'].isin(names), 'operation_attitude'] = pos\n",
    "    \n",
    "    clear_output()"
   ]
  },
  {
   "cell_type": "code",
   "execution_count": 11,
   "id": "ec5c4b06",
   "metadata": {},
   "outputs": [
    {
     "data": {
      "text/plain": [
       "-1.0    462\n",
       " 0.0    456\n",
       " 1.0    236\n",
       "Name: operation_attitude, dtype: int64"
      ]
     },
     "execution_count": 11,
     "metadata": {},
     "output_type": "execute_result"
    }
   ],
   "source": [
    "df['operation_attitude'].value_counts()"
   ]
  },
  {
   "cell_type": "markdown",
   "id": "b5776ff8",
   "metadata": {},
   "source": [
    "**НЕ ЗАБУДЬ СОХРАНИТЬ**"
   ]
  },
  {
   "cell_type": "code",
   "execution_count": 12,
   "id": "def646b6",
   "metadata": {},
   "outputs": [],
   "source": [
    "df.to_csv('tweets_labeled4.csv')"
   ]
  }
 ],
 "metadata": {
  "kernelspec": {
   "display_name": "Python 3 (ipykernel)",
   "language": "python",
   "name": "python3"
  },
  "language_info": {
   "codemirror_mode": {
    "name": "ipython",
    "version": 3
   },
   "file_extension": ".py",
   "mimetype": "text/x-python",
   "name": "python",
   "nbconvert_exporter": "python",
   "pygments_lexer": "ipython3",
   "version": "3.9.7"
  },
  "toc": {
   "base_numbering": 1,
   "nav_menu": {},
   "number_sections": true,
   "sideBar": true,
   "skip_h1_title": false,
   "title_cell": "Table of Contents",
   "title_sidebar": "Contents",
   "toc_cell": false,
   "toc_position": {},
   "toc_section_display": true,
   "toc_window_display": false
  }
 },
 "nbformat": 4,
 "nbformat_minor": 5
}
