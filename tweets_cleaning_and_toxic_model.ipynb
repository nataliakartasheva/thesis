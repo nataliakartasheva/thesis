{
 "cells": [
  {
   "cell_type": "markdown",
   "id": "40984b14",
   "metadata": {},
   "source": [
    "# Import Libraries"
   ]
  },
  {
   "cell_type": "code",
   "execution_count": 1,
   "id": "efbe66df",
   "metadata": {
    "ExecuteTime": {
     "end_time": "2022-05-07T16:23:37.198608Z",
     "start_time": "2022-05-07T16:23:37.180458Z"
    }
   },
   "outputs": [
    {
     "name": "stderr",
     "output_type": "stream",
     "text": [
      "[nltk_data] Downloading package punkt to\n",
      "[nltk_data]     C:\\Users\\karta\\AppData\\Roaming\\nltk_data...\n",
      "[nltk_data]   Package punkt is already up-to-date!\n",
      "[nltk_data] Downloading package stopwords to\n",
      "[nltk_data]     C:\\Users\\karta\\AppData\\Roaming\\nltk_data...\n",
      "[nltk_data]   Package stopwords is already up-to-date!\n"
     ]
    },
    {
     "data": {
      "text/plain": [
       "True"
      ]
     },
     "execution_count": 1,
     "metadata": {},
     "output_type": "execute_result"
    }
   ],
   "source": [
    "import pandas as pd\n",
    "import re\n",
    "import string\n",
    "import nltk\n",
    "\n",
    "from nltk.tokenize import word_tokenize\n",
    "from nltk.corpus import stopwords\n",
    "from nltk.stem import SnowballStemmer\n",
    "\n",
    "from sklearn.pipeline import Pipeline\n",
    "from sklearn.feature_extraction.text import TfidfVectorizer\n",
    "from sklearn.ensemble import RandomForestClassifier\n",
    "\n",
    "\n",
    "nltk.download('punkt')\n",
    "nltk.download('stopwords')"
   ]
  },
  {
   "cell_type": "markdown",
   "id": "31cd99d6",
   "metadata": {},
   "source": [
    "# Dataset"
   ]
  },
  {
   "cell_type": "code",
   "execution_count": 4,
   "id": "2c343d72",
   "metadata": {
    "ExecuteTime": {
     "end_time": "2022-05-07T16:23:37.589949Z",
     "start_time": "2022-05-07T16:23:37.444729Z"
    }
   },
   "outputs": [],
   "source": [
    "df = pd.read_csv('tweets.csv')"
   ]
  },
  {
   "cell_type": "code",
   "execution_count": 5,
   "id": "6abcdae2",
   "metadata": {
    "ExecuteTime": {
     "end_time": "2022-05-07T16:23:37.593688Z",
     "start_time": "2022-05-07T16:23:37.591176Z"
    }
   },
   "outputs": [
    {
     "data": {
      "text/plain": [
       "(25798, 12)"
      ]
     },
     "execution_count": 5,
     "metadata": {},
     "output_type": "execute_result"
    }
   ],
   "source": [
    "df.shape"
   ]
  },
  {
   "cell_type": "code",
   "execution_count": 6,
   "id": "92a361df",
   "metadata": {
    "ExecuteTime": {
     "end_time": "2022-05-07T16:23:37.664711Z",
     "start_time": "2022-05-07T16:23:37.654130Z"
    }
   },
   "outputs": [
    {
     "data": {
      "text/html": [
       "<div>\n",
       "<style scoped>\n",
       "    .dataframe tbody tr th:only-of-type {\n",
       "        vertical-align: middle;\n",
       "    }\n",
       "\n",
       "    .dataframe tbody tr th {\n",
       "        vertical-align: top;\n",
       "    }\n",
       "\n",
       "    .dataframe thead th {\n",
       "        text-align: right;\n",
       "    }\n",
       "</style>\n",
       "<table border=\"1\" class=\"dataframe\">\n",
       "  <thead>\n",
       "    <tr style=\"text-align: right;\">\n",
       "      <th></th>\n",
       "      <th>id</th>\n",
       "      <th>id_str</th>\n",
       "      <th>created_at</th>\n",
       "      <th>text</th>\n",
       "      <th>name</th>\n",
       "      <th>screen_name</th>\n",
       "      <th>location</th>\n",
       "      <th>followers_count</th>\n",
       "      <th>geo</th>\n",
       "      <th>place</th>\n",
       "      <th>retweet_count</th>\n",
       "      <th>favorite_count</th>\n",
       "    </tr>\n",
       "  </thead>\n",
       "  <tbody>\n",
       "    <tr>\n",
       "      <th>23039</th>\n",
       "      <td>1.516156e+18</td>\n",
       "      <td>1516155893410316298</td>\n",
       "      <td>Mon Apr 18 20:45:08 +0000 2022</td>\n",
       "      <td>RT @yoshkinkrot: ❗️ Христо Грозев: «Сообщалось...</td>\n",
       "      <td>Djemal ДжемАльт 🇷🇺🇺🇦🇫🇷</td>\n",
       "      <td>Djemalozieux</td>\n",
       "      <td>NaN</td>\n",
       "      <td>356.0</td>\n",
       "      <td>NaN</td>\n",
       "      <td>NoData</td>\n",
       "      <td>23.0</td>\n",
       "      <td>0.0</td>\n",
       "    </tr>\n",
       "    <tr>\n",
       "      <th>4147</th>\n",
       "      <td>1.514370e+18</td>\n",
       "      <td>1514370263705653256</td>\n",
       "      <td>Wed Apr 13 22:29:41 +0000 2022</td>\n",
       "      <td>RT @Vcex_naxui: 2 июня 2014 года. Украина. Луг...</td>\n",
       "      <td>Евгений Кустов</td>\n",
       "      <td>eugene_kust</td>\n",
       "      <td>Россия</td>\n",
       "      <td>549.0</td>\n",
       "      <td>NaN</td>\n",
       "      <td>NoData</td>\n",
       "      <td>148.0</td>\n",
       "      <td>0.0</td>\n",
       "    </tr>\n",
       "    <tr>\n",
       "      <th>11645</th>\n",
       "      <td>1.516566e+18</td>\n",
       "      <td>1516565503942275077</td>\n",
       "      <td>Tue Apr 19 23:52:47 +0000 2022</td>\n",
       "      <td>RT @antiputler_news: Россия развернула ЗРК С-4...</td>\n",
       "      <td>Валерiй</td>\n",
       "      <td>i01435933</td>\n",
       "      <td>Україна</td>\n",
       "      <td>1071.0</td>\n",
       "      <td>NaN</td>\n",
       "      <td>NoData</td>\n",
       "      <td>363.0</td>\n",
       "      <td>0.0</td>\n",
       "    </tr>\n",
       "  </tbody>\n",
       "</table>\n",
       "</div>"
      ],
      "text/plain": [
       "                 id               id_str                      created_at  \\\n",
       "23039  1.516156e+18  1516155893410316298  Mon Apr 18 20:45:08 +0000 2022   \n",
       "4147   1.514370e+18  1514370263705653256  Wed Apr 13 22:29:41 +0000 2022   \n",
       "11645  1.516566e+18  1516565503942275077  Tue Apr 19 23:52:47 +0000 2022   \n",
       "\n",
       "                                                    text  \\\n",
       "23039  RT @yoshkinkrot: ❗️ Христо Грозев: «Сообщалось...   \n",
       "4147   RT @Vcex_naxui: 2 июня 2014 года. Украина. Луг...   \n",
       "11645  RT @antiputler_news: Россия развернула ЗРК С-4...   \n",
       "\n",
       "                         name   screen_name location  followers_count  geo  \\\n",
       "23039  Djemal ДжемАльт 🇷🇺🇺🇦🇫🇷  Djemalozieux      NaN            356.0  NaN   \n",
       "4147           Евгений Кустов   eugene_kust   Россия            549.0  NaN   \n",
       "11645                 Валерiй     i01435933  Україна           1071.0  NaN   \n",
       "\n",
       "        place  retweet_count  favorite_count  \n",
       "23039  NoData           23.0             0.0  \n",
       "4147   NoData          148.0             0.0  \n",
       "11645  NoData          363.0             0.0  "
      ]
     },
     "execution_count": 6,
     "metadata": {},
     "output_type": "execute_result"
    }
   ],
   "source": [
    "df.sample(3)"
   ]
  },
  {
   "cell_type": "markdown",
   "id": "1689db83",
   "metadata": {},
   "source": [
    "# Pre-processing"
   ]
  },
  {
   "cell_type": "markdown",
   "id": "690fa050",
   "metadata": {},
   "source": [
    "## Cleaning up tweets"
   ]
  },
  {
   "cell_type": "code",
   "execution_count": 7,
   "id": "32774941",
   "metadata": {
    "ExecuteTime": {
     "end_time": "2022-05-07T16:23:37.976703Z",
     "start_time": "2022-05-07T16:23:37.954259Z"
    }
   },
   "outputs": [],
   "source": [
    "df = df[df['text'].notna()]"
   ]
  },
  {
   "cell_type": "markdown",
   "id": "fba1c914",
   "metadata": {},
   "source": [
    "Remove all mentions of users (@***)"
   ]
  },
  {
   "cell_type": "code",
   "execution_count": 8,
   "id": "b4bf22a4",
   "metadata": {
    "ExecuteTime": {
     "end_time": "2022-05-07T16:23:38.222393Z",
     "start_time": "2022-05-07T16:23:38.165426Z"
    }
   },
   "outputs": [],
   "source": [
    "df['text_clean'] = [re.sub(r'@\\w+', r'', x) for x in df['text']]"
   ]
  },
  {
   "cell_type": "markdown",
   "id": "e99a552d",
   "metadata": {},
   "source": [
    "Remove line breaks"
   ]
  },
  {
   "cell_type": "code",
   "execution_count": 9,
   "id": "fdaaa3f9",
   "metadata": {
    "ExecuteTime": {
     "end_time": "2022-05-07T16:23:38.414158Z",
     "start_time": "2022-05-07T16:23:38.384671Z"
    }
   },
   "outputs": [],
   "source": [
    "df['text_clean'] = [x.replace('\\n', '') for x in df['text_clean']]"
   ]
  },
  {
   "cell_type": "markdown",
   "id": "680a940a",
   "metadata": {},
   "source": [
    "Convert to lowercase"
   ]
  },
  {
   "cell_type": "code",
   "execution_count": 10,
   "id": "da52a243",
   "metadata": {
    "ExecuteTime": {
     "end_time": "2022-05-07T16:23:38.620743Z",
     "start_time": "2022-05-07T16:23:38.576077Z"
    }
   },
   "outputs": [],
   "source": [
    "df['text_clean'] = [x.lower() for x in df['text_clean']]"
   ]
  },
  {
   "cell_type": "markdown",
   "id": "19e96af7",
   "metadata": {},
   "source": [
    "Remove mentions rt"
   ]
  },
  {
   "cell_type": "code",
   "execution_count": 11,
   "id": "1d63ea8f",
   "metadata": {
    "ExecuteTime": {
     "end_time": "2022-05-07T16:23:38.846873Z",
     "start_time": "2022-05-07T16:23:38.782248Z"
    }
   },
   "outputs": [],
   "source": [
    "df['text_clean'] = [re.sub(r'rt :', r'', x) for x in df['text_clean']]\n",
    "df['text_clean'] = [re.sub(r'rt', r'', x) for x in df['text_clean']]"
   ]
  },
  {
   "cell_type": "markdown",
   "id": "e53d67ea",
   "metadata": {},
   "source": [
    "Remove all links"
   ]
  },
  {
   "cell_type": "code",
   "execution_count": 12,
   "id": "e058fa69",
   "metadata": {
    "ExecuteTime": {
     "end_time": "2022-05-07T16:23:39.036842Z",
     "start_time": "2022-05-07T16:23:38.990045Z"
    }
   },
   "outputs": [],
   "source": [
    "df['text_clean'] = [re.sub(r'http\\S+', r'', x) for x in df['text_clean']]"
   ]
  },
  {
   "cell_type": "markdown",
   "id": "45a3ff00",
   "metadata": {},
   "source": [
    "Remove emoji"
   ]
  },
  {
   "cell_type": "code",
   "execution_count": 13,
   "id": "1ad883f6",
   "metadata": {
    "ExecuteTime": {
     "end_time": "2022-05-07T16:23:39.204580Z",
     "start_time": "2022-05-07T16:23:39.195578Z"
    }
   },
   "outputs": [],
   "source": [
    "emoji_pattern = re.compile(\"[\"\n",
    "        u\"\\U0001F600-\\U0001F64F\"  # emoticons\n",
    "        u\"\\U0001F300-\\U0001F5FF\"  # symbols & pictographs\n",
    "        u\"\\U0001F680-\\U0001F6FF\"  # transport & map symbols\n",
    "        u\"\\U0001F1E0-\\U0001F1FF\"  # flags (iOS)\n",
    "                           \"]+\", flags=re.UNICODE)"
   ]
  },
  {
   "cell_type": "code",
   "execution_count": 14,
   "id": "7f9b639c",
   "metadata": {
    "ExecuteTime": {
     "end_time": "2022-05-07T16:23:39.385387Z",
     "start_time": "2022-05-07T16:23:39.291643Z"
    }
   },
   "outputs": [],
   "source": [
    "df['text_clean'] = [emoji_pattern.sub(r'', x) for x in df['text_clean']]"
   ]
  },
  {
   "cell_type": "code",
   "execution_count": 15,
   "id": "45a72bbb",
   "metadata": {
    "ExecuteTime": {
     "end_time": "2022-05-07T16:23:39.449146Z",
     "start_time": "2022-05-07T16:23:39.389224Z"
    }
   },
   "outputs": [],
   "source": [
    "df['text_clean'] = [re.sub(r'❗️', r'', x) for x in df['text_clean']]\n",
    "df['text_clean'] = [re.sub(r'⚔️', r'', x) for x in df['text_clean']]\n",
    "df['text_clean'] = [re.sub(r'⚡', r'', x) for x in df['text_clean']]"
   ]
  },
  {
   "cell_type": "markdown",
   "id": "fa512cc9",
   "metadata": {},
   "source": [
    "Remove extra spaces"
   ]
  },
  {
   "cell_type": "code",
   "execution_count": 16,
   "id": "93a9f888",
   "metadata": {
    "ExecuteTime": {
     "end_time": "2022-05-07T16:23:39.939807Z",
     "start_time": "2022-05-07T16:23:39.907821Z"
    }
   },
   "outputs": [],
   "source": [
    "df['text_clean'] = [x.strip() for x in df['text_clean']]"
   ]
  },
  {
   "cell_type": "markdown",
   "id": "6b60d737",
   "metadata": {},
   "source": [
    "Remove partial punctuation"
   ]
  },
  {
   "cell_type": "code",
   "execution_count": 17,
   "id": "9f4c06ff",
   "metadata": {
    "ExecuteTime": {
     "end_time": "2022-05-07T16:23:40.375545Z",
     "start_time": "2022-05-07T16:23:40.261891Z"
    }
   },
   "outputs": [],
   "source": [
    "df['text_clean'] = [re.sub(r'\"', r'', x) for x in df['text_clean']]\n",
    "df['text_clean'] = [re.sub(r'«', r'', x) for x in df['text_clean']]\n",
    "df['text_clean'] = [re.sub(r'»', r'', x) for x in df['text_clean']]\n",
    "df['text_clean'] = [re.sub(r'!', r'', x) for x in df['text_clean']]\n",
    "#df['text_clean'] = [re.sub(r'...', r'', x) for x in df['text_clean']]"
   ]
  },
  {
   "cell_type": "markdown",
   "id": "c4f9088d",
   "metadata": {},
   "source": [
    "Remove numbers"
   ]
  },
  {
   "cell_type": "code",
   "execution_count": 18,
   "id": "21535fa9",
   "metadata": {
    "ExecuteTime": {
     "end_time": "2022-05-07T16:23:40.652517Z",
     "start_time": "2022-05-07T16:23:40.560383Z"
    }
   },
   "outputs": [],
   "source": [
    "df['text_clean'] = [re.sub('\\d+', '', x) for x in df['text_clean']]"
   ]
  },
  {
   "cell_type": "markdown",
   "id": "82f50ba5",
   "metadata": {},
   "source": [
    "## What we have after cleaning"
   ]
  },
  {
   "cell_type": "code",
   "execution_count": 19,
   "id": "f0821dbf",
   "metadata": {
    "ExecuteTime": {
     "end_time": "2022-05-07T16:23:40.885982Z",
     "start_time": "2022-05-07T16:23:40.863612Z"
    }
   },
   "outputs": [
    {
     "data": {
      "text/html": [
       "<div>\n",
       "<style scoped>\n",
       "    .dataframe tbody tr th:only-of-type {\n",
       "        vertical-align: middle;\n",
       "    }\n",
       "\n",
       "    .dataframe tbody tr th {\n",
       "        vertical-align: top;\n",
       "    }\n",
       "\n",
       "    .dataframe thead th {\n",
       "        text-align: right;\n",
       "    }\n",
       "</style>\n",
       "<table border=\"1\" class=\"dataframe\">\n",
       "  <thead>\n",
       "    <tr style=\"text-align: right;\">\n",
       "      <th></th>\n",
       "      <th>text</th>\n",
       "      <th>text_clean</th>\n",
       "    </tr>\n",
       "  </thead>\n",
       "  <tbody>\n",
       "    <tr>\n",
       "      <th>4653</th>\n",
       "      <td>@ds107m6p @ron_ov @dw_russian Мне хорошо извес...</td>\n",
       "      <td>мне хорошо известно, что татары крымские и тот...</td>\n",
       "    </tr>\n",
       "    <tr>\n",
       "      <th>24847</th>\n",
       "      <td>RT @antiputler_news: 😩 Вот такой сегодня был п...</td>\n",
       "      <td>вот такой сегодня был прилет по гаражным коопе...</td>\n",
       "    </tr>\n",
       "    <tr>\n",
       "      <th>22083</th>\n",
       "      <td>RT @EvaBorisovna: Я лично согласна отказаться ...</td>\n",
       "      <td>я лично согласна отказаться от русской музыки,...</td>\n",
       "    </tr>\n",
       "    <tr>\n",
       "      <th>5924</th>\n",
       "      <td>RT @Grantoedov: ⚡️Новые трофеи из ПОПАСНОЙ, уж...</td>\n",
       "      <td>️новые трофеи из попасной, уже у казаков на во...</td>\n",
       "    </tr>\n",
       "    <tr>\n",
       "      <th>11281</th>\n",
       "      <td>На войне погибли до 3000 украинских солдат. По...</td>\n",
       "      <td>на войне погибли до  украинских солдат. потери...</td>\n",
       "    </tr>\n",
       "    <tr>\n",
       "      <th>6347</th>\n",
       "      <td>RT @wargonzoo: ⚡️Авдеевский котёл⚡️Обстановка ...</td>\n",
       "      <td>️авдеевский котёл️обстановка на вечер ..️после...</td>\n",
       "    </tr>\n",
       "    <tr>\n",
       "      <th>17231</th>\n",
       "      <td>RT @leonidvolkov: Не существует ни одного пере...</td>\n",
       "      <td>не существует ни одного перевода ни на один ру...</td>\n",
       "    </tr>\n",
       "    <tr>\n",
       "      <th>4548</th>\n",
       "      <td>RT @euro2012uaorg: Видео из Рубежного Луганско...</td>\n",
       "      <td>видео из рубежного луганской области. тяжелая ...</td>\n",
       "    </tr>\n",
       "    <tr>\n",
       "      <th>14795</th>\n",
       "      <td>RT @dedzaebal: Лавров : Россия не собирается м...</td>\n",
       "      <td>лавров : россия не собирается менять режим в у...</td>\n",
       "    </tr>\n",
       "    <tr>\n",
       "      <th>14533</th>\n",
       "      <td>RT @Geschichter: Кремль: Если Украина не сдаст...</td>\n",
       "      <td>кремль: если украина не сдастся, мы ядерную бо...</td>\n",
       "    </tr>\n",
       "  </tbody>\n",
       "</table>\n",
       "</div>"
      ],
      "text/plain": [
       "                                                    text  \\\n",
       "4653   @ds107m6p @ron_ov @dw_russian Мне хорошо извес...   \n",
       "24847  RT @antiputler_news: 😩 Вот такой сегодня был п...   \n",
       "22083  RT @EvaBorisovna: Я лично согласна отказаться ...   \n",
       "5924   RT @Grantoedov: ⚡️Новые трофеи из ПОПАСНОЙ, уж...   \n",
       "11281  На войне погибли до 3000 украинских солдат. По...   \n",
       "6347   RT @wargonzoo: ⚡️Авдеевский котёл⚡️Обстановка ...   \n",
       "17231  RT @leonidvolkov: Не существует ни одного пере...   \n",
       "4548   RT @euro2012uaorg: Видео из Рубежного Луганско...   \n",
       "14795  RT @dedzaebal: Лавров : Россия не собирается м...   \n",
       "14533  RT @Geschichter: Кремль: Если Украина не сдаст...   \n",
       "\n",
       "                                              text_clean  \n",
       "4653   мне хорошо известно, что татары крымские и тот...  \n",
       "24847  вот такой сегодня был прилет по гаражным коопе...  \n",
       "22083  я лично согласна отказаться от русской музыки,...  \n",
       "5924   ️новые трофеи из попасной, уже у казаков на во...  \n",
       "11281  на войне погибли до  украинских солдат. потери...  \n",
       "6347   ️авдеевский котёл️обстановка на вечер ..️после...  \n",
       "17231  не существует ни одного перевода ни на один ру...  \n",
       "4548   видео из рубежного луганской области. тяжелая ...  \n",
       "14795  лавров : россия не собирается менять режим в у...  \n",
       "14533  кремль: если украина не сдастся, мы ядерную бо...  "
      ]
     },
     "execution_count": 19,
     "metadata": {},
     "output_type": "execute_result"
    }
   ],
   "source": [
    "df[['text', 'text_clean']].sample(10)"
   ]
  },
  {
   "cell_type": "markdown",
   "id": "b17634bf",
   "metadata": {},
   "source": [
    "## Tokenization"
   ]
  },
  {
   "cell_type": "code",
   "execution_count": 20,
   "id": "11c9a579",
   "metadata": {
    "ExecuteTime": {
     "end_time": "2022-05-07T16:23:41.448017Z",
     "start_time": "2022-05-07T16:23:41.432499Z"
    }
   },
   "outputs": [],
   "source": [
    "russian_stop_words = stopwords.words(\"russian\")\n",
    "snowball = SnowballStemmer(language='russian')\n",
    "\n",
    "\n",
    "def tokenize_text(x):\n",
    "    tokens = word_tokenize(x, language='russian')\n",
    "    tokens_no_punkt = [i for i in tokens if i not in string.punctuation]\n",
    "    tokens_no_stopwords = [i for i in tokens_no_punkt if i not in russian_stop_words]\n",
    "    stemmed_tokens = [snowball.stem(i) for i in tokens_no_stopwords]\n",
    "    return stemmed_tokens"
   ]
  },
  {
   "cell_type": "code",
   "execution_count": 21,
   "id": "650fc6c3",
   "metadata": {
    "ExecuteTime": {
     "end_time": "2022-05-07T16:23:55.723191Z",
     "start_time": "2022-05-07T16:23:41.745394Z"
    }
   },
   "outputs": [],
   "source": [
    "df['text_tokenized'] = [tokenize_text(x) for x in df['text_clean']]"
   ]
  },
  {
   "cell_type": "code",
   "execution_count": 22,
   "id": "9c2e2be1",
   "metadata": {
    "ExecuteTime": {
     "end_time": "2022-05-07T16:23:55.737012Z",
     "start_time": "2022-05-07T16:23:55.724547Z"
    }
   },
   "outputs": [
    {
     "data": {
      "text/html": [
       "<div>\n",
       "<style scoped>\n",
       "    .dataframe tbody tr th:only-of-type {\n",
       "        vertical-align: middle;\n",
       "    }\n",
       "\n",
       "    .dataframe tbody tr th {\n",
       "        vertical-align: top;\n",
       "    }\n",
       "\n",
       "    .dataframe thead th {\n",
       "        text-align: right;\n",
       "    }\n",
       "</style>\n",
       "<table border=\"1\" class=\"dataframe\">\n",
       "  <thead>\n",
       "    <tr style=\"text-align: right;\">\n",
       "      <th></th>\n",
       "      <th>text</th>\n",
       "      <th>text_clean</th>\n",
       "      <th>text_tokenized</th>\n",
       "    </tr>\n",
       "  </thead>\n",
       "  <tbody>\n",
       "    <tr>\n",
       "      <th>12025</th>\n",
       "      <td>ВСУ уничтожили одного из командиров потешной \"...</td>\n",
       "      <td>всу уничтожили одного из командиров потешной л...</td>\n",
       "      <td>[всу, уничтож, одн, командир, потешн, лнр, миш...</td>\n",
       "    </tr>\n",
       "    <tr>\n",
       "      <th>12072</th>\n",
       "      <td>RT @chuuyamyboy: тред!! персонажи бсд как укра...</td>\n",
       "      <td>тред персонажи бсд как украинские подростки во...</td>\n",
       "      <td>[тред, персонаж, бсд, украинск, подростк, врем...</td>\n",
       "    </tr>\n",
       "    <tr>\n",
       "      <th>6374</th>\n",
       "      <td>RT @rianru: За последние сутки в ДНР погибли т...</td>\n",
       "      <td>за последние сутки в днр погибли трое военносл...</td>\n",
       "      <td>[последн, сутк, днр, погибл, тро, военнослужа,...</td>\n",
       "    </tr>\n",
       "    <tr>\n",
       "      <th>7075</th>\n",
       "      <td>RT @altangerelch1: АНУ Украйнд донбас болон зү...</td>\n",
       "      <td>ану украйнд донбас болон зүүн украйныг чөлөөлө...</td>\n",
       "      <td>[ан, украйнд, донбас, болон, зүүн, украйныг, ч...</td>\n",
       "    </tr>\n",
       "    <tr>\n",
       "      <th>4399</th>\n",
       "      <td>RT @GirkinGirkin: Луганск https://t.co/Ihku9y8UH3</td>\n",
       "      <td>луганск</td>\n",
       "      <td>[луганск]</td>\n",
       "    </tr>\n",
       "    <tr>\n",
       "      <th>6730</th>\n",
       "      <td>RT @DonbassSegodnya: Мариуполь, на трассе стои...</td>\n",
       "      <td>мариуполь, на трассе стоит престарелая женщина...</td>\n",
       "      <td>[мариупол, трасс, сто, престарел, женщин, свеч...</td>\n",
       "    </tr>\n",
       "    <tr>\n",
       "      <th>11151</th>\n",
       "      <td>@abunin Зеленский в панике 👀</td>\n",
       "      <td>зеленский в панике</td>\n",
       "      <td>[зеленск, паник]</td>\n",
       "    </tr>\n",
       "    <tr>\n",
       "      <th>8872</th>\n",
       "      <td>RT @eskovoroda: Написали, как люди покидали Ма...</td>\n",
       "      <td>написали, как люди покидали мариуполь — одно и...</td>\n",
       "      <td>[написа, люд, покида, мариупол, —, одн, сам, с...</td>\n",
       "    </tr>\n",
       "    <tr>\n",
       "      <th>21066</th>\n",
       "      <td>RT @RozovayaShayrma: да блять эта хуйня происх...</td>\n",
       "      <td>да блять эта хуйня происходит годамимудло отру...</td>\n",
       "      <td>[блят, эт, хуйн, происход, годамимудл, отруба,...</td>\n",
       "    </tr>\n",
       "    <tr>\n",
       "      <th>6110</th>\n",
       "      <td>RT @Alla91748059: Россия теряет поддержку Каза...</td>\n",
       "      <td>россия теряет поддержку казахстана после начал...</td>\n",
       "      <td>[росс, теря, поддержк, казахста, нача, войн, у...</td>\n",
       "    </tr>\n",
       "    <tr>\n",
       "      <th>25321</th>\n",
       "      <td>RT @leonidvolkov: Не существует ни одного пере...</td>\n",
       "      <td>не существует ни одного перевода ни на один ру...</td>\n",
       "      <td>[существ, одн, перевод, рубл, фбк, польз, алек...</td>\n",
       "    </tr>\n",
       "    <tr>\n",
       "      <th>21467</th>\n",
       "      <td>RT @dw_russian: Война в Украине может ввергнут...</td>\n",
       "      <td>война в украине может ввергнуть более , млрд ч...</td>\n",
       "      <td>[войн, украин, ввергнут, млрд, человек, пят, ч...</td>\n",
       "    </tr>\n",
       "    <tr>\n",
       "      <th>18087</th>\n",
       "      <td>RT @Griboedovc: Глава МИД РФ Сергей Лавров пре...</td>\n",
       "      <td>глава мид рф сергей лавров предположил, что пр...</td>\n",
       "      <td>[глав, мид, рф, серг, лавр, предполож, президе...</td>\n",
       "    </tr>\n",
       "    <tr>\n",
       "      <th>22747</th>\n",
       "      <td>@dare_ka_kuso да, битва за Донбасс и Луганск, ...</td>\n",
       "      <td>да, битва за донбасс и луганск, сейчас у рф в ...</td>\n",
       "      <td>[битв, донбасс, луганск, рф, план, пасх, захва...</td>\n",
       "    </tr>\n",
       "    <tr>\n",
       "      <th>13029</th>\n",
       "      <td>RT @ZanashihZV: ВСУ полностью бросили своих на...</td>\n",
       "      <td>всу полностью бросили своих нацистов в мариупо...</td>\n",
       "      <td>[всу, полност, брос, сво, нацист, мариупол, об...</td>\n",
       "    </tr>\n",
       "  </tbody>\n",
       "</table>\n",
       "</div>"
      ],
      "text/plain": [
       "                                                    text  \\\n",
       "12025  ВСУ уничтожили одного из командиров потешной \"...   \n",
       "12072  RT @chuuyamyboy: тред!! персонажи бсд как укра...   \n",
       "6374   RT @rianru: За последние сутки в ДНР погибли т...   \n",
       "7075   RT @altangerelch1: АНУ Украйнд донбас болон зү...   \n",
       "4399   RT @GirkinGirkin: Луганск https://t.co/Ihku9y8UH3   \n",
       "6730   RT @DonbassSegodnya: Мариуполь, на трассе стои...   \n",
       "11151                       @abunin Зеленский в панике 👀   \n",
       "8872   RT @eskovoroda: Написали, как люди покидали Ма...   \n",
       "21066  RT @RozovayaShayrma: да блять эта хуйня происх...   \n",
       "6110   RT @Alla91748059: Россия теряет поддержку Каза...   \n",
       "25321  RT @leonidvolkov: Не существует ни одного пере...   \n",
       "21467  RT @dw_russian: Война в Украине может ввергнут...   \n",
       "18087  RT @Griboedovc: Глава МИД РФ Сергей Лавров пре...   \n",
       "22747  @dare_ka_kuso да, битва за Донбасс и Луганск, ...   \n",
       "13029  RT @ZanashihZV: ВСУ полностью бросили своих на...   \n",
       "\n",
       "                                              text_clean  \\\n",
       "12025  всу уничтожили одного из командиров потешной л...   \n",
       "12072  тред персонажи бсд как украинские подростки во...   \n",
       "6374   за последние сутки в днр погибли трое военносл...   \n",
       "7075   ану украйнд донбас болон зүүн украйныг чөлөөлө...   \n",
       "4399                                             луганск   \n",
       "6730   мариуполь, на трассе стоит престарелая женщина...   \n",
       "11151                                 зеленский в панике   \n",
       "8872   написали, как люди покидали мариуполь — одно и...   \n",
       "21066  да блять эта хуйня происходит годамимудло отру...   \n",
       "6110   россия теряет поддержку казахстана после начал...   \n",
       "25321  не существует ни одного перевода ни на один ру...   \n",
       "21467  война в украине может ввергнуть более , млрд ч...   \n",
       "18087  глава мид рф сергей лавров предположил, что пр...   \n",
       "22747  да, битва за донбасс и луганск, сейчас у рф в ...   \n",
       "13029  всу полностью бросили своих нацистов в мариупо...   \n",
       "\n",
       "                                          text_tokenized  \n",
       "12025  [всу, уничтож, одн, командир, потешн, лнр, миш...  \n",
       "12072  [тред, персонаж, бсд, украинск, подростк, врем...  \n",
       "6374   [последн, сутк, днр, погибл, тро, военнослужа,...  \n",
       "7075   [ан, украйнд, донбас, болон, зүүн, украйныг, ч...  \n",
       "4399                                           [луганск]  \n",
       "6730   [мариупол, трасс, сто, престарел, женщин, свеч...  \n",
       "11151                                   [зеленск, паник]  \n",
       "8872   [написа, люд, покида, мариупол, —, одн, сам, с...  \n",
       "21066  [блят, эт, хуйн, происход, годамимудл, отруба,...  \n",
       "6110   [росс, теря, поддержк, казахста, нача, войн, у...  \n",
       "25321  [существ, одн, перевод, рубл, фбк, польз, алек...  \n",
       "21467  [войн, украин, ввергнут, млрд, человек, пят, ч...  \n",
       "18087  [глав, мид, рф, серг, лавр, предполож, президе...  \n",
       "22747  [битв, донбасс, луганск, рф, план, пасх, захва...  \n",
       "13029  [всу, полност, брос, сво, нацист, мариупол, об...  "
      ]
     },
     "execution_count": 22,
     "metadata": {},
     "output_type": "execute_result"
    }
   ],
   "source": [
    "df[['text', 'text_clean', 'text_tokenized']].sample(15)"
   ]
  },
  {
   "cell_type": "code",
   "execution_count": null,
   "id": "f36a7d84",
   "metadata": {},
   "outputs": [],
   "source": []
  },
  {
   "cell_type": "markdown",
   "id": "72b34b72",
   "metadata": {},
   "source": [
    "# Toxic Model"
   ]
  },
  {
   "cell_type": "markdown",
   "id": "c26569d7",
   "metadata": {},
   "source": [
    "Russian Language Toxic Comments https://www.kaggle.com/datasets/blackmoon/russian-language-toxic-comments"
   ]
  },
  {
   "cell_type": "code",
   "execution_count": 23,
   "id": "78c17028",
   "metadata": {
    "ExecuteTime": {
     "end_time": "2022-05-07T16:23:55.808204Z",
     "start_time": "2022-05-07T16:23:55.737857Z"
    }
   },
   "outputs": [],
   "source": [
    "df_train = pd.read_csv('labeled.csv')"
   ]
  },
  {
   "cell_type": "code",
   "execution_count": 24,
   "id": "8985e172",
   "metadata": {
    "ExecuteTime": {
     "end_time": "2022-05-07T16:23:55.815392Z",
     "start_time": "2022-05-07T16:23:55.809763Z"
    }
   },
   "outputs": [
    {
     "data": {
      "text/html": [
       "<div>\n",
       "<style scoped>\n",
       "    .dataframe tbody tr th:only-of-type {\n",
       "        vertical-align: middle;\n",
       "    }\n",
       "\n",
       "    .dataframe tbody tr th {\n",
       "        vertical-align: top;\n",
       "    }\n",
       "\n",
       "    .dataframe thead th {\n",
       "        text-align: right;\n",
       "    }\n",
       "</style>\n",
       "<table border=\"1\" class=\"dataframe\">\n",
       "  <thead>\n",
       "    <tr style=\"text-align: right;\">\n",
       "      <th></th>\n",
       "      <th>comment</th>\n",
       "      <th>toxic</th>\n",
       "    </tr>\n",
       "  </thead>\n",
       "  <tbody>\n",
       "    <tr>\n",
       "      <th>0</th>\n",
       "      <td>Верблюдов-то за что? Дебилы, бл...\\n</td>\n",
       "      <td>1.0</td>\n",
       "    </tr>\n",
       "    <tr>\n",
       "      <th>1</th>\n",
       "      <td>Хохлы, это отдушина затюканого россиянина, мол...</td>\n",
       "      <td>1.0</td>\n",
       "    </tr>\n",
       "    <tr>\n",
       "      <th>2</th>\n",
       "      <td>Собаке - собачья смерть\\n</td>\n",
       "      <td>1.0</td>\n",
       "    </tr>\n",
       "    <tr>\n",
       "      <th>3</th>\n",
       "      <td>Страницу обнови, дебил. Это тоже не оскорблени...</td>\n",
       "      <td>1.0</td>\n",
       "    </tr>\n",
       "    <tr>\n",
       "      <th>4</th>\n",
       "      <td>тебя не убедил 6-страничный пдф в том, что Скр...</td>\n",
       "      <td>1.0</td>\n",
       "    </tr>\n",
       "    <tr>\n",
       "      <th>...</th>\n",
       "      <td>...</td>\n",
       "      <td>...</td>\n",
       "    </tr>\n",
       "    <tr>\n",
       "      <th>14407</th>\n",
       "      <td>Вонючий совковый скот прибежал и ноет. А вот и...</td>\n",
       "      <td>1.0</td>\n",
       "    </tr>\n",
       "    <tr>\n",
       "      <th>14408</th>\n",
       "      <td>А кого любить? Гоблина тупорылого что-ли? Или ...</td>\n",
       "      <td>1.0</td>\n",
       "    </tr>\n",
       "    <tr>\n",
       "      <th>14409</th>\n",
       "      <td>Посмотрел Утомленных солнцем 2. И оказалось, ч...</td>\n",
       "      <td>0.0</td>\n",
       "    </tr>\n",
       "    <tr>\n",
       "      <th>14410</th>\n",
       "      <td>КРЫМОТРЕД НАРУШАЕТ ПРАВИЛА РАЗДЕЛА Т.К В НЕМ Н...</td>\n",
       "      <td>1.0</td>\n",
       "    </tr>\n",
       "    <tr>\n",
       "      <th>14411</th>\n",
       "      <td>До сих пор пересматриваю его видео. Орамбо кст...</td>\n",
       "      <td>0.0</td>\n",
       "    </tr>\n",
       "  </tbody>\n",
       "</table>\n",
       "<p>14412 rows × 2 columns</p>\n",
       "</div>"
      ],
      "text/plain": [
       "                                                 comment  toxic\n",
       "0                   Верблюдов-то за что? Дебилы, бл...\\n    1.0\n",
       "1      Хохлы, это отдушина затюканого россиянина, мол...    1.0\n",
       "2                              Собаке - собачья смерть\\n    1.0\n",
       "3      Страницу обнови, дебил. Это тоже не оскорблени...    1.0\n",
       "4      тебя не убедил 6-страничный пдф в том, что Скр...    1.0\n",
       "...                                                  ...    ...\n",
       "14407  Вонючий совковый скот прибежал и ноет. А вот и...    1.0\n",
       "14408  А кого любить? Гоблина тупорылого что-ли? Или ...    1.0\n",
       "14409  Посмотрел Утомленных солнцем 2. И оказалось, ч...    0.0\n",
       "14410  КРЫМОТРЕД НАРУШАЕТ ПРАВИЛА РАЗДЕЛА Т.К В НЕМ Н...    1.0\n",
       "14411  До сих пор пересматриваю его видео. Орамбо кст...    0.0\n",
       "\n",
       "[14412 rows x 2 columns]"
      ]
     },
     "execution_count": 24,
     "metadata": {},
     "output_type": "execute_result"
    }
   ],
   "source": [
    "df_train"
   ]
  },
  {
   "cell_type": "code",
   "execution_count": 25,
   "id": "32533316",
   "metadata": {
    "ExecuteTime": {
     "end_time": "2022-05-07T16:23:55.818619Z",
     "start_time": "2022-05-07T16:23:55.816197Z"
    }
   },
   "outputs": [],
   "source": [
    "df_train['toxic'] = df_train['toxic'].astype(int)"
   ]
  },
  {
   "cell_type": "code",
   "execution_count": 26,
   "id": "bf3487e5",
   "metadata": {
    "ExecuteTime": {
     "end_time": "2022-05-07T16:23:55.898912Z",
     "start_time": "2022-05-07T16:23:55.819551Z"
    }
   },
   "outputs": [],
   "source": [
    "df_train['comment_clear'] = df_train['comment'].str.lower()\n",
    "df_train['comment_clear'] = [re.sub('\\d+', '', x) for x in df_train['comment_clear']]"
   ]
  },
  {
   "cell_type": "code",
   "execution_count": 27,
   "id": "b91de0e3",
   "metadata": {
    "ExecuteTime": {
     "end_time": "2022-05-07T16:24:08.088286Z",
     "start_time": "2022-05-07T16:23:55.900082Z"
    }
   },
   "outputs": [],
   "source": [
    "df_train['comment_tokenized'] = [tokenize_text(x) for x in df_train['comment_clear']]"
   ]
  },
  {
   "cell_type": "code",
   "execution_count": 28,
   "id": "58baa856",
   "metadata": {
    "ExecuteTime": {
     "end_time": "2022-05-07T16:24:08.091535Z",
     "start_time": "2022-05-07T16:24:08.089235Z"
    }
   },
   "outputs": [],
   "source": [
    "pipeline = Pipeline([\n",
    "    (\"vectorizer\", TfidfVectorizer(tokenizer = lambda x: tokenize_text(x))),\n",
    "    (\"model\", RandomForestClassifier(n_jobs=-1))\n",
    "])"
   ]
  },
  {
   "cell_type": "code",
   "execution_count": 29,
   "id": "3779b0bb",
   "metadata": {
    "ExecuteTime": {
     "end_time": "2022-05-07T16:24:22.373032Z",
     "start_time": "2022-05-07T16:24:08.092324Z"
    }
   },
   "outputs": [
    {
     "data": {
      "text/plain": [
       "Pipeline(steps=[('vectorizer',\n",
       "                 TfidfVectorizer(tokenizer=<function <lambda> at 0x7fcf485c9af0>)),\n",
       "                ('model', RandomForestClassifier(n_jobs=-1))])"
      ]
     },
     "execution_count": 29,
     "metadata": {},
     "output_type": "execute_result"
    }
   ],
   "source": [
    "pipeline.fit(df_train['comment_clear'], df_train['toxic'])"
   ]
  },
  {
   "cell_type": "markdown",
   "id": "103d647f",
   "metadata": {},
   "source": [
    "## Apply on our tweets"
   ]
  },
  {
   "cell_type": "code",
   "execution_count": 31,
   "id": "6a14beaa",
   "metadata": {
    "ExecuteTime": {
     "end_time": "2022-05-07T16:26:29.061911Z",
     "start_time": "2022-05-07T16:26:00.188414Z"
    }
   },
   "outputs": [],
   "source": [
    "df['toxic_proba'] = list(pipeline.predict_proba(df['text_clean']))\n",
    "df['toxic'] = list(pipeline.predict(df['text_clean']))"
   ]
  },
  {
   "cell_type": "code",
   "execution_count": 33,
   "id": "a2cef95f",
   "metadata": {
    "ExecuteTime": {
     "end_time": "2022-05-07T16:27:13.941675Z",
     "start_time": "2022-05-07T16:27:13.918543Z"
    }
   },
   "outputs": [
    {
     "data": {
      "text/html": [
       "<div>\n",
       "<style scoped>\n",
       "    .dataframe tbody tr th:only-of-type {\n",
       "        vertical-align: middle;\n",
       "    }\n",
       "\n",
       "    .dataframe tbody tr th {\n",
       "        vertical-align: top;\n",
       "    }\n",
       "\n",
       "    .dataframe thead th {\n",
       "        text-align: right;\n",
       "    }\n",
       "</style>\n",
       "<table border=\"1\" class=\"dataframe\">\n",
       "  <thead>\n",
       "    <tr style=\"text-align: right;\">\n",
       "      <th></th>\n",
       "      <th>text</th>\n",
       "      <th>text_clean</th>\n",
       "      <th>toxic_proba</th>\n",
       "      <th>toxic</th>\n",
       "    </tr>\n",
       "  </thead>\n",
       "  <tbody>\n",
       "    <tr>\n",
       "      <th>25299</th>\n",
       "      <td>RT @sashatimofeevax: \"Зачем нам насиловать укр...</td>\n",
       "      <td>зачем нам насиловать украинок?- возмутились ру...</td>\n",
       "      <td>[0.4, 0.6]</td>\n",
       "      <td>1</td>\n",
       "    </tr>\n",
       "    <tr>\n",
       "      <th>8448</th>\n",
       "      <td>RT @i_army_org: Последствия вступления в НАТО ...</td>\n",
       "      <td>последствия вступления в нато очевидны - это б...</td>\n",
       "      <td>[0.84, 0.16]</td>\n",
       "      <td>0</td>\n",
       "    </tr>\n",
       "    <tr>\n",
       "      <th>3616</th>\n",
       "      <td>RT @rianru: Киев хочет обратиться к Москве с т...</td>\n",
       "      <td>киев хочет обратиться к москве с требованием в...</td>\n",
       "      <td>[0.8, 0.2]</td>\n",
       "      <td>0</td>\n",
       "    </tr>\n",
       "    <tr>\n",
       "      <th>14869</th>\n",
       "      <td>RT @KattieBanned: @prostotak182 @hUDhfnQFzM65l...</td>\n",
       "      <td>то, что спецоперация по захвату власти в украи...</td>\n",
       "      <td>[0.48, 0.52]</td>\n",
       "      <td>1</td>\n",
       "    </tr>\n",
       "    <tr>\n",
       "      <th>5844</th>\n",
       "      <td>@christogrozev Знаете, у кого ТОЧНО ОФИЦИАЛЬНО...</td>\n",
       "      <td>знаете, у кого точно официально % есть точка-у...</td>\n",
       "      <td>[0.88, 0.12]</td>\n",
       "      <td>0</td>\n",
       "    </tr>\n",
       "    <tr>\n",
       "      <th>20694</th>\n",
       "      <td>RT @ttt_mir_no: @stranabolna предлагает забаст...</td>\n",
       "      <td>предлагает забастовку в виде синхронных больни...</td>\n",
       "      <td>[0.96, 0.04]</td>\n",
       "      <td>0</td>\n",
       "    </tr>\n",
       "    <tr>\n",
       "      <th>8535</th>\n",
       "      <td>RT @globusnewsorg: Премьер-министр Финляндии з...</td>\n",
       "      <td>премьер-министр финляндии заявила о вступлении...</td>\n",
       "      <td>[0.94, 0.06]</td>\n",
       "      <td>0</td>\n",
       "    </tr>\n",
       "    <tr>\n",
       "      <th>12803</th>\n",
       "      <td>RT @nastyabakulina_: Этой империи нужен и Киев...</td>\n",
       "      <td>этой империи нужен и киев, и крым.может быть я...</td>\n",
       "      <td>[0.7, 0.3]</td>\n",
       "      <td>0</td>\n",
       "    </tr>\n",
       "    <tr>\n",
       "      <th>19178</th>\n",
       "      <td>RT @KermlinRussia: В конце апреля агрессивный ...</td>\n",
       "      <td>в конце апреля агрессивный блок нато планирует...</td>\n",
       "      <td>[0.6825, 0.3175]</td>\n",
       "      <td>0</td>\n",
       "    </tr>\n",
       "    <tr>\n",
       "      <th>23972</th>\n",
       "      <td>RT @anders_aslund: в ожидании битвы за Донбасс...</td>\n",
       "      <td>в ожидании битвы за донбасс борьба в кремле пр...</td>\n",
       "      <td>[0.4, 0.6]</td>\n",
       "      <td>1</td>\n",
       "    </tr>\n",
       "  </tbody>\n",
       "</table>\n",
       "</div>"
      ],
      "text/plain": [
       "                                                    text  \\\n",
       "25299  RT @sashatimofeevax: \"Зачем нам насиловать укр...   \n",
       "8448   RT @i_army_org: Последствия вступления в НАТО ...   \n",
       "3616   RT @rianru: Киев хочет обратиться к Москве с т...   \n",
       "14869  RT @KattieBanned: @prostotak182 @hUDhfnQFzM65l...   \n",
       "5844   @christogrozev Знаете, у кого ТОЧНО ОФИЦИАЛЬНО...   \n",
       "20694  RT @ttt_mir_no: @stranabolna предлагает забаст...   \n",
       "8535   RT @globusnewsorg: Премьер-министр Финляндии з...   \n",
       "12803  RT @nastyabakulina_: Этой империи нужен и Киев...   \n",
       "19178  RT @KermlinRussia: В конце апреля агрессивный ...   \n",
       "23972  RT @anders_aslund: в ожидании битвы за Донбасс...   \n",
       "\n",
       "                                              text_clean       toxic_proba  \\\n",
       "25299  зачем нам насиловать украинок?- возмутились ру...        [0.4, 0.6]   \n",
       "8448   последствия вступления в нато очевидны - это б...      [0.84, 0.16]   \n",
       "3616   киев хочет обратиться к москве с требованием в...        [0.8, 0.2]   \n",
       "14869  то, что спецоперация по захвату власти в украи...      [0.48, 0.52]   \n",
       "5844   знаете, у кого точно официально % есть точка-у...      [0.88, 0.12]   \n",
       "20694  предлагает забастовку в виде синхронных больни...      [0.96, 0.04]   \n",
       "8535   премьер-министр финляндии заявила о вступлении...      [0.94, 0.06]   \n",
       "12803  этой империи нужен и киев, и крым.может быть я...        [0.7, 0.3]   \n",
       "19178  в конце апреля агрессивный блок нато планирует...  [0.6825, 0.3175]   \n",
       "23972  в ожидании битвы за донбасс борьба в кремле пр...        [0.4, 0.6]   \n",
       "\n",
       "       toxic  \n",
       "25299      1  \n",
       "8448       0  \n",
       "3616       0  \n",
       "14869      1  \n",
       "5844       0  \n",
       "20694      0  \n",
       "8535       0  \n",
       "12803      0  \n",
       "19178      0  \n",
       "23972      1  "
      ]
     },
     "execution_count": 33,
     "metadata": {},
     "output_type": "execute_result"
    }
   ],
   "source": [
    "df[['text', 'text_clean', 'toxic_proba', 'toxic']].sample(10)"
   ]
  },
  {
   "cell_type": "code",
   "execution_count": null,
   "id": "1c13e8ba",
   "metadata": {},
   "outputs": [],
   "source": []
  },
  {
   "cell_type": "code",
   "execution_count": null,
   "id": "326cd463",
   "metadata": {},
   "outputs": [],
   "source": []
  }
 ],
 "metadata": {
  "kernelspec": {
   "display_name": "Python 3 (ipykernel)",
   "language": "python",
   "name": "python3"
  },
  "language_info": {
   "codemirror_mode": {
    "name": "ipython",
    "version": 3
   },
   "file_extension": ".py",
   "mimetype": "text/x-python",
   "name": "python",
   "nbconvert_exporter": "python",
   "pygments_lexer": "ipython3",
   "version": "3.9.7"
  },
  "toc": {
   "base_numbering": 1,
   "nav_menu": {},
   "number_sections": true,
   "sideBar": true,
   "skip_h1_title": false,
   "title_cell": "Table of Contents",
   "title_sidebar": "Contents",
   "toc_cell": false,
   "toc_position": {
    "height": "calc(100% - 180px)",
    "left": "10px",
    "top": "150px",
    "width": "302.398px"
   },
   "toc_section_display": true,
   "toc_window_display": true
  }
 },
 "nbformat": 4,
 "nbformat_minor": 5
}
